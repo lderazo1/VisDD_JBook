{
 "cells": [
  {
   "cell_type": "markdown",
   "metadata": {},
   "source": [
    "<img src=\"https://www.utpl.edu.ec/manual_imagen/images/institucional/UTPL-INSTITUCIONAL-color.jpg\" style = \"width:510px;height:180px\">"
   ]
  },
  {
   "cell_type": "markdown",
   "metadata": {
    "slideshow": {
     "slide_type": "-"
    }
   },
   "source": [
    "<H1 style=\"text-align: center;\"> Uso Librería Bokeh </H1>"
   ]
  },
  {
   "cell_type": "markdown",
   "metadata": {},
   "source": [
    "<p style=\"text-align: justify;\">Bokeh es una biblioteca de visualización interactiva de Python que se dirige a los navegadores web modernos para la presentación. Su objetivo es proporcionar una construcción elegante y concisa de gráficos novedosos al estilo de D3.js, y extender esta capacidad con interactividad de alto rendimiento en conjuntos de datos muy grandes o de transmisión por secuencias.<br>Bokeh puede ayudar a cualquier persona que desee crear de forma rápida y sencilla gráficos interactivos, paneles de control y aplicaciones de datos.</p>"
   ]
  },
  {
   "cell_type": "code",
   "execution_count": 1,
   "metadata": {},
   "outputs": [
    {
     "data": {
      "text/html": [
       "\n",
       "    <div class=\"bk-root\">\n",
       "        <a href=\"https://bokeh.pydata.org\" target=\"_blank\" class=\"bk-logo bk-logo-small bk-logo-notebook\"></a>\n",
       "        <span id=\"1001\">Loading BokehJS ...</span>\n",
       "    </div>"
      ]
     },
     "metadata": {},
     "output_type": "display_data"
    },
    {
     "data": {
      "application/javascript": [
       "\n",
       "(function(root) {\n",
       "  function now() {\n",
       "    return new Date();\n",
       "  }\n",
       "\n",
       "  var force = true;\n",
       "\n",
       "  if (typeof root._bokeh_onload_callbacks === \"undefined\" || force === true) {\n",
       "    root._bokeh_onload_callbacks = [];\n",
       "    root._bokeh_is_loading = undefined;\n",
       "  }\n",
       "\n",
       "  var JS_MIME_TYPE = 'application/javascript';\n",
       "  var HTML_MIME_TYPE = 'text/html';\n",
       "  var EXEC_MIME_TYPE = 'application/vnd.bokehjs_exec.v0+json';\n",
       "  var CLASS_NAME = 'output_bokeh rendered_html';\n",
       "\n",
       "  /**\n",
       "   * Render data to the DOM node\n",
       "   */\n",
       "  function render(props, node) {\n",
       "    var script = document.createElement(\"script\");\n",
       "    node.appendChild(script);\n",
       "  }\n",
       "\n",
       "  /**\n",
       "   * Handle when an output is cleared or removed\n",
       "   */\n",
       "  function handleClearOutput(event, handle) {\n",
       "    var cell = handle.cell;\n",
       "\n",
       "    var id = cell.output_area._bokeh_element_id;\n",
       "    var server_id = cell.output_area._bokeh_server_id;\n",
       "    // Clean up Bokeh references\n",
       "    if (id != null && id in Bokeh.index) {\n",
       "      Bokeh.index[id].model.document.clear();\n",
       "      delete Bokeh.index[id];\n",
       "    }\n",
       "\n",
       "    if (server_id !== undefined) {\n",
       "      // Clean up Bokeh references\n",
       "      var cmd = \"from bokeh.io.state import curstate; print(curstate().uuid_to_server['\" + server_id + \"'].get_sessions()[0].document.roots[0]._id)\";\n",
       "      cell.notebook.kernel.execute(cmd, {\n",
       "        iopub: {\n",
       "          output: function(msg) {\n",
       "            var id = msg.content.text.trim();\n",
       "            if (id in Bokeh.index) {\n",
       "              Bokeh.index[id].model.document.clear();\n",
       "              delete Bokeh.index[id];\n",
       "            }\n",
       "          }\n",
       "        }\n",
       "      });\n",
       "      // Destroy server and session\n",
       "      var cmd = \"import bokeh.io.notebook as ion; ion.destroy_server('\" + server_id + \"')\";\n",
       "      cell.notebook.kernel.execute(cmd);\n",
       "    }\n",
       "  }\n",
       "\n",
       "  /**\n",
       "   * Handle when a new output is added\n",
       "   */\n",
       "  function handleAddOutput(event, handle) {\n",
       "    var output_area = handle.output_area;\n",
       "    var output = handle.output;\n",
       "\n",
       "    // limit handleAddOutput to display_data with EXEC_MIME_TYPE content only\n",
       "    if ((output.output_type != \"display_data\") || (!output.data.hasOwnProperty(EXEC_MIME_TYPE))) {\n",
       "      return\n",
       "    }\n",
       "\n",
       "    var toinsert = output_area.element.find(\".\" + CLASS_NAME.split(' ')[0]);\n",
       "\n",
       "    if (output.metadata[EXEC_MIME_TYPE][\"id\"] !== undefined) {\n",
       "      toinsert[toinsert.length - 1].firstChild.textContent = output.data[JS_MIME_TYPE];\n",
       "      // store reference to embed id on output_area\n",
       "      output_area._bokeh_element_id = output.metadata[EXEC_MIME_TYPE][\"id\"];\n",
       "    }\n",
       "    if (output.metadata[EXEC_MIME_TYPE][\"server_id\"] !== undefined) {\n",
       "      var bk_div = document.createElement(\"div\");\n",
       "      bk_div.innerHTML = output.data[HTML_MIME_TYPE];\n",
       "      var script_attrs = bk_div.children[0].attributes;\n",
       "      for (var i = 0; i < script_attrs.length; i++) {\n",
       "        toinsert[toinsert.length - 1].firstChild.setAttribute(script_attrs[i].name, script_attrs[i].value);\n",
       "      }\n",
       "      // store reference to server id on output_area\n",
       "      output_area._bokeh_server_id = output.metadata[EXEC_MIME_TYPE][\"server_id\"];\n",
       "    }\n",
       "  }\n",
       "\n",
       "  function register_renderer(events, OutputArea) {\n",
       "\n",
       "    function append_mime(data, metadata, element) {\n",
       "      // create a DOM node to render to\n",
       "      var toinsert = this.create_output_subarea(\n",
       "        metadata,\n",
       "        CLASS_NAME,\n",
       "        EXEC_MIME_TYPE\n",
       "      );\n",
       "      this.keyboard_manager.register_events(toinsert);\n",
       "      // Render to node\n",
       "      var props = {data: data, metadata: metadata[EXEC_MIME_TYPE]};\n",
       "      render(props, toinsert[toinsert.length - 1]);\n",
       "      element.append(toinsert);\n",
       "      return toinsert\n",
       "    }\n",
       "\n",
       "    /* Handle when an output is cleared or removed */\n",
       "    events.on('clear_output.CodeCell', handleClearOutput);\n",
       "    events.on('delete.Cell', handleClearOutput);\n",
       "\n",
       "    /* Handle when a new output is added */\n",
       "    events.on('output_added.OutputArea', handleAddOutput);\n",
       "\n",
       "    /**\n",
       "     * Register the mime type and append_mime function with output_area\n",
       "     */\n",
       "    OutputArea.prototype.register_mime_type(EXEC_MIME_TYPE, append_mime, {\n",
       "      /* Is output safe? */\n",
       "      safe: true,\n",
       "      /* Index of renderer in `output_area.display_order` */\n",
       "      index: 0\n",
       "    });\n",
       "  }\n",
       "\n",
       "  // register the mime type if in Jupyter Notebook environment and previously unregistered\n",
       "  if (root.Jupyter !== undefined) {\n",
       "    var events = require('base/js/events');\n",
       "    var OutputArea = require('notebook/js/outputarea').OutputArea;\n",
       "\n",
       "    if (OutputArea.prototype.mime_types().indexOf(EXEC_MIME_TYPE) == -1) {\n",
       "      register_renderer(events, OutputArea);\n",
       "    }\n",
       "  }\n",
       "\n",
       "  \n",
       "  if (typeof (root._bokeh_timeout) === \"undefined\" || force === true) {\n",
       "    root._bokeh_timeout = Date.now() + 5000;\n",
       "    root._bokeh_failed_load = false;\n",
       "  }\n",
       "\n",
       "  var NB_LOAD_WARNING = {'data': {'text/html':\n",
       "     \"<div style='background-color: #fdd'>\\n\"+\n",
       "     \"<p>\\n\"+\n",
       "     \"BokehJS does not appear to have successfully loaded. If loading BokehJS from CDN, this \\n\"+\n",
       "     \"may be due to a slow or bad network connection. Possible fixes:\\n\"+\n",
       "     \"</p>\\n\"+\n",
       "     \"<ul>\\n\"+\n",
       "     \"<li>re-rerun `output_notebook()` to attempt to load from CDN again, or</li>\\n\"+\n",
       "     \"<li>use INLINE resources instead, as so:</li>\\n\"+\n",
       "     \"</ul>\\n\"+\n",
       "     \"<code>\\n\"+\n",
       "     \"from bokeh.resources import INLINE\\n\"+\n",
       "     \"output_notebook(resources=INLINE)\\n\"+\n",
       "     \"</code>\\n\"+\n",
       "     \"</div>\"}};\n",
       "\n",
       "  function display_loaded() {\n",
       "    var el = document.getElementById(\"1001\");\n",
       "    if (el != null) {\n",
       "      el.textContent = \"BokehJS is loading...\";\n",
       "    }\n",
       "    if (root.Bokeh !== undefined) {\n",
       "      if (el != null) {\n",
       "        el.textContent = \"BokehJS \" + root.Bokeh.version + \" successfully loaded.\";\n",
       "      }\n",
       "    } else if (Date.now() < root._bokeh_timeout) {\n",
       "      setTimeout(display_loaded, 100)\n",
       "    }\n",
       "  }\n",
       "\n",
       "\n",
       "  function run_callbacks() {\n",
       "    try {\n",
       "      root._bokeh_onload_callbacks.forEach(function(callback) {\n",
       "        if (callback != null)\n",
       "          callback();\n",
       "      });\n",
       "    } finally {\n",
       "      delete root._bokeh_onload_callbacks\n",
       "    }\n",
       "    console.debug(\"Bokeh: all callbacks have finished\");\n",
       "  }\n",
       "\n",
       "  function load_libs(css_urls, js_urls, callback) {\n",
       "    if (css_urls == null) css_urls = [];\n",
       "    if (js_urls == null) js_urls = [];\n",
       "\n",
       "    root._bokeh_onload_callbacks.push(callback);\n",
       "    if (root._bokeh_is_loading > 0) {\n",
       "      console.debug(\"Bokeh: BokehJS is being loaded, scheduling callback at\", now());\n",
       "      return null;\n",
       "    }\n",
       "    if (js_urls == null || js_urls.length === 0) {\n",
       "      run_callbacks();\n",
       "      return null;\n",
       "    }\n",
       "    console.debug(\"Bokeh: BokehJS not loaded, scheduling load and callback at\", now());\n",
       "    root._bokeh_is_loading = css_urls.length + js_urls.length;\n",
       "\n",
       "    function on_load() {\n",
       "      root._bokeh_is_loading--;\n",
       "      if (root._bokeh_is_loading === 0) {\n",
       "        console.debug(\"Bokeh: all BokehJS libraries/stylesheets loaded\");\n",
       "        run_callbacks()\n",
       "      }\n",
       "    }\n",
       "\n",
       "    function on_error() {\n",
       "      console.error(\"failed to load \" + url);\n",
       "    }\n",
       "\n",
       "    for (var i = 0; i < css_urls.length; i++) {\n",
       "      var url = css_urls[i];\n",
       "      const element = document.createElement(\"link\");\n",
       "      element.onload = on_load;\n",
       "      element.onerror = on_error;\n",
       "      element.rel = \"stylesheet\";\n",
       "      element.type = \"text/css\";\n",
       "      element.href = url;\n",
       "      console.debug(\"Bokeh: injecting link tag for BokehJS stylesheet: \", url);\n",
       "      document.body.appendChild(element);\n",
       "    }\n",
       "\n",
       "    for (var i = 0; i < js_urls.length; i++) {\n",
       "      var url = js_urls[i];\n",
       "      var element = document.createElement('script');\n",
       "      element.onload = on_load;\n",
       "      element.onerror = on_error;\n",
       "      element.async = false;\n",
       "      element.src = url;\n",
       "      console.debug(\"Bokeh: injecting script tag for BokehJS library: \", url);\n",
       "      document.head.appendChild(element);\n",
       "    }\n",
       "  };var element = document.getElementById(\"1001\");\n",
       "  if (element == null) {\n",
       "    console.error(\"Bokeh: ERROR: autoload.js configured with elementid '1001' but no matching script tag was found. \")\n",
       "    return false;\n",
       "  }\n",
       "\n",
       "  function inject_raw_css(css) {\n",
       "    const element = document.createElement(\"style\");\n",
       "    element.appendChild(document.createTextNode(css));\n",
       "    document.body.appendChild(element);\n",
       "  }\n",
       "\n",
       "  var js_urls = [\"https://cdn.pydata.org/bokeh/release/bokeh-1.3.0.min.js\", \"https://cdn.pydata.org/bokeh/release/bokeh-widgets-1.3.0.min.js\", \"https://cdn.pydata.org/bokeh/release/bokeh-tables-1.3.0.min.js\", \"https://cdn.pydata.org/bokeh/release/bokeh-gl-1.3.0.min.js\"];\n",
       "  var css_urls = [];\n",
       "\n",
       "  var inline_js = [\n",
       "    function(Bokeh) {\n",
       "      Bokeh.set_log_level(\"info\");\n",
       "    },\n",
       "    \n",
       "    function(Bokeh) {\n",
       "      \n",
       "    },\n",
       "    function(Bokeh) {} // ensure no trailing comma for IE\n",
       "  ];\n",
       "\n",
       "  function run_inline_js() {\n",
       "    \n",
       "    if ((root.Bokeh !== undefined) || (force === true)) {\n",
       "      for (var i = 0; i < inline_js.length; i++) {\n",
       "        inline_js[i].call(root, root.Bokeh);\n",
       "      }if (force === true) {\n",
       "        display_loaded();\n",
       "      }} else if (Date.now() < root._bokeh_timeout) {\n",
       "      setTimeout(run_inline_js, 100);\n",
       "    } else if (!root._bokeh_failed_load) {\n",
       "      console.log(\"Bokeh: BokehJS failed to load within specified timeout.\");\n",
       "      root._bokeh_failed_load = true;\n",
       "    } else if (force !== true) {\n",
       "      var cell = $(document.getElementById(\"1001\")).parents('.cell').data().cell;\n",
       "      cell.output_area.append_execute_result(NB_LOAD_WARNING)\n",
       "    }\n",
       "\n",
       "  }\n",
       "\n",
       "  if (root._bokeh_is_loading === 0) {\n",
       "    console.debug(\"Bokeh: BokehJS loaded, going straight to plotting\");\n",
       "    run_inline_js();\n",
       "  } else {\n",
       "    load_libs(css_urls, js_urls, function() {\n",
       "      console.debug(\"Bokeh: BokehJS plotting callback run at\", now());\n",
       "      run_inline_js();\n",
       "    });\n",
       "  }\n",
       "}(window));"
      ],
      "application/vnd.bokehjs_load.v0+json": "\n(function(root) {\n  function now() {\n    return new Date();\n  }\n\n  var force = true;\n\n  if (typeof root._bokeh_onload_callbacks === \"undefined\" || force === true) {\n    root._bokeh_onload_callbacks = [];\n    root._bokeh_is_loading = undefined;\n  }\n\n  \n\n  \n  if (typeof (root._bokeh_timeout) === \"undefined\" || force === true) {\n    root._bokeh_timeout = Date.now() + 5000;\n    root._bokeh_failed_load = false;\n  }\n\n  var NB_LOAD_WARNING = {'data': {'text/html':\n     \"<div style='background-color: #fdd'>\\n\"+\n     \"<p>\\n\"+\n     \"BokehJS does not appear to have successfully loaded. If loading BokehJS from CDN, this \\n\"+\n     \"may be due to a slow or bad network connection. Possible fixes:\\n\"+\n     \"</p>\\n\"+\n     \"<ul>\\n\"+\n     \"<li>re-rerun `output_notebook()` to attempt to load from CDN again, or</li>\\n\"+\n     \"<li>use INLINE resources instead, as so:</li>\\n\"+\n     \"</ul>\\n\"+\n     \"<code>\\n\"+\n     \"from bokeh.resources import INLINE\\n\"+\n     \"output_notebook(resources=INLINE)\\n\"+\n     \"</code>\\n\"+\n     \"</div>\"}};\n\n  function display_loaded() {\n    var el = document.getElementById(\"1001\");\n    if (el != null) {\n      el.textContent = \"BokehJS is loading...\";\n    }\n    if (root.Bokeh !== undefined) {\n      if (el != null) {\n        el.textContent = \"BokehJS \" + root.Bokeh.version + \" successfully loaded.\";\n      }\n    } else if (Date.now() < root._bokeh_timeout) {\n      setTimeout(display_loaded, 100)\n    }\n  }\n\n\n  function run_callbacks() {\n    try {\n      root._bokeh_onload_callbacks.forEach(function(callback) {\n        if (callback != null)\n          callback();\n      });\n    } finally {\n      delete root._bokeh_onload_callbacks\n    }\n    console.debug(\"Bokeh: all callbacks have finished\");\n  }\n\n  function load_libs(css_urls, js_urls, callback) {\n    if (css_urls == null) css_urls = [];\n    if (js_urls == null) js_urls = [];\n\n    root._bokeh_onload_callbacks.push(callback);\n    if (root._bokeh_is_loading > 0) {\n      console.debug(\"Bokeh: BokehJS is being loaded, scheduling callback at\", now());\n      return null;\n    }\n    if (js_urls == null || js_urls.length === 0) {\n      run_callbacks();\n      return null;\n    }\n    console.debug(\"Bokeh: BokehJS not loaded, scheduling load and callback at\", now());\n    root._bokeh_is_loading = css_urls.length + js_urls.length;\n\n    function on_load() {\n      root._bokeh_is_loading--;\n      if (root._bokeh_is_loading === 0) {\n        console.debug(\"Bokeh: all BokehJS libraries/stylesheets loaded\");\n        run_callbacks()\n      }\n    }\n\n    function on_error() {\n      console.error(\"failed to load \" + url);\n    }\n\n    for (var i = 0; i < css_urls.length; i++) {\n      var url = css_urls[i];\n      const element = document.createElement(\"link\");\n      element.onload = on_load;\n      element.onerror = on_error;\n      element.rel = \"stylesheet\";\n      element.type = \"text/css\";\n      element.href = url;\n      console.debug(\"Bokeh: injecting link tag for BokehJS stylesheet: \", url);\n      document.body.appendChild(element);\n    }\n\n    for (var i = 0; i < js_urls.length; i++) {\n      var url = js_urls[i];\n      var element = document.createElement('script');\n      element.onload = on_load;\n      element.onerror = on_error;\n      element.async = false;\n      element.src = url;\n      console.debug(\"Bokeh: injecting script tag for BokehJS library: \", url);\n      document.head.appendChild(element);\n    }\n  };var element = document.getElementById(\"1001\");\n  if (element == null) {\n    console.error(\"Bokeh: ERROR: autoload.js configured with elementid '1001' but no matching script tag was found. \")\n    return false;\n  }\n\n  function inject_raw_css(css) {\n    const element = document.createElement(\"style\");\n    element.appendChild(document.createTextNode(css));\n    document.body.appendChild(element);\n  }\n\n  var js_urls = [\"https://cdn.pydata.org/bokeh/release/bokeh-1.3.0.min.js\", \"https://cdn.pydata.org/bokeh/release/bokeh-widgets-1.3.0.min.js\", \"https://cdn.pydata.org/bokeh/release/bokeh-tables-1.3.0.min.js\", \"https://cdn.pydata.org/bokeh/release/bokeh-gl-1.3.0.min.js\"];\n  var css_urls = [];\n\n  var inline_js = [\n    function(Bokeh) {\n      Bokeh.set_log_level(\"info\");\n    },\n    \n    function(Bokeh) {\n      \n    },\n    function(Bokeh) {} // ensure no trailing comma for IE\n  ];\n\n  function run_inline_js() {\n    \n    if ((root.Bokeh !== undefined) || (force === true)) {\n      for (var i = 0; i < inline_js.length; i++) {\n        inline_js[i].call(root, root.Bokeh);\n      }if (force === true) {\n        display_loaded();\n      }} else if (Date.now() < root._bokeh_timeout) {\n      setTimeout(run_inline_js, 100);\n    } else if (!root._bokeh_failed_load) {\n      console.log(\"Bokeh: BokehJS failed to load within specified timeout.\");\n      root._bokeh_failed_load = true;\n    } else if (force !== true) {\n      var cell = $(document.getElementById(\"1001\")).parents('.cell').data().cell;\n      cell.output_area.append_execute_result(NB_LOAD_WARNING)\n    }\n\n  }\n\n  if (root._bokeh_is_loading === 0) {\n    console.debug(\"Bokeh: BokehJS loaded, going straight to plotting\");\n    run_inline_js();\n  } else {\n    load_libs(css_urls, js_urls, function() {\n      console.debug(\"Bokeh: BokehJS plotting callback run at\", now());\n      run_inline_js();\n    });\n  }\n}(window));"
     },
     "metadata": {},
     "output_type": "display_data"
    }
   ],
   "source": [
    "import numpy as np\n",
    "import pandas as pd\n",
    "from bokeh.layouts import gridplot\n",
    "from bokeh.plotting import figure\n",
    "from bokeh.io import push_notebook, show, output_notebook\n",
    "from bokeh.resources import INLINE\n",
    "from bokeh.models import ColumnDataSource\n",
    "from bokeh.palettes import Spectral6\n",
    "from bokeh.transform import factor_cmap\n",
    "output_notebook()"
   ]
  },
  {
   "cell_type": "markdown",
   "metadata": {},
   "source": [
    "<p style=\"text-align: justify;\">Lectura Archivo</p>"
   ]
  },
  {
   "cell_type": "code",
   "execution_count": 2,
   "metadata": {},
   "outputs": [],
   "source": [
    "df = pd.read_json('DATA/biblio.json')"
   ]
  },
  {
   "cell_type": "markdown",
   "metadata": {},
   "source": [
    "<p style=\"text-align: justify;\">El presente documento hace referencia a la estadística general de la Bibliografía Española en Línea</p>"
   ]
  },
  {
   "cell_type": "code",
   "execution_count": 3,
   "metadata": {},
   "outputs": [
    {
     "data": {
      "text/html": [
       "<div>\n",
       "<style scoped>\n",
       "    .dataframe tbody tr th:only-of-type {\n",
       "        vertical-align: middle;\n",
       "    }\n",
       "\n",
       "    .dataframe tbody tr th {\n",
       "        vertical-align: top;\n",
       "    }\n",
       "\n",
       "    .dataframe thead th {\n",
       "        text-align: right;\n",
       "    }\n",
       "</style>\n",
       "<table border=\"1\" class=\"dataframe\">\n",
       "  <thead>\n",
       "    <tr style=\"text-align: right;\">\n",
       "      <th></th>\n",
       "      <th>Cartografia</th>\n",
       "      <th>Monografias</th>\n",
       "      <th>Musica_impresa</th>\n",
       "      <th>Periodo</th>\n",
       "      <th>Pub_periodicas</th>\n",
       "      <th>Subtotal</th>\n",
       "    </tr>\n",
       "  </thead>\n",
       "  <tbody>\n",
       "    <tr>\n",
       "      <th>0</th>\n",
       "      <td>0.000</td>\n",
       "      <td>0.000</td>\n",
       "      <td>0.000</td>\n",
       "      <td>2006</td>\n",
       "      <td>2.421</td>\n",
       "      <td>2.421</td>\n",
       "    </tr>\n",
       "    <tr>\n",
       "      <th>1</th>\n",
       "      <td>1.426</td>\n",
       "      <td>61.105</td>\n",
       "      <td>3.377</td>\n",
       "      <td>2007</td>\n",
       "      <td>1.803</td>\n",
       "      <td>67.711</td>\n",
       "    </tr>\n",
       "    <tr>\n",
       "      <th>2</th>\n",
       "      <td>1.273</td>\n",
       "      <td>68.232</td>\n",
       "      <td>3.222</td>\n",
       "      <td>2008</td>\n",
       "      <td>2.203</td>\n",
       "      <td>74.930</td>\n",
       "    </tr>\n",
       "    <tr>\n",
       "      <th>3</th>\n",
       "      <td>1.892</td>\n",
       "      <td>92.294</td>\n",
       "      <td>3.278</td>\n",
       "      <td>2009</td>\n",
       "      <td>2.301</td>\n",
       "      <td>99.765</td>\n",
       "    </tr>\n",
       "    <tr>\n",
       "      <th>4</th>\n",
       "      <td>1.965</td>\n",
       "      <td>86.400</td>\n",
       "      <td>3.403</td>\n",
       "      <td>2010</td>\n",
       "      <td>1.899</td>\n",
       "      <td>93.667</td>\n",
       "    </tr>\n",
       "  </tbody>\n",
       "</table>\n",
       "</div>"
      ],
      "text/plain": [
       "   Cartografia  Monografias  Musica_impresa  Periodo  Pub_periodicas  Subtotal\n",
       "0        0.000        0.000           0.000     2006           2.421     2.421\n",
       "1        1.426       61.105           3.377     2007           1.803    67.711\n",
       "2        1.273       68.232           3.222     2008           2.203    74.930\n",
       "3        1.892       92.294           3.278     2009           2.301    99.765\n",
       "4        1.965       86.400           3.403     2010           1.899    93.667"
      ]
     },
     "execution_count": 3,
     "metadata": {},
     "output_type": "execute_result"
    }
   ],
   "source": [
    "df.head()"
   ]
  },
  {
   "cell_type": "markdown",
   "metadata": {},
   "source": [
    "<p style=\"text-align: justify;\"><b>Fuente: </b>Archivo de la Web Española: Comunidad Autónoma de Aragón. [Conjunto de datos]. Versión de enero de 2019.<br><b>URL: </b><a>https://datos.gob.es/es/catalogo/e00123904-archivo-de-la-web-espanola-comunidad-autonoma-de-aragon</a></p>"
   ]
  },
  {
   "cell_type": "code",
   "execution_count": 4,
   "metadata": {},
   "outputs": [
    {
     "data": {
      "text/plain": [
       "Index([u'Cartografia', u'Monografias', u'Musica_impresa', u'Periodo',\n",
       "       u'Pub_periodicas', u'Subtotal'],\n",
       "      dtype='object')"
      ]
     },
     "execution_count": 4,
     "metadata": {},
     "output_type": "execute_result"
    }
   ],
   "source": [
    "df.keys()"
   ]
  },
  {
   "cell_type": "markdown",
   "metadata": {},
   "source": [
    "<p style=\"text-align: justify;\">Creación de figura</p>"
   ]
  },
  {
   "cell_type": "code",
   "execution_count": 5,
   "metadata": {},
   "outputs": [
    {
     "data": {
      "text/plain": [
       "[u'Pub_periodicas',\n",
       " u'Periodo',\n",
       " u'Monografias',\n",
       " u'Musica_impresa',\n",
       " u'Cartografia',\n",
       " u'Subtotal']"
      ]
     },
     "execution_count": 5,
     "metadata": {},
     "output_type": "execute_result"
    }
   ],
   "source": [
    "df = df.sort_index(level=[1,0])\n",
    "data = df.to_dict(orient='list')\n",
    "data.keys()"
   ]
  },
  {
   "cell_type": "markdown",
   "metadata": {},
   "source": [
    "<H2 style=\"text-align: center;\">Gráfico de Barras</H2>"
   ]
  },
  {
   "cell_type": "code",
   "execution_count": 6,
   "metadata": {},
   "outputs": [
    {
     "data": {
      "text/html": [
       "\n",
       "\n",
       "\n",
       "\n",
       "\n",
       "\n",
       "  <div class=\"bk-root\" id=\"868af153-857e-4756-ab66-eaab940b796d\" data-root-id=\"1002\"></div>\n"
      ]
     },
     "metadata": {},
     "output_type": "display_data"
    },
    {
     "data": {
      "application/javascript": [
       "(function(root) {\n",
       "  function embed_document(root) {\n",
       "    \n",
       "  var docs_json = {\"3ca17a8f-f952-4f31-9f83-064b7a69016a\":{\"roots\":{\"references\":[{\"attributes\":{\"fill_alpha\":{\"value\":0.1},\"fill_color\":{\"value\":\"#1f77b4\"},\"line_alpha\":{\"value\":0.1},\"line_color\":{\"value\":\"#1f77b4\"},\"top\":{\"field\":\"top\"},\"width\":{\"value\":0.9},\"x\":{\"field\":\"x\"}},\"id\":\"1038\",\"type\":\"VBar\"},{\"attributes\":{\"data_source\":{\"id\":\"1036\",\"type\":\"ColumnDataSource\"},\"glyph\":{\"id\":\"1037\",\"type\":\"VBar\"},\"hover_glyph\":null,\"muted_glyph\":null,\"nonselection_glyph\":{\"id\":\"1038\",\"type\":\"VBar\"},\"selection_glyph\":null,\"view\":{\"id\":\"1040\",\"type\":\"CDSView\"}},\"id\":\"1039\",\"type\":\"GlyphRenderer\"},{\"attributes\":{\"formatter\":{\"id\":\"1045\",\"type\":\"BasicTickFormatter\"},\"ticker\":{\"id\":\"1019\",\"type\":\"BasicTicker\"}},\"id\":\"1018\",\"type\":\"LinearAxis\"},{\"attributes\":{},\"id\":\"1019\",\"type\":\"BasicTicker\"},{\"attributes\":{},\"id\":\"1014\",\"type\":\"BasicTicker\"},{\"attributes\":{\"band_hatch_scale\":10,\"ticker\":{\"id\":\"1014\",\"type\":\"BasicTicker\"}},\"id\":\"1017\",\"type\":\"Grid\"},{\"attributes\":{\"callback\":null,\"data\":{\"top\":[2.421,67.711,74.93,99.765,93.667,71.855,74.123,62.63,58.826,58.967,48.625,35.948,6.074],\"x\":[2006,2007,2008,2009,2010,2011,2012,2013,2014,2015,2016,2017,2018]},\"selected\":{\"id\":\"1046\",\"type\":\"Selection\"},\"selection_policy\":{\"id\":\"1047\",\"type\":\"UnionRenderers\"}},\"id\":\"1036\",\"type\":\"ColumnDataSource\"},{\"attributes\":{},\"id\":\"1011\",\"type\":\"LinearScale\"},{\"attributes\":{\"formatter\":{\"id\":\"1043\",\"type\":\"BasicTickFormatter\"},\"ticker\":{\"id\":\"1014\",\"type\":\"BasicTicker\"}},\"id\":\"1013\",\"type\":\"LinearAxis\"},{\"attributes\":{},\"id\":\"1043\",\"type\":\"BasicTickFormatter\"},{\"attributes\":{},\"id\":\"1026\",\"type\":\"SaveTool\"},{\"attributes\":{\"overlay\":{\"id\":\"1048\",\"type\":\"BoxAnnotation\"}},\"id\":\"1025\",\"type\":\"BoxZoomTool\"},{\"attributes\":{},\"id\":\"1024\",\"type\":\"WheelZoomTool\"},{\"attributes\":{},\"id\":\"1027\",\"type\":\"ResetTool\"},{\"attributes\":{\"source\":{\"id\":\"1036\",\"type\":\"ColumnDataSource\"}},\"id\":\"1040\",\"type\":\"CDSView\"},{\"attributes\":{},\"id\":\"1047\",\"type\":\"UnionRenderers\"},{\"attributes\":{},\"id\":\"1046\",\"type\":\"Selection\"},{\"attributes\":{},\"id\":\"1045\",\"type\":\"BasicTickFormatter\"},{\"attributes\":{\"dimension\":1,\"ticker\":{\"id\":\"1019\",\"type\":\"BasicTicker\"}},\"id\":\"1022\",\"type\":\"Grid\"},{\"attributes\":{\"bottom_units\":\"screen\",\"fill_alpha\":{\"value\":0.5},\"fill_color\":{\"value\":\"lightgrey\"},\"left_units\":\"screen\",\"level\":\"overlay\",\"line_alpha\":{\"value\":1.0},\"line_color\":{\"value\":\"black\"},\"line_dash\":[4,4],\"line_width\":{\"value\":2},\"render_mode\":\"css\",\"right_units\":\"screen\",\"top_units\":\"screen\"},\"id\":\"1048\",\"type\":\"BoxAnnotation\"},{\"attributes\":{\"active_drag\":\"auto\",\"active_inspect\":\"auto\",\"active_multi\":null,\"active_scroll\":\"auto\",\"active_tap\":\"auto\",\"tools\":[{\"id\":\"1023\",\"type\":\"PanTool\"},{\"id\":\"1024\",\"type\":\"WheelZoomTool\"},{\"id\":\"1025\",\"type\":\"BoxZoomTool\"},{\"id\":\"1026\",\"type\":\"SaveTool\"},{\"id\":\"1027\",\"type\":\"ResetTool\"},{\"id\":\"1028\",\"type\":\"HelpTool\"}]},\"id\":\"1029\",\"type\":\"Toolbar\"},{\"attributes\":{},\"id\":\"1028\",\"type\":\"HelpTool\"},{\"attributes\":{\"fill_color\":{\"value\":\"#B3DE99\"},\"line_color\":{\"value\":\"#B3DE99\"},\"top\":{\"field\":\"top\"},\"width\":{\"value\":0.9},\"x\":{\"field\":\"x\"}},\"id\":\"1037\",\"type\":\"VBar\"},{\"attributes\":{},\"id\":\"1023\",\"type\":\"PanTool\"},{\"attributes\":{},\"id\":\"1009\",\"type\":\"LinearScale\"},{\"attributes\":{\"callback\":null},\"id\":\"1007\",\"type\":\"DataRange1d\"},{\"attributes\":{\"callback\":null},\"id\":\"1005\",\"type\":\"DataRange1d\"},{\"attributes\":{\"text\":\"Seguimiento de Bibliograf\\u00eda Nacional\"},\"id\":\"1003\",\"type\":\"Title\"},{\"attributes\":{\"below\":[{\"id\":\"1013\",\"type\":\"LinearAxis\"}],\"center\":[{\"id\":\"1017\",\"type\":\"Grid\"},{\"id\":\"1022\",\"type\":\"Grid\"}],\"left\":[{\"id\":\"1018\",\"type\":\"LinearAxis\"}],\"outline_line_alpha\":{\"value\":0.3},\"outline_line_color\":{\"value\":\"#B3DE69\"},\"outline_line_width\":{\"value\":7},\"plot_height\":350,\"renderers\":[{\"id\":\"1039\",\"type\":\"GlyphRenderer\"}],\"title\":{\"id\":\"1003\",\"type\":\"Title\"},\"toolbar\":{\"id\":\"1029\",\"type\":\"Toolbar\"},\"x_range\":{\"id\":\"1005\",\"type\":\"DataRange1d\"},\"x_scale\":{\"id\":\"1009\",\"type\":\"LinearScale\"},\"y_range\":{\"id\":\"1007\",\"type\":\"DataRange1d\"},\"y_scale\":{\"id\":\"1011\",\"type\":\"LinearScale\"}},\"id\":\"1002\",\"subtype\":\"Figure\",\"type\":\"Plot\"}],\"root_ids\":[\"1002\"]},\"title\":\"Bokeh Application\",\"version\":\"1.3.0\"}};\n",
       "  var render_items = [{\"docid\":\"3ca17a8f-f952-4f31-9f83-064b7a69016a\",\"roots\":{\"1002\":\"868af153-857e-4756-ab66-eaab940b796d\"}}];\n",
       "  root.Bokeh.embed.embed_items_notebook(docs_json, render_items);\n",
       "\n",
       "  }\n",
       "  if (root.Bokeh !== undefined) {\n",
       "    embed_document(root);\n",
       "  } else {\n",
       "    var attempts = 0;\n",
       "    var timer = setInterval(function(root) {\n",
       "      if (root.Bokeh !== undefined) {\n",
       "        embed_document(root);\n",
       "        clearInterval(timer);\n",
       "      }\n",
       "      attempts++;\n",
       "      if (attempts > 100) {\n",
       "        console.log(\"Bokeh: ERROR: Unable to run BokehJS code because BokehJS library is missing\");\n",
       "        clearInterval(timer);\n",
       "      }\n",
       "    }, 10, root)\n",
       "  }\n",
       "})(window);"
      ],
      "application/vnd.bokehjs_exec.v0+json": ""
     },
     "metadata": {
      "application/vnd.bokehjs_exec.v0+json": {
       "id": "1002"
      }
     },
     "output_type": "display_data"
    }
   ],
   "source": [
    "xb = data['Periodo']\n",
    "y = data['Subtotal']\n",
    "\n",
    "p = figure(plot_height=350, title = \"Seguimiento de Bibliografía Nacional\", )\n",
    "\n",
    "p.vbar(x= xb, top=y, width=0.9, color = \"#B3DE99\")\n",
    "\n",
    "p.outline_line_width = 7\n",
    "p.outline_line_alpha = 0.3\n",
    "p.outline_line_color = \"#B3DE69\"\n",
    "p.xgrid.band_hatch_scale = 10\n",
    "\n",
    "show(p)"
   ]
  },
  {
   "cell_type": "code",
   "execution_count": 7,
   "metadata": {},
   "outputs": [
    {
     "data": {
      "text/html": [
       "\n",
       "\n",
       "\n",
       "\n",
       "\n",
       "\n",
       "  <div class=\"bk-root\" id=\"d52ded7b-3c99-4a98-87b7-42c9c54db41d\" data-root-id=\"1097\"></div>\n"
      ]
     },
     "metadata": {},
     "output_type": "display_data"
    },
    {
     "data": {
      "application/javascript": [
       "(function(root) {\n",
       "  function embed_document(root) {\n",
       "    \n",
       "  var docs_json = {\"71a452d8-8d81-4209-a1b0-32acd156f2f5\":{\"roots\":{\"references\":[{\"attributes\":{},\"id\":\"1146\",\"type\":\"BasicTickFormatter\"},{\"attributes\":{\"overlay\":{\"id\":\"1151\",\"type\":\"BoxAnnotation\"}},\"id\":\"1120\",\"type\":\"BoxZoomTool\"},{\"attributes\":{},\"id\":\"1121\",\"type\":\"SaveTool\"},{\"attributes\":{},\"id\":\"1122\",\"type\":\"ResetTool\"},{\"attributes\":{},\"id\":\"1123\",\"type\":\"HelpTool\"},{\"attributes\":{\"active_drag\":\"auto\",\"active_inspect\":\"auto\",\"active_multi\":null,\"active_scroll\":\"auto\",\"active_tap\":\"auto\",\"tools\":[{\"id\":\"1118\",\"type\":\"PanTool\"},{\"id\":\"1119\",\"type\":\"WheelZoomTool\"},{\"id\":\"1120\",\"type\":\"BoxZoomTool\"},{\"id\":\"1121\",\"type\":\"SaveTool\"},{\"id\":\"1122\",\"type\":\"ResetTool\"},{\"id\":\"1123\",\"type\":\"HelpTool\"}]},\"id\":\"1124\",\"type\":\"Toolbar\"},{\"attributes\":{},\"id\":\"1106\",\"type\":\"LinearScale\"},{\"attributes\":{\"axis_label\":\"Publicaciones Periodicas\",\"formatter\":{\"id\":\"1148\",\"type\":\"BasicTickFormatter\"},\"ticker\":{\"id\":\"1114\",\"type\":\"BasicTicker\"}},\"id\":\"1113\",\"type\":\"LinearAxis\"},{\"attributes\":{\"band_hatch_scale\":10,\"ticker\":{\"id\":\"1109\",\"type\":\"BasicTicker\"}},\"id\":\"1112\",\"type\":\"Grid\"},{\"attributes\":{},\"id\":\"1114\",\"type\":\"BasicTicker\"},{\"attributes\":{\"dimension\":1,\"ticker\":{\"id\":\"1114\",\"type\":\"BasicTicker\"}},\"id\":\"1117\",\"type\":\"Grid\"},{\"attributes\":{\"fill_color\":{\"value\":\"#CFA7A7\"},\"line_color\":{\"value\":\"#CFA7A7\"},\"top\":{\"field\":\"top\"},\"width\":{\"value\":0.9},\"x\":{\"field\":\"x\"}},\"id\":\"1132\",\"type\":\"VBar\"},{\"attributes\":{},\"id\":\"1119\",\"type\":\"WheelZoomTool\"},{\"attributes\":{},\"id\":\"1118\",\"type\":\"PanTool\"},{\"attributes\":{},\"id\":\"1148\",\"type\":\"BasicTickFormatter\"},{\"attributes\":{\"below\":[{\"id\":\"1108\",\"type\":\"LinearAxis\"}],\"center\":[{\"id\":\"1112\",\"type\":\"Grid\"},{\"id\":\"1117\",\"type\":\"Grid\"}],\"left\":[{\"id\":\"1113\",\"type\":\"LinearAxis\"}],\"outline_line_alpha\":{\"value\":0.3},\"outline_line_color\":{\"value\":\"#CFA7A7\"},\"outline_line_width\":{\"value\":7},\"plot_height\":350,\"renderers\":[{\"id\":\"1134\",\"type\":\"GlyphRenderer\"}],\"title\":{\"id\":\"1098\",\"type\":\"Title\"},\"toolbar\":{\"id\":\"1124\",\"type\":\"Toolbar\"},\"x_range\":{\"id\":\"1100\",\"type\":\"DataRange1d\"},\"x_scale\":{\"id\":\"1104\",\"type\":\"LinearScale\"},\"y_range\":{\"id\":\"1102\",\"type\":\"DataRange1d\"},\"y_scale\":{\"id\":\"1106\",\"type\":\"LinearScale\"}},\"id\":\"1097\",\"subtype\":\"Figure\",\"type\":\"Plot\"},{\"attributes\":{\"fill_alpha\":{\"value\":0.1},\"fill_color\":{\"value\":\"#1f77b4\"},\"line_alpha\":{\"value\":0.1},\"line_color\":{\"value\":\"#1f77b4\"},\"top\":{\"field\":\"top\"},\"width\":{\"value\":0.9},\"x\":{\"field\":\"x\"}},\"id\":\"1133\",\"type\":\"VBar\"},{\"attributes\":{\"text\":\"Publicacines Peri\\u00f3dicos Bibliograf\\u00eda Nacional\"},\"id\":\"1098\",\"type\":\"Title\"},{\"attributes\":{\"callback\":null,\"data\":{\"top\":[2.421,1.803,2.203,2.301,1.899,1.222,894.0,1.151,1.009,690.0,928.0,863.0,1.02],\"x\":[2006,2007,2008,2009,2010,2011,2012,2013,2014,2015,2016,2017,2018]},\"selected\":{\"id\":\"1149\",\"type\":\"Selection\"},\"selection_policy\":{\"id\":\"1150\",\"type\":\"UnionRenderers\"}},\"id\":\"1131\",\"type\":\"ColumnDataSource\"},{\"attributes\":{\"bottom_units\":\"screen\",\"fill_alpha\":{\"value\":0.5},\"fill_color\":{\"value\":\"lightgrey\"},\"left_units\":\"screen\",\"level\":\"overlay\",\"line_alpha\":{\"value\":1.0},\"line_color\":{\"value\":\"black\"},\"line_dash\":[4,4],\"line_width\":{\"value\":2},\"render_mode\":\"css\",\"right_units\":\"screen\",\"top_units\":\"screen\"},\"id\":\"1151\",\"type\":\"BoxAnnotation\"},{\"attributes\":{},\"id\":\"1150\",\"type\":\"UnionRenderers\"},{\"attributes\":{\"source\":{\"id\":\"1131\",\"type\":\"ColumnDataSource\"}},\"id\":\"1135\",\"type\":\"CDSView\"},{\"attributes\":{\"data_source\":{\"id\":\"1131\",\"type\":\"ColumnDataSource\"},\"glyph\":{\"id\":\"1132\",\"type\":\"VBar\"},\"hover_glyph\":null,\"muted_glyph\":null,\"nonselection_glyph\":{\"id\":\"1133\",\"type\":\"VBar\"},\"selection_glyph\":null,\"view\":{\"id\":\"1135\",\"type\":\"CDSView\"}},\"id\":\"1134\",\"type\":\"GlyphRenderer\"},{\"attributes\":{},\"id\":\"1149\",\"type\":\"Selection\"},{\"attributes\":{},\"id\":\"1104\",\"type\":\"LinearScale\"},{\"attributes\":{\"callback\":null},\"id\":\"1102\",\"type\":\"DataRange1d\"},{\"attributes\":{\"callback\":null},\"id\":\"1100\",\"type\":\"DataRange1d\"},{\"attributes\":{\"axis_label\":\"Periodo\",\"formatter\":{\"id\":\"1146\",\"type\":\"BasicTickFormatter\"},\"ticker\":{\"id\":\"1109\",\"type\":\"BasicTicker\"}},\"id\":\"1108\",\"type\":\"LinearAxis\"},{\"attributes\":{},\"id\":\"1109\",\"type\":\"BasicTicker\"}],\"root_ids\":[\"1097\"]},\"title\":\"Bokeh Application\",\"version\":\"1.3.0\"}};\n",
       "  var render_items = [{\"docid\":\"71a452d8-8d81-4209-a1b0-32acd156f2f5\",\"roots\":{\"1097\":\"d52ded7b-3c99-4a98-87b7-42c9c54db41d\"}}];\n",
       "  root.Bokeh.embed.embed_items_notebook(docs_json, render_items);\n",
       "\n",
       "  }\n",
       "  if (root.Bokeh !== undefined) {\n",
       "    embed_document(root);\n",
       "  } else {\n",
       "    var attempts = 0;\n",
       "    var timer = setInterval(function(root) {\n",
       "      if (root.Bokeh !== undefined) {\n",
       "        embed_document(root);\n",
       "        clearInterval(timer);\n",
       "      }\n",
       "      attempts++;\n",
       "      if (attempts > 100) {\n",
       "        console.log(\"Bokeh: ERROR: Unable to run BokehJS code because BokehJS library is missing\");\n",
       "        clearInterval(timer);\n",
       "      }\n",
       "    }, 10, root)\n",
       "  }\n",
       "})(window);"
      ],
      "application/vnd.bokehjs_exec.v0+json": ""
     },
     "metadata": {
      "application/vnd.bokehjs_exec.v0+json": {
       "id": "1097"
      }
     },
     "output_type": "display_data"
    }
   ],
   "source": [
    "xb = data['Periodo']\n",
    "y = data['Pub_periodicas']\n",
    "\n",
    "p = figure(plot_height=350, title = \"Publicacines Periódicos Bibliografía Nacional\")\n",
    "\n",
    "p.vbar(x= xb, top=y, width=0.9, color = \"#CFA7A7\")\n",
    "\n",
    "p.xaxis.axis_label = 'Periodo'\n",
    "p.yaxis.axis_label = 'Publicaciones Periodicas'\n",
    "p.outline_line_width = 7\n",
    "p.outline_line_alpha = 0.3\n",
    "p.outline_line_color = \"#CFA7A7\"\n",
    "p.xgrid.band_hatch_scale = 10\n",
    "\n",
    "show(p)"
   ]
  },
  {
   "cell_type": "markdown",
   "metadata": {},
   "source": [
    "<H2 style=\"text-align: center;\">Gráfico de Lineas</H2>"
   ]
  },
  {
   "cell_type": "code",
   "execution_count": 8,
   "metadata": {
    "scrolled": true
   },
   "outputs": [
    {
     "data": {
      "text/html": [
       "\n",
       "\n",
       "\n",
       "\n",
       "\n",
       "\n",
       "  <div class=\"bk-root\" id=\"f0473774-1fec-43fb-a9c1-255f5c6a6dae\" data-root-id=\"1200\"></div>\n"
      ]
     },
     "metadata": {},
     "output_type": "display_data"
    },
    {
     "data": {
      "application/javascript": [
       "(function(root) {\n",
       "  function embed_document(root) {\n",
       "    \n",
       "  var docs_json = {\"17f1254b-a85f-4d6e-b88d-c8e4fa3c80d4\":{\"roots\":{\"references\":[{\"attributes\":{\"active_drag\":\"auto\",\"active_inspect\":\"auto\",\"active_multi\":null,\"active_scroll\":\"auto\",\"active_tap\":\"auto\",\"tools\":[{\"id\":\"1221\",\"type\":\"PanTool\"},{\"id\":\"1222\",\"type\":\"WheelZoomTool\"},{\"id\":\"1223\",\"type\":\"BoxZoomTool\"},{\"id\":\"1224\",\"type\":\"SaveTool\"},{\"id\":\"1225\",\"type\":\"ResetTool\"},{\"id\":\"1226\",\"type\":\"HelpTool\"}]},\"id\":\"1227\",\"type\":\"Toolbar\"},{\"attributes\":{},\"id\":\"1226\",\"type\":\"HelpTool\"},{\"attributes\":{},\"id\":\"1225\",\"type\":\"ResetTool\"},{\"attributes\":{},\"id\":\"1224\",\"type\":\"SaveTool\"},{\"attributes\":{\"overlay\":{\"id\":\"1262\",\"type\":\"BoxAnnotation\"}},\"id\":\"1223\",\"type\":\"BoxZoomTool\"},{\"attributes\":{},\"id\":\"1222\",\"type\":\"WheelZoomTool\"},{\"attributes\":{},\"id\":\"1221\",\"type\":\"PanTool\"},{\"attributes\":{\"dimension\":1,\"ticker\":{\"id\":\"1217\",\"type\":\"BasicTicker\"}},\"id\":\"1220\",\"type\":\"Grid\"},{\"attributes\":{\"callback\":null},\"id\":\"1205\",\"type\":\"DataRange1d\"},{\"attributes\":{\"bottom_units\":\"screen\",\"fill_alpha\":{\"value\":0.5},\"fill_color\":{\"value\":\"lightgrey\"},\"left_units\":\"screen\",\"level\":\"overlay\",\"line_alpha\":{\"value\":1.0},\"line_color\":{\"value\":\"black\"},\"line_dash\":[4,4],\"line_width\":{\"value\":2},\"render_mode\":\"css\",\"right_units\":\"screen\",\"top_units\":\"screen\"},\"id\":\"1262\",\"type\":\"BoxAnnotation\"},{\"attributes\":{},\"id\":\"1261\",\"type\":\"UnionRenderers\"},{\"attributes\":{},\"id\":\"1260\",\"type\":\"Selection\"},{\"attributes\":{\"text\":\"Cartografia de la Bibliografia Nacional\"},\"id\":\"1201\",\"type\":\"Title\"},{\"attributes\":{\"below\":[{\"id\":\"1211\",\"type\":\"LinearAxis\"}],\"center\":[{\"id\":\"1215\",\"type\":\"Grid\"},{\"id\":\"1220\",\"type\":\"Grid\"}],\"left\":[{\"id\":\"1216\",\"type\":\"LinearAxis\"}],\"outline_line_alpha\":{\"value\":0.3},\"outline_line_color\":{\"value\":\"blue\"},\"outline_line_width\":{\"value\":7},\"plot_height\":350,\"renderers\":[{\"id\":\"1237\",\"type\":\"GlyphRenderer\"}],\"title\":{\"id\":\"1201\",\"type\":\"Title\"},\"toolbar\":{\"id\":\"1227\",\"type\":\"Toolbar\"},\"x_range\":{\"id\":\"1203\",\"type\":\"DataRange1d\"},\"x_scale\":{\"id\":\"1207\",\"type\":\"LinearScale\"},\"y_range\":{\"id\":\"1205\",\"type\":\"DataRange1d\"},\"y_scale\":{\"id\":\"1209\",\"type\":\"LinearScale\"}},\"id\":\"1200\",\"subtype\":\"Figure\",\"type\":\"Plot\"},{\"attributes\":{\"callback\":null},\"id\":\"1203\",\"type\":\"DataRange1d\"},{\"attributes\":{\"axis_label\":\"Periodo\",\"formatter\":{\"id\":\"1257\",\"type\":\"BasicTickFormatter\"},\"ticker\":{\"id\":\"1212\",\"type\":\"BasicTicker\"}},\"id\":\"1211\",\"type\":\"LinearAxis\"},{\"attributes\":{},\"id\":\"1209\",\"type\":\"LinearScale\"},{\"attributes\":{},\"id\":\"1257\",\"type\":\"BasicTickFormatter\"},{\"attributes\":{},\"id\":\"1207\",\"type\":\"LinearScale\"},{\"attributes\":{},\"id\":\"1259\",\"type\":\"BasicTickFormatter\"},{\"attributes\":{\"callback\":null,\"data\":{\"x\":[2006,2007,2008,2009,2010,2011,2012,2013,2014,2015,2016,2017,2018],\"y\":[0.0,1.426,1.273,1.892,1.965,2.141,1.22,1.162,1.307,1.829,1.202,1.303,0.0]},\"selected\":{\"id\":\"1260\",\"type\":\"Selection\"},\"selection_policy\":{\"id\":\"1261\",\"type\":\"UnionRenderers\"}},\"id\":\"1234\",\"type\":\"ColumnDataSource\"},{\"attributes\":{\"line_color\":\"blue\",\"line_width\":2,\"x\":{\"field\":\"x\"},\"y\":{\"field\":\"y\"}},\"id\":\"1235\",\"type\":\"Line\"},{\"attributes\":{\"line_alpha\":0.1,\"line_color\":\"#1f77b4\",\"line_width\":2,\"x\":{\"field\":\"x\"},\"y\":{\"field\":\"y\"}},\"id\":\"1236\",\"type\":\"Line\"},{\"attributes\":{\"data_source\":{\"id\":\"1234\",\"type\":\"ColumnDataSource\"},\"glyph\":{\"id\":\"1235\",\"type\":\"Line\"},\"hover_glyph\":null,\"muted_glyph\":null,\"nonselection_glyph\":{\"id\":\"1236\",\"type\":\"Line\"},\"selection_glyph\":null,\"view\":{\"id\":\"1238\",\"type\":\"CDSView\"}},\"id\":\"1237\",\"type\":\"GlyphRenderer\"},{\"attributes\":{\"axis_label\":\"Cartografia\",\"formatter\":{\"id\":\"1259\",\"type\":\"BasicTickFormatter\"},\"ticker\":{\"id\":\"1217\",\"type\":\"BasicTicker\"}},\"id\":\"1216\",\"type\":\"LinearAxis\"},{\"attributes\":{},\"id\":\"1217\",\"type\":\"BasicTicker\"},{\"attributes\":{\"band_hatch_scale\":10,\"ticker\":{\"id\":\"1212\",\"type\":\"BasicTicker\"}},\"id\":\"1215\",\"type\":\"Grid\"},{\"attributes\":{\"source\":{\"id\":\"1234\",\"type\":\"ColumnDataSource\"}},\"id\":\"1238\",\"type\":\"CDSView\"},{\"attributes\":{},\"id\":\"1212\",\"type\":\"BasicTicker\"}],\"root_ids\":[\"1200\"]},\"title\":\"Bokeh Application\",\"version\":\"1.3.0\"}};\n",
       "  var render_items = [{\"docid\":\"17f1254b-a85f-4d6e-b88d-c8e4fa3c80d4\",\"roots\":{\"1200\":\"f0473774-1fec-43fb-a9c1-255f5c6a6dae\"}}];\n",
       "  root.Bokeh.embed.embed_items_notebook(docs_json, render_items);\n",
       "\n",
       "  }\n",
       "  if (root.Bokeh !== undefined) {\n",
       "    embed_document(root);\n",
       "  } else {\n",
       "    var attempts = 0;\n",
       "    var timer = setInterval(function(root) {\n",
       "      if (root.Bokeh !== undefined) {\n",
       "        embed_document(root);\n",
       "        clearInterval(timer);\n",
       "      }\n",
       "      attempts++;\n",
       "      if (attempts > 100) {\n",
       "        console.log(\"Bokeh: ERROR: Unable to run BokehJS code because BokehJS library is missing\");\n",
       "        clearInterval(timer);\n",
       "      }\n",
       "    }, 10, root)\n",
       "  }\n",
       "})(window);"
      ],
      "application/vnd.bokehjs_exec.v0+json": ""
     },
     "metadata": {
      "application/vnd.bokehjs_exec.v0+json": {
       "id": "1200"
      }
     },
     "output_type": "display_data"
    }
   ],
   "source": [
    "xb = data['Periodo']\n",
    "yb = data['Cartografia']\n",
    "\n",
    "p = figure(plot_height=350, title = \"Cartografia de la Bibliografia Nacional\")\n",
    "\n",
    "p.line(x=xb, y=yb, color=\"blue\", line_width=2)\n",
    "\n",
    "p.xaxis.axis_label = 'Periodo'\n",
    "p.yaxis.axis_label = 'Cartografia'\n",
    "p.outline_line_width = 7\n",
    "p.outline_line_alpha = 0.3\n",
    "p.outline_line_color = \"blue\"\n",
    "p.xgrid.band_hatch_scale = 10\n",
    "\n",
    "show(p)"
   ]
  },
  {
   "cell_type": "code",
   "execution_count": 11,
   "metadata": {
    "scrolled": false
   },
   "outputs": [
    {
     "data": {
      "text/html": [
       "\n",
       "\n",
       "\n",
       "\n",
       "\n",
       "\n",
       "  <div class=\"bk-root\" id=\"d9e21399-5000-4dbd-8fd3-3765495ff25b\" data-root-id=\"1466\"></div>\n"
      ]
     },
     "metadata": {},
     "output_type": "display_data"
    },
    {
     "data": {
      "application/javascript": [
       "(function(root) {\n",
       "  function embed_document(root) {\n",
       "    \n",
       "  var docs_json = {\"014878eb-8e80-467a-b284-5ff882f4ca87\":{\"roots\":{\"references\":[{\"attributes\":{},\"id\":\"1483\",\"type\":\"BasicTicker\"},{\"attributes\":{\"axis_label\":\"Cartografia\",\"formatter\":{\"id\":\"1509\",\"type\":\"BasicTickFormatter\"},\"ticker\":{\"id\":\"1483\",\"type\":\"BasicTicker\"}},\"id\":\"1482\",\"type\":\"LinearAxis\"},{\"attributes\":{\"band_hatch_scale\":10,\"ticker\":{\"id\":\"1478\",\"type\":\"BasicTicker\"}},\"id\":\"1481\",\"type\":\"Grid\"},{\"attributes\":{},\"id\":\"1487\",\"type\":\"PanTool\"},{\"attributes\":{\"dimension\":1,\"ticker\":{\"id\":\"1483\",\"type\":\"BasicTicker\"}},\"id\":\"1486\",\"type\":\"Grid\"},{\"attributes\":{\"overlay\":{\"id\":\"1510\",\"type\":\"BoxAnnotation\"}},\"id\":\"1489\",\"type\":\"BoxZoomTool\"},{\"attributes\":{},\"id\":\"1488\",\"type\":\"WheelZoomTool\"},{\"attributes\":{},\"id\":\"1568\",\"type\":\"Selection\"},{\"attributes\":{},\"id\":\"1569\",\"type\":\"UnionRenderers\"},{\"attributes\":{\"label\":{\"value\":\"Musica\"},\"renderers\":[{\"id\":\"1516\",\"type\":\"GlyphRenderer\"}]},\"id\":\"1526\",\"type\":\"LegendItem\"},{\"attributes\":{\"line_alpha\":0.1,\"line_color\":\"#1f77b4\",\"line_width\":2,\"x\":{\"field\":\"x\"},\"y\":{\"field\":\"y\"}},\"id\":\"1502\",\"type\":\"Line\"},{\"attributes\":{\"data_source\":{\"id\":\"1500\",\"type\":\"ColumnDataSource\"},\"glyph\":{\"id\":\"1501\",\"type\":\"Line\"},\"hover_glyph\":null,\"muted_glyph\":null,\"nonselection_glyph\":{\"id\":\"1502\",\"type\":\"Line\"},\"selection_glyph\":null,\"view\":{\"id\":\"1504\",\"type\":\"CDSView\"}},\"id\":\"1503\",\"type\":\"GlyphRenderer\"},{\"attributes\":{\"callback\":null,\"data\":{\"x\":[2006,2007,2008,2009,2010,2011,2012,2013,2014,2015,2016,2017,2018],\"y\":[0.0,1.426,1.273,1.892,1.965,2.141,1.22,1.162,1.307,1.829,1.202,1.303,0.0]},\"selected\":{\"id\":\"1523\",\"type\":\"Selection\"},\"selection_policy\":{\"id\":\"1524\",\"type\":\"UnionRenderers\"}},\"id\":\"1500\",\"type\":\"ColumnDataSource\"},{\"attributes\":{\"line_color\":\"green\",\"line_width\":2,\"x\":{\"field\":\"x\"},\"y\":{\"field\":\"y\"}},\"id\":\"1501\",\"type\":\"Line\"},{\"attributes\":{\"callback\":null},\"id\":\"1469\",\"type\":\"DataRange1d\"},{\"attributes\":{},\"id\":\"1507\",\"type\":\"BasicTickFormatter\"},{\"attributes\":{\"source\":{\"id\":\"1500\",\"type\":\"ColumnDataSource\"}},\"id\":\"1504\",\"type\":\"CDSView\"},{\"attributes\":{},\"id\":\"1523\",\"type\":\"Selection\"},{\"attributes\":{\"text\":\"Crecimiento Cartografia vs Musica Impresa de la Bibliografia Nacional\"},\"id\":\"1467\",\"type\":\"Title\"},{\"attributes\":{\"below\":[{\"id\":\"1477\",\"type\":\"LinearAxis\"}],\"center\":[{\"id\":\"1481\",\"type\":\"Grid\"},{\"id\":\"1486\",\"type\":\"Grid\"},{\"id\":\"1511\",\"type\":\"Legend\"}],\"left\":[{\"id\":\"1482\",\"type\":\"LinearAxis\"}],\"outline_line_alpha\":{\"value\":0.3},\"outline_line_color\":{\"value\":\"green\"},\"outline_line_width\":{\"value\":7},\"plot_height\":350,\"renderers\":[{\"id\":\"1503\",\"type\":\"GlyphRenderer\"},{\"id\":\"1516\",\"type\":\"GlyphRenderer\"}],\"title\":{\"id\":\"1467\",\"type\":\"Title\"},\"toolbar\":{\"id\":\"1493\",\"type\":\"Toolbar\"},\"x_range\":{\"id\":\"1469\",\"type\":\"DataRange1d\"},\"x_scale\":{\"id\":\"1473\",\"type\":\"LinearScale\"},\"y_range\":{\"id\":\"1471\",\"type\":\"DataRange1d\"},\"y_scale\":{\"id\":\"1475\",\"type\":\"LinearScale\"}},\"id\":\"1466\",\"subtype\":\"Figure\",\"type\":\"Plot\"},{\"attributes\":{},\"id\":\"1490\",\"type\":\"SaveTool\"},{\"attributes\":{},\"id\":\"1491\",\"type\":\"ResetTool\"},{\"attributes\":{},\"id\":\"1492\",\"type\":\"HelpTool\"},{\"attributes\":{\"active_drag\":\"auto\",\"active_inspect\":\"auto\",\"active_multi\":null,\"active_scroll\":\"auto\",\"active_tap\":\"auto\",\"tools\":[{\"id\":\"1487\",\"type\":\"PanTool\"},{\"id\":\"1488\",\"type\":\"WheelZoomTool\"},{\"id\":\"1489\",\"type\":\"BoxZoomTool\"},{\"id\":\"1490\",\"type\":\"SaveTool\"},{\"id\":\"1491\",\"type\":\"ResetTool\"},{\"id\":\"1492\",\"type\":\"HelpTool\"}]},\"id\":\"1493\",\"type\":\"Toolbar\"},{\"attributes\":{},\"id\":\"1524\",\"type\":\"UnionRenderers\"},{\"attributes\":{\"source\":{\"id\":\"1513\",\"type\":\"ColumnDataSource\"}},\"id\":\"1517\",\"type\":\"CDSView\"},{\"attributes\":{},\"id\":\"1509\",\"type\":\"BasicTickFormatter\"},{\"attributes\":{},\"id\":\"1473\",\"type\":\"LinearScale\"},{\"attributes\":{\"callback\":null},\"id\":\"1471\",\"type\":\"DataRange1d\"},{\"attributes\":{\"axis_label\":\"Periodo\",\"formatter\":{\"id\":\"1507\",\"type\":\"BasicTickFormatter\"},\"ticker\":{\"id\":\"1478\",\"type\":\"BasicTicker\"}},\"id\":\"1477\",\"type\":\"LinearAxis\"},{\"attributes\":{},\"id\":\"1475\",\"type\":\"LinearScale\"},{\"attributes\":{\"line_alpha\":0.1,\"line_color\":\"#1f77b4\",\"line_width\":2,\"x\":{\"field\":\"x\"},\"y\":{\"field\":\"y\"}},\"id\":\"1515\",\"type\":\"Line\"},{\"attributes\":{\"line_color\":\"orange\",\"line_width\":2,\"x\":{\"field\":\"x\"},\"y\":{\"field\":\"y\"}},\"id\":\"1514\",\"type\":\"Line\"},{\"attributes\":{},\"id\":\"1478\",\"type\":\"BasicTicker\"},{\"attributes\":{\"data_source\":{\"id\":\"1513\",\"type\":\"ColumnDataSource\"},\"glyph\":{\"id\":\"1514\",\"type\":\"Line\"},\"hover_glyph\":null,\"muted_glyph\":null,\"nonselection_glyph\":{\"id\":\"1515\",\"type\":\"Line\"},\"selection_glyph\":null,\"view\":{\"id\":\"1517\",\"type\":\"CDSView\"}},\"id\":\"1516\",\"type\":\"GlyphRenderer\"},{\"attributes\":{\"items\":[{\"id\":\"1512\",\"type\":\"LegendItem\"},{\"id\":\"1526\",\"type\":\"LegendItem\"}]},\"id\":\"1511\",\"type\":\"Legend\"},{\"attributes\":{\"bottom_units\":\"screen\",\"fill_alpha\":{\"value\":0.5},\"fill_color\":{\"value\":\"lightgrey\"},\"left_units\":\"screen\",\"level\":\"overlay\",\"line_alpha\":{\"value\":1.0},\"line_color\":{\"value\":\"black\"},\"line_dash\":[4,4],\"line_width\":{\"value\":2},\"render_mode\":\"css\",\"right_units\":\"screen\",\"top_units\":\"screen\"},\"id\":\"1510\",\"type\":\"BoxAnnotation\"},{\"attributes\":{\"callback\":null,\"data\":{\"x\":[2006,2007,2008,2009,2010,2011,2012,2013,2014,2015,2016,2017,2018],\"y\":[0.0,3.377,3.222,3.278,3.403,3.467,3.431,3.122,3.549,0.0,0.0,0.0,0.0]},\"selected\":{\"id\":\"1568\",\"type\":\"Selection\"},\"selection_policy\":{\"id\":\"1569\",\"type\":\"UnionRenderers\"}},\"id\":\"1513\",\"type\":\"ColumnDataSource\"},{\"attributes\":{\"label\":{\"value\":\"Cartografia\"},\"renderers\":[{\"id\":\"1503\",\"type\":\"GlyphRenderer\"}]},\"id\":\"1512\",\"type\":\"LegendItem\"}],\"root_ids\":[\"1466\"]},\"title\":\"Bokeh Application\",\"version\":\"1.3.0\"}};\n",
       "  var render_items = [{\"docid\":\"014878eb-8e80-467a-b284-5ff882f4ca87\",\"roots\":{\"1466\":\"d9e21399-5000-4dbd-8fd3-3765495ff25b\"}}];\n",
       "  root.Bokeh.embed.embed_items_notebook(docs_json, render_items);\n",
       "\n",
       "  }\n",
       "  if (root.Bokeh !== undefined) {\n",
       "    embed_document(root);\n",
       "  } else {\n",
       "    var attempts = 0;\n",
       "    var timer = setInterval(function(root) {\n",
       "      if (root.Bokeh !== undefined) {\n",
       "        embed_document(root);\n",
       "        clearInterval(timer);\n",
       "      }\n",
       "      attempts++;\n",
       "      if (attempts > 100) {\n",
       "        console.log(\"Bokeh: ERROR: Unable to run BokehJS code because BokehJS library is missing\");\n",
       "        clearInterval(timer);\n",
       "      }\n",
       "    }, 10, root)\n",
       "  }\n",
       "})(window);"
      ],
      "application/vnd.bokehjs_exec.v0+json": ""
     },
     "metadata": {
      "application/vnd.bokehjs_exec.v0+json": {
       "id": "1466"
      }
     },
     "output_type": "display_data"
    }
   ],
   "source": [
    "xb = data['Periodo']\n",
    "yb = data['Cartografia']\n",
    "ya = data['Musica_impresa']\n",
    "\n",
    "p = figure(plot_height=350, title = \"Crecimiento Cartografia vs Musica Impresa de la Bibliografia Nacional\")\n",
    "\n",
    "p.line(x=xb, y=yb, color=\"green\", line_width=2, legend =\"Cartografia\")\n",
    "p.line(x=xb, y=ya, color=\"orange\", line_width=2, legend =\"Musica\")\n",
    "\n",
    "p.xaxis.axis_label = 'Periodo'\n",
    "p.yaxis.axis_label = 'Cartografia'\n",
    "p.outline_line_width = 7\n",
    "p.outline_line_alpha = 0.3\n",
    "p.outline_line_color = \"green\"\n",
    "p.xgrid.band_hatch_scale = 10\n",
    "\n",
    "show(p)\n"
   ]
  },
  {
   "cell_type": "code",
   "execution_count": 34,
   "metadata": {
    "scrolled": false
   },
   "outputs": [
    {
     "data": {
      "text/html": [
       "\n",
       "\n",
       "\n",
       "\n",
       "\n",
       "\n",
       "  <div class=\"bk-root\" id=\"551fe1c1-9091-4fab-9c06-d06859f63b5b\" data-root-id=\"9438\"></div>\n"
      ]
     },
     "metadata": {},
     "output_type": "display_data"
    },
    {
     "data": {
      "application/javascript": [
       "(function(root) {\n",
       "  function embed_document(root) {\n",
       "    \n",
       "  var docs_json = {\"58f38905-4bdf-48d3-a10a-f666ebdbcdff\":{\"roots\":{\"references\":[{\"attributes\":{\"text\":\"Crecimiento Cartografia de la Bibliografia Nacional\"},\"id\":\"9340\",\"type\":\"Title\"},{\"attributes\":{\"callback\":null},\"id\":\"9342\",\"type\":\"DataRange1d\"},{\"attributes\":{\"callback\":null},\"id\":\"9344\",\"type\":\"DataRange1d\"},{\"attributes\":{},\"id\":\"9346\",\"type\":\"LinearScale\"},{\"attributes\":{\"active_drag\":\"auto\",\"active_inspect\":\"auto\",\"active_multi\":null,\"active_scroll\":\"auto\",\"active_tap\":\"auto\",\"tools\":[{\"id\":\"9360\",\"type\":\"PanTool\"},{\"id\":\"9361\",\"type\":\"WheelZoomTool\"},{\"id\":\"9362\",\"type\":\"BoxZoomTool\"},{\"id\":\"9363\",\"type\":\"SaveTool\"},{\"id\":\"9364\",\"type\":\"ResetTool\"},{\"id\":\"9365\",\"type\":\"HelpTool\"}]},\"id\":\"9366\",\"type\":\"Toolbar\"},{\"attributes\":{},\"id\":\"9364\",\"type\":\"ResetTool\"},{\"attributes\":{},\"id\":\"9365\",\"type\":\"HelpTool\"},{\"attributes\":{\"overlay\":{\"id\":\"9424\",\"type\":\"BoxAnnotation\"}},\"id\":\"9362\",\"type\":\"BoxZoomTool\"},{\"attributes\":{},\"id\":\"9363\",\"type\":\"SaveTool\"},{\"attributes\":{},\"id\":\"9360\",\"type\":\"PanTool\"},{\"attributes\":{},\"id\":\"9361\",\"type\":\"WheelZoomTool\"},{\"attributes\":{\"callback\":null,\"data\":{\"x\":[2006,2007,2008,2009,2010,2011,2012,2013,2014,2015,2016,2017,2018],\"y\":[0.0,1.426,1.273,1.892,1.965,2.141,1.22,1.162,1.307,1.829,1.202,1.303,0.0]},\"selected\":{\"id\":\"9422\",\"type\":\"Selection\"},\"selection_policy\":{\"id\":\"9423\",\"type\":\"UnionRenderers\"}},\"id\":\"9373\",\"type\":\"ColumnDataSource\"},{\"attributes\":{},\"id\":\"9385\",\"type\":\"LinearScale\"},{\"attributes\":{},\"id\":\"9348\",\"type\":\"LinearScale\"},{\"attributes\":{},\"id\":\"9387\",\"type\":\"LinearScale\"},{\"attributes\":{\"callback\":null},\"id\":\"9381\",\"type\":\"DataRange1d\"},{\"attributes\":{},\"id\":\"9428\",\"type\":\"BasicTickFormatter\"},{\"attributes\":{\"axis_label\":\"Periodo\",\"formatter\":{\"id\":\"9428\",\"type\":\"BasicTickFormatter\"},\"ticker\":{\"id\":\"9390\",\"type\":\"BasicTicker\"}},\"id\":\"9389\",\"type\":\"LinearAxis\"},{\"attributes\":{},\"id\":\"9403\",\"type\":\"ResetTool\"},{\"attributes\":{},\"id\":\"9402\",\"type\":\"SaveTool\"},{\"attributes\":{\"overlay\":{\"id\":\"9433\",\"type\":\"BoxAnnotation\"}},\"id\":\"9401\",\"type\":\"BoxZoomTool\"},{\"attributes\":{},\"id\":\"9400\",\"type\":\"WheelZoomTool\"},{\"attributes\":{\"active_drag\":\"auto\",\"active_inspect\":\"auto\",\"active_multi\":null,\"active_scroll\":\"auto\",\"active_tap\":\"auto\",\"tools\":[{\"id\":\"9399\",\"type\":\"PanTool\"},{\"id\":\"9400\",\"type\":\"WheelZoomTool\"},{\"id\":\"9401\",\"type\":\"BoxZoomTool\"},{\"id\":\"9402\",\"type\":\"SaveTool\"},{\"id\":\"9403\",\"type\":\"ResetTool\"},{\"id\":\"9404\",\"type\":\"HelpTool\"}]},\"id\":\"9405\",\"type\":\"Toolbar\"},{\"attributes\":{},\"id\":\"9404\",\"type\":\"HelpTool\"},{\"attributes\":{},\"id\":\"9421\",\"type\":\"BasicTickFormatter\"},{\"attributes\":{},\"id\":\"9423\",\"type\":\"UnionRenderers\"},{\"attributes\":{},\"id\":\"9422\",\"type\":\"Selection\"},{\"attributes\":{\"bottom_units\":\"screen\",\"fill_alpha\":{\"value\":0.5},\"fill_color\":{\"value\":\"lightgrey\"},\"left_units\":\"screen\",\"level\":\"overlay\",\"line_alpha\":{\"value\":1.0},\"line_color\":{\"value\":\"black\"},\"line_dash\":[4,4],\"line_width\":{\"value\":2},\"render_mode\":\"css\",\"right_units\":\"screen\",\"top_units\":\"screen\"},\"id\":\"9424\",\"type\":\"BoxAnnotation\"},{\"attributes\":{\"text\":\"Crecimiento Monografia de la Bibliografia Nacional\"},\"id\":\"9379\",\"type\":\"Title\"},{\"attributes\":{\"below\":[{\"id\":\"9389\",\"type\":\"LinearAxis\"}],\"center\":[{\"id\":\"9393\",\"type\":\"Grid\"},{\"id\":\"9398\",\"type\":\"Grid\"}],\"left\":[{\"id\":\"9394\",\"type\":\"LinearAxis\"}],\"outline_line_alpha\":{\"value\":0.3},\"outline_line_color\":{\"value\":\"firebrick\"},\"outline_line_width\":{\"value\":7},\"plot_height\":250,\"plot_width\":450,\"renderers\":[{\"id\":\"9415\",\"type\":\"GlyphRenderer\"}],\"title\":{\"id\":\"9379\",\"type\":\"Title\"},\"toolbar\":{\"id\":\"9405\",\"type\":\"Toolbar\"},\"toolbar_location\":null,\"x_range\":{\"id\":\"9381\",\"type\":\"DataRange1d\"},\"x_scale\":{\"id\":\"9385\",\"type\":\"LinearScale\"},\"y_range\":{\"id\":\"9383\",\"type\":\"DataRange1d\"},\"y_scale\":{\"id\":\"9387\",\"type\":\"LinearScale\"}},\"id\":\"9378\",\"subtype\":\"Figure\",\"type\":\"Plot\"},{\"attributes\":{},\"id\":\"9351\",\"type\":\"BasicTicker\"},{\"attributes\":{\"axis_label\":\"Periodo\",\"formatter\":{\"id\":\"9419\",\"type\":\"BasicTickFormatter\"},\"ticker\":{\"id\":\"9351\",\"type\":\"BasicTicker\"}},\"id\":\"9350\",\"type\":\"LinearAxis\"},{\"attributes\":{},\"id\":\"9356\",\"type\":\"BasicTicker\"},{\"attributes\":{\"axis_label\":\"Cartografia\",\"formatter\":{\"id\":\"9421\",\"type\":\"BasicTickFormatter\"},\"ticker\":{\"id\":\"9356\",\"type\":\"BasicTicker\"}},\"id\":\"9355\",\"type\":\"LinearAxis\"},{\"attributes\":{\"band_hatch_scale\":10,\"ticker\":{\"id\":\"9351\",\"type\":\"BasicTicker\"}},\"id\":\"9354\",\"type\":\"Grid\"},{\"attributes\":{\"below\":[{\"id\":\"9350\",\"type\":\"LinearAxis\"}],\"center\":[{\"id\":\"9354\",\"type\":\"Grid\"},{\"id\":\"9359\",\"type\":\"Grid\"}],\"left\":[{\"id\":\"9355\",\"type\":\"LinearAxis\"}],\"outline_line_alpha\":{\"value\":0.3},\"outline_line_color\":{\"value\":\"navy\"},\"outline_line_width\":{\"value\":7},\"plot_height\":250,\"plot_width\":450,\"renderers\":[{\"id\":\"9376\",\"type\":\"GlyphRenderer\"}],\"title\":{\"id\":\"9340\",\"type\":\"Title\"},\"toolbar\":{\"id\":\"9366\",\"type\":\"Toolbar\"},\"toolbar_location\":null,\"x_range\":{\"id\":\"9342\",\"type\":\"DataRange1d\"},\"x_scale\":{\"id\":\"9346\",\"type\":\"LinearScale\"},\"y_range\":{\"id\":\"9344\",\"type\":\"DataRange1d\"},\"y_scale\":{\"id\":\"9348\",\"type\":\"LinearScale\"}},\"id\":\"9339\",\"subtype\":\"Figure\",\"type\":\"Plot\"},{\"attributes\":{\"dimension\":1,\"ticker\":{\"id\":\"9356\",\"type\":\"BasicTicker\"}},\"id\":\"9359\",\"type\":\"Grid\"},{\"attributes\":{\"fill_alpha\":{\"value\":0.1},\"fill_color\":{\"value\":\"#1f77b4\"},\"line_alpha\":{\"value\":0.1},\"line_color\":{\"value\":\"#1f77b4\"},\"line_width\":{\"value\":2},\"x\":{\"field\":\"x\"},\"y\":{\"field\":\"y\"}},\"id\":\"9375\",\"type\":\"Square\"},{\"attributes\":{\"fill_color\":{\"value\":\"navy\"},\"line_color\":{\"value\":\"navy\"},\"line_width\":{\"value\":2},\"x\":{\"field\":\"x\"},\"y\":{\"field\":\"y\"}},\"id\":\"9374\",\"type\":\"Square\"},{\"attributes\":{\"source\":{\"id\":\"9373\",\"type\":\"ColumnDataSource\"}},\"id\":\"9377\",\"type\":\"CDSView\"},{\"attributes\":{\"data_source\":{\"id\":\"9373\",\"type\":\"ColumnDataSource\"},\"glyph\":{\"id\":\"9374\",\"type\":\"Square\"},\"hover_glyph\":null,\"muted_glyph\":null,\"nonselection_glyph\":{\"id\":\"9375\",\"type\":\"Square\"},\"selection_glyph\":null,\"view\":{\"id\":\"9377\",\"type\":\"CDSView\"}},\"id\":\"9376\",\"type\":\"GlyphRenderer\"},{\"attributes\":{\"toolbar\":{\"id\":\"9436\",\"type\":\"ProxyToolbar\"},\"toolbar_location\":\"above\"},\"id\":\"9437\",\"type\":\"ToolbarBox\"},{\"attributes\":{\"source\":{\"id\":\"9412\",\"type\":\"ColumnDataSource\"}},\"id\":\"9416\",\"type\":\"CDSView\"},{\"attributes\":{},\"id\":\"9395\",\"type\":\"BasicTicker\"},{\"attributes\":{\"axis_label\":\"Monografia\",\"formatter\":{\"id\":\"9430\",\"type\":\"BasicTickFormatter\"},\"ticker\":{\"id\":\"9395\",\"type\":\"BasicTicker\"}},\"id\":\"9394\",\"type\":\"LinearAxis\"},{\"attributes\":{\"band_hatch_scale\":10,\"ticker\":{\"id\":\"9390\",\"type\":\"BasicTicker\"}},\"id\":\"9393\",\"type\":\"Grid\"},{\"attributes\":{},\"id\":\"9390\",\"type\":\"BasicTicker\"},{\"attributes\":{\"callback\":null},\"id\":\"9383\",\"type\":\"DataRange1d\"},{\"attributes\":{},\"id\":\"9399\",\"type\":\"PanTool\"},{\"attributes\":{\"dimension\":1,\"ticker\":{\"id\":\"9395\",\"type\":\"BasicTicker\"}},\"id\":\"9398\",\"type\":\"Grid\"},{\"attributes\":{\"callback\":null,\"data\":{\"x\":[2006,2007,2008,2009,2010,2011,2012,2013,2014,2015,2016,2017,2018],\"y\":[0.0,3.377,3.222,3.278,3.403,3.467,3.431,3.122,3.549,0.0,0.0,0.0,0.0]},\"selected\":{\"id\":\"9431\",\"type\":\"Selection\"},\"selection_policy\":{\"id\":\"9432\",\"type\":\"UnionRenderers\"}},\"id\":\"9412\",\"type\":\"ColumnDataSource\"},{\"attributes\":{\"fill_color\":{\"value\":\"firebrick\"},\"line_color\":{\"value\":\"firebrick\"},\"line_width\":{\"value\":2},\"x\":{\"field\":\"x\"},\"y\":{\"field\":\"y\"}},\"id\":\"9413\",\"type\":\"Triangle\"},{\"attributes\":{\"fill_alpha\":{\"value\":0.1},\"fill_color\":{\"value\":\"#1f77b4\"},\"line_alpha\":{\"value\":0.1},\"line_color\":{\"value\":\"#1f77b4\"},\"line_width\":{\"value\":2},\"x\":{\"field\":\"x\"},\"y\":{\"field\":\"y\"}},\"id\":\"9414\",\"type\":\"Triangle\"},{\"attributes\":{\"data_source\":{\"id\":\"9412\",\"type\":\"ColumnDataSource\"},\"glyph\":{\"id\":\"9413\",\"type\":\"Triangle\"},\"hover_glyph\":null,\"muted_glyph\":null,\"nonselection_glyph\":{\"id\":\"9414\",\"type\":\"Triangle\"},\"selection_glyph\":null,\"view\":{\"id\":\"9416\",\"type\":\"CDSView\"}},\"id\":\"9415\",\"type\":\"GlyphRenderer\"},{\"attributes\":{\"children\":[{\"id\":\"9437\",\"type\":\"ToolbarBox\"},{\"id\":\"9435\",\"type\":\"GridBox\"}]},\"id\":\"9438\",\"type\":\"Column\"},{\"attributes\":{\"tools\":[{\"id\":\"9360\",\"type\":\"PanTool\"},{\"id\":\"9361\",\"type\":\"WheelZoomTool\"},{\"id\":\"9362\",\"type\":\"BoxZoomTool\"},{\"id\":\"9363\",\"type\":\"SaveTool\"},{\"id\":\"9364\",\"type\":\"ResetTool\"},{\"id\":\"9365\",\"type\":\"HelpTool\"},{\"id\":\"9399\",\"type\":\"PanTool\"},{\"id\":\"9400\",\"type\":\"WheelZoomTool\"},{\"id\":\"9401\",\"type\":\"BoxZoomTool\"},{\"id\":\"9402\",\"type\":\"SaveTool\"},{\"id\":\"9403\",\"type\":\"ResetTool\"},{\"id\":\"9404\",\"type\":\"HelpTool\"}]},\"id\":\"9436\",\"type\":\"ProxyToolbar\"},{\"attributes\":{},\"id\":\"9419\",\"type\":\"BasicTickFormatter\"},{\"attributes\":{\"children\":[[{\"id\":\"9339\",\"subtype\":\"Figure\",\"type\":\"Plot\"},0,0],[{\"id\":\"9378\",\"subtype\":\"Figure\",\"type\":\"Plot\"},0,1]]},\"id\":\"9435\",\"type\":\"GridBox\"},{\"attributes\":{},\"id\":\"9432\",\"type\":\"UnionRenderers\"},{\"attributes\":{\"bottom_units\":\"screen\",\"fill_alpha\":{\"value\":0.5},\"fill_color\":{\"value\":\"lightgrey\"},\"left_units\":\"screen\",\"level\":\"overlay\",\"line_alpha\":{\"value\":1.0},\"line_color\":{\"value\":\"black\"},\"line_dash\":[4,4],\"line_width\":{\"value\":2},\"render_mode\":\"css\",\"right_units\":\"screen\",\"top_units\":\"screen\"},\"id\":\"9433\",\"type\":\"BoxAnnotation\"},{\"attributes\":{},\"id\":\"9430\",\"type\":\"BasicTickFormatter\"},{\"attributes\":{},\"id\":\"9431\",\"type\":\"Selection\"}],\"root_ids\":[\"9438\"]},\"title\":\"Bokeh Application\",\"version\":\"1.3.0\"}};\n",
       "  var render_items = [{\"docid\":\"58f38905-4bdf-48d3-a10a-f666ebdbcdff\",\"roots\":{\"9438\":\"551fe1c1-9091-4fab-9c06-d06859f63b5b\"}}];\n",
       "  root.Bokeh.embed.embed_items_notebook(docs_json, render_items);\n",
       "\n",
       "  }\n",
       "  if (root.Bokeh !== undefined) {\n",
       "    embed_document(root);\n",
       "  } else {\n",
       "    var attempts = 0;\n",
       "    var timer = setInterval(function(root) {\n",
       "      if (root.Bokeh !== undefined) {\n",
       "        embed_document(root);\n",
       "        clearInterval(timer);\n",
       "      }\n",
       "      attempts++;\n",
       "      if (attempts > 100) {\n",
       "        console.log(\"Bokeh: ERROR: Unable to run BokehJS code because BokehJS library is missing\");\n",
       "        clearInterval(timer);\n",
       "      }\n",
       "    }, 10, root)\n",
       "  }\n",
       "})(window);"
      ],
      "application/vnd.bokehjs_exec.v0+json": ""
     },
     "metadata": {
      "application/vnd.bokehjs_exec.v0+json": {
       "id": "9438"
      }
     },
     "output_type": "display_data"
    }
   ],
   "source": [
    "xb = data['Periodo']\n",
    "yb = data['Cartografia']\n",
    "ya = data['Musica_impresa']\n",
    "\n",
    "#FIgura 1\n",
    "p1 = figure(width=450, plot_height=250, title = \"Crecimiento Cartografia de la Bibliografia Nacional\")\n",
    "p1.square(x=xb, y=yb, color=\"navy\", line_width=2)\n",
    "#p1.line(x=xb, y=yb, color=\"navy\", line_width=2)\n",
    "p1.xaxis.axis_label = 'Periodo'\n",
    "p1.yaxis.axis_label = 'Cartografia'\n",
    "p1.outline_line_width = 7\n",
    "p1.outline_line_alpha = 0.3\n",
    "p1.outline_line_color = \"navy\"\n",
    "p1.xgrid.band_hatch_scale = 10\n",
    "\n",
    "#Figura 2\n",
    "p2 = figure(width=450, plot_height=250, title = \"Crecimiento Monografia de la Bibliografia Nacional\")\n",
    "p2.triangle(x=xb, y=ya, color=\"firebrick\", line_width=2)\n",
    "#p2.line(x=xb, y=ya, color=\"firebrick\", line_width=2)\n",
    "p2.xaxis.axis_label = 'Periodo'\n",
    "p2.yaxis.axis_label = 'Monografia'\n",
    "p2.outline_line_width = 7\n",
    "p2.outline_line_alpha = 0.3\n",
    "p2.outline_line_color = \"firebrick\"\n",
    "p2.xgrid.band_hatch_scale = 10\n",
    "\n",
    "\n",
    "p = gridplot([[p1, p2]])\n",
    "\n",
    "show(p)\n"
   ]
  },
  {
   "cell_type": "code",
   "execution_count": 36,
   "metadata": {},
   "outputs": [],
   "source": []
  },
  {
   "cell_type": "code",
   "execution_count": null,
   "metadata": {},
   "outputs": [],
   "source": []
  }
 ],
 "metadata": {
  "kernelspec": {
   "display_name": "Python 2",
   "language": "python",
   "name": "python2"
  },
  "language_info": {
   "codemirror_mode": {
    "name": "ipython",
    "version": 2
   },
   "file_extension": ".py",
   "mimetype": "text/x-python",
   "name": "python",
   "nbconvert_exporter": "python",
   "pygments_lexer": "ipython2",
   "version": "2.7.16"
  }
 },
 "nbformat": 4,
 "nbformat_minor": 2
}
