{
 "cells": [
  {
   "cell_type": "markdown",
   "metadata": {},
   "source": [
    "<img src=\"https://www.utpl.edu.ec/manual_imagen/images/institucional/UTPL-INSTITUCIONAL-color.jpg\" style = \"width:510px;height:180px\">"
   ]
  },
  {
   "cell_type": "markdown",
   "metadata": {
    "slideshow": {
     "slide_type": "-"
    }
   },
   "source": [
    "<H1 style=\"text-align: center;\"> Uso Librería Bokeh </H1>"
   ]
  },
  {
   "cell_type": "markdown",
   "metadata": {},
   "source": [
    "<p style=\"text-align: justify;\">Bokeh es una biblioteca de visualización interactiva de Python que se dirige a los navegadores web modernos para la presentación. Su objetivo es proporcionar una construcción elegante y concisa de gráficos novedosos al estilo de D3.js, y extender esta capacidad con interactividad de alto rendimiento en conjuntos de datos muy grandes o de transmisión por secuencias.<br>Bokeh puede ayudar a cualquier persona que desee crear de forma rápida y sencilla gráficos interactivos, paneles de control y aplicaciones de datos.</p>"
   ]
  },
  {
   "cell_type": "markdown",
   "metadata": {
    "slideshow": {
     "slide_type": "-"
    }
   },
   "source": [
    "<H1 style=\"text-align: left;\">Generación de Gráficas</H1>"
   ]
  },
  {
   "cell_type": "markdown",
   "metadata": {},
   "source": [
    "<p style=\"text-align: justify;\">Para la generación de cualquier gráfica, necesitamos hacer uso de librerías que nos permiten utilizar los diferentes componentes de Bokeh en este caso</p>"
   ]
  },
  {
   "cell_type": "code",
   "execution_count": 49,
   "metadata": {},
   "outputs": [
    {
     "data": {
      "text/html": [
       "\n",
       "    <div class=\"bk-root\">\n",
       "        <a href=\"https://bokeh.org\" target=\"_blank\" class=\"bk-logo bk-logo-small bk-logo-notebook\"></a>\n",
       "        <span id=\"1692\">Loading BokehJS ...</span>\n",
       "    </div>"
      ]
     },
     "metadata": {},
     "output_type": "display_data"
    },
    {
     "data": {
      "application/javascript": [
       "\n",
       "(function(root) {\n",
       "  function now() {\n",
       "    return new Date();\n",
       "  }\n",
       "\n",
       "  var force = true;\n",
       "\n",
       "  if (typeof root._bokeh_onload_callbacks === \"undefined\" || force === true) {\n",
       "    root._bokeh_onload_callbacks = [];\n",
       "    root._bokeh_is_loading = undefined;\n",
       "  }\n",
       "\n",
       "  var JS_MIME_TYPE = 'application/javascript';\n",
       "  var HTML_MIME_TYPE = 'text/html';\n",
       "  var EXEC_MIME_TYPE = 'application/vnd.bokehjs_exec.v0+json';\n",
       "  var CLASS_NAME = 'output_bokeh rendered_html';\n",
       "\n",
       "  /**\n",
       "   * Render data to the DOM node\n",
       "   */\n",
       "  function render(props, node) {\n",
       "    var script = document.createElement(\"script\");\n",
       "    node.appendChild(script);\n",
       "  }\n",
       "\n",
       "  /**\n",
       "   * Handle when an output is cleared or removed\n",
       "   */\n",
       "  function handleClearOutput(event, handle) {\n",
       "    var cell = handle.cell;\n",
       "\n",
       "    var id = cell.output_area._bokeh_element_id;\n",
       "    var server_id = cell.output_area._bokeh_server_id;\n",
       "    // Clean up Bokeh references\n",
       "    if (id != null && id in Bokeh.index) {\n",
       "      Bokeh.index[id].model.document.clear();\n",
       "      delete Bokeh.index[id];\n",
       "    }\n",
       "\n",
       "    if (server_id !== undefined) {\n",
       "      // Clean up Bokeh references\n",
       "      var cmd = \"from bokeh.io.state import curstate; print(curstate().uuid_to_server['\" + server_id + \"'].get_sessions()[0].document.roots[0]._id)\";\n",
       "      cell.notebook.kernel.execute(cmd, {\n",
       "        iopub: {\n",
       "          output: function(msg) {\n",
       "            var id = msg.content.text.trim();\n",
       "            if (id in Bokeh.index) {\n",
       "              Bokeh.index[id].model.document.clear();\n",
       "              delete Bokeh.index[id];\n",
       "            }\n",
       "          }\n",
       "        }\n",
       "      });\n",
       "      // Destroy server and session\n",
       "      var cmd = \"import bokeh.io.notebook as ion; ion.destroy_server('\" + server_id + \"')\";\n",
       "      cell.notebook.kernel.execute(cmd);\n",
       "    }\n",
       "  }\n",
       "\n",
       "  /**\n",
       "   * Handle when a new output is added\n",
       "   */\n",
       "  function handleAddOutput(event, handle) {\n",
       "    var output_area = handle.output_area;\n",
       "    var output = handle.output;\n",
       "\n",
       "    // limit handleAddOutput to display_data with EXEC_MIME_TYPE content only\n",
       "    if ((output.output_type != \"display_data\") || (!output.data.hasOwnProperty(EXEC_MIME_TYPE))) {\n",
       "      return\n",
       "    }\n",
       "\n",
       "    var toinsert = output_area.element.find(\".\" + CLASS_NAME.split(' ')[0]);\n",
       "\n",
       "    if (output.metadata[EXEC_MIME_TYPE][\"id\"] !== undefined) {\n",
       "      toinsert[toinsert.length - 1].firstChild.textContent = output.data[JS_MIME_TYPE];\n",
       "      // store reference to embed id on output_area\n",
       "      output_area._bokeh_element_id = output.metadata[EXEC_MIME_TYPE][\"id\"];\n",
       "    }\n",
       "    if (output.metadata[EXEC_MIME_TYPE][\"server_id\"] !== undefined) {\n",
       "      var bk_div = document.createElement(\"div\");\n",
       "      bk_div.innerHTML = output.data[HTML_MIME_TYPE];\n",
       "      var script_attrs = bk_div.children[0].attributes;\n",
       "      for (var i = 0; i < script_attrs.length; i++) {\n",
       "        toinsert[toinsert.length - 1].firstChild.setAttribute(script_attrs[i].name, script_attrs[i].value);\n",
       "      }\n",
       "      // store reference to server id on output_area\n",
       "      output_area._bokeh_server_id = output.metadata[EXEC_MIME_TYPE][\"server_id\"];\n",
       "    }\n",
       "  }\n",
       "\n",
       "  function register_renderer(events, OutputArea) {\n",
       "\n",
       "    function append_mime(data, metadata, element) {\n",
       "      // create a DOM node to render to\n",
       "      var toinsert = this.create_output_subarea(\n",
       "        metadata,\n",
       "        CLASS_NAME,\n",
       "        EXEC_MIME_TYPE\n",
       "      );\n",
       "      this.keyboard_manager.register_events(toinsert);\n",
       "      // Render to node\n",
       "      var props = {data: data, metadata: metadata[EXEC_MIME_TYPE]};\n",
       "      render(props, toinsert[toinsert.length - 1]);\n",
       "      element.append(toinsert);\n",
       "      return toinsert\n",
       "    }\n",
       "\n",
       "    /* Handle when an output is cleared or removed */\n",
       "    events.on('clear_output.CodeCell', handleClearOutput);\n",
       "    events.on('delete.Cell', handleClearOutput);\n",
       "\n",
       "    /* Handle when a new output is added */\n",
       "    events.on('output_added.OutputArea', handleAddOutput);\n",
       "\n",
       "    /**\n",
       "     * Register the mime type and append_mime function with output_area\n",
       "     */\n",
       "    OutputArea.prototype.register_mime_type(EXEC_MIME_TYPE, append_mime, {\n",
       "      /* Is output safe? */\n",
       "      safe: true,\n",
       "      /* Index of renderer in `output_area.display_order` */\n",
       "      index: 0\n",
       "    });\n",
       "  }\n",
       "\n",
       "  // register the mime type if in Jupyter Notebook environment and previously unregistered\n",
       "  if (root.Jupyter !== undefined) {\n",
       "    var events = require('base/js/events');\n",
       "    var OutputArea = require('notebook/js/outputarea').OutputArea;\n",
       "\n",
       "    if (OutputArea.prototype.mime_types().indexOf(EXEC_MIME_TYPE) == -1) {\n",
       "      register_renderer(events, OutputArea);\n",
       "    }\n",
       "  }\n",
       "\n",
       "  \n",
       "  if (typeof (root._bokeh_timeout) === \"undefined\" || force === true) {\n",
       "    root._bokeh_timeout = Date.now() + 5000;\n",
       "    root._bokeh_failed_load = false;\n",
       "  }\n",
       "\n",
       "  var NB_LOAD_WARNING = {'data': {'text/html':\n",
       "     \"<div style='background-color: #fdd'>\\n\"+\n",
       "     \"<p>\\n\"+\n",
       "     \"BokehJS does not appear to have successfully loaded. If loading BokehJS from CDN, this \\n\"+\n",
       "     \"may be due to a slow or bad network connection. Possible fixes:\\n\"+\n",
       "     \"</p>\\n\"+\n",
       "     \"<ul>\\n\"+\n",
       "     \"<li>re-rerun `output_notebook()` to attempt to load from CDN again, or</li>\\n\"+\n",
       "     \"<li>use INLINE resources instead, as so:</li>\\n\"+\n",
       "     \"</ul>\\n\"+\n",
       "     \"<code>\\n\"+\n",
       "     \"from bokeh.resources import INLINE\\n\"+\n",
       "     \"output_notebook(resources=INLINE)\\n\"+\n",
       "     \"</code>\\n\"+\n",
       "     \"</div>\"}};\n",
       "\n",
       "  function display_loaded() {\n",
       "    var el = document.getElementById(\"1692\");\n",
       "    if (el != null) {\n",
       "      el.textContent = \"BokehJS is loading...\";\n",
       "    }\n",
       "    if (root.Bokeh !== undefined) {\n",
       "      if (el != null) {\n",
       "        el.textContent = \"BokehJS \" + root.Bokeh.version + \" successfully loaded.\";\n",
       "      }\n",
       "    } else if (Date.now() < root._bokeh_timeout) {\n",
       "      setTimeout(display_loaded, 100)\n",
       "    }\n",
       "  }\n",
       "\n",
       "\n",
       "  function run_callbacks() {\n",
       "    try {\n",
       "      root._bokeh_onload_callbacks.forEach(function(callback) {\n",
       "        if (callback != null)\n",
       "          callback();\n",
       "      });\n",
       "    } finally {\n",
       "      delete root._bokeh_onload_callbacks\n",
       "    }\n",
       "    console.debug(\"Bokeh: all callbacks have finished\");\n",
       "  }\n",
       "\n",
       "  function load_libs(css_urls, js_urls, callback) {\n",
       "    if (css_urls == null) css_urls = [];\n",
       "    if (js_urls == null) js_urls = [];\n",
       "\n",
       "    root._bokeh_onload_callbacks.push(callback);\n",
       "    if (root._bokeh_is_loading > 0) {\n",
       "      console.debug(\"Bokeh: BokehJS is being loaded, scheduling callback at\", now());\n",
       "      return null;\n",
       "    }\n",
       "    if (js_urls == null || js_urls.length === 0) {\n",
       "      run_callbacks();\n",
       "      return null;\n",
       "    }\n",
       "    console.debug(\"Bokeh: BokehJS not loaded, scheduling load and callback at\", now());\n",
       "    root._bokeh_is_loading = css_urls.length + js_urls.length;\n",
       "\n",
       "    function on_load() {\n",
       "      root._bokeh_is_loading--;\n",
       "      if (root._bokeh_is_loading === 0) {\n",
       "        console.debug(\"Bokeh: all BokehJS libraries/stylesheets loaded\");\n",
       "        run_callbacks()\n",
       "      }\n",
       "    }\n",
       "\n",
       "    function on_error() {\n",
       "      console.error(\"failed to load \" + url);\n",
       "    }\n",
       "\n",
       "    for (var i = 0; i < css_urls.length; i++) {\n",
       "      var url = css_urls[i];\n",
       "      const element = document.createElement(\"link\");\n",
       "      element.onload = on_load;\n",
       "      element.onerror = on_error;\n",
       "      element.rel = \"stylesheet\";\n",
       "      element.type = \"text/css\";\n",
       "      element.href = url;\n",
       "      console.debug(\"Bokeh: injecting link tag for BokehJS stylesheet: \", url);\n",
       "      document.body.appendChild(element);\n",
       "    }\n",
       "\n",
       "    for (var i = 0; i < js_urls.length; i++) {\n",
       "      var url = js_urls[i];\n",
       "      var element = document.createElement('script');\n",
       "      element.onload = on_load;\n",
       "      element.onerror = on_error;\n",
       "      element.async = false;\n",
       "      element.src = url;\n",
       "      console.debug(\"Bokeh: injecting script tag for BokehJS library: \", url);\n",
       "      document.head.appendChild(element);\n",
       "    }\n",
       "  };var element = document.getElementById(\"1692\");\n",
       "  if (element == null) {\n",
       "    console.error(\"Bokeh: ERROR: autoload.js configured with elementid '1692' but no matching script tag was found. \")\n",
       "    return false;\n",
       "  }\n",
       "\n",
       "  function inject_raw_css(css) {\n",
       "    const element = document.createElement(\"style\");\n",
       "    element.appendChild(document.createTextNode(css));\n",
       "    document.body.appendChild(element);\n",
       "  }\n",
       "\n",
       "  \n",
       "  var js_urls = [\"https://cdn.pydata.org/bokeh/release/bokeh-1.4.0.min.js\", \"https://cdn.pydata.org/bokeh/release/bokeh-widgets-1.4.0.min.js\", \"https://cdn.pydata.org/bokeh/release/bokeh-tables-1.4.0.min.js\", \"https://cdn.pydata.org/bokeh/release/bokeh-gl-1.4.0.min.js\"];\n",
       "  var css_urls = [];\n",
       "  \n",
       "\n",
       "  var inline_js = [\n",
       "    function(Bokeh) {\n",
       "      Bokeh.set_log_level(\"info\");\n",
       "    },\n",
       "    function(Bokeh) {\n",
       "    \n",
       "    \n",
       "    }\n",
       "  ];\n",
       "\n",
       "  function run_inline_js() {\n",
       "    \n",
       "    if (root.Bokeh !== undefined || force === true) {\n",
       "      \n",
       "    for (var i = 0; i < inline_js.length; i++) {\n",
       "      inline_js[i].call(root, root.Bokeh);\n",
       "    }\n",
       "    if (force === true) {\n",
       "        display_loaded();\n",
       "      }} else if (Date.now() < root._bokeh_timeout) {\n",
       "      setTimeout(run_inline_js, 100);\n",
       "    } else if (!root._bokeh_failed_load) {\n",
       "      console.log(\"Bokeh: BokehJS failed to load within specified timeout.\");\n",
       "      root._bokeh_failed_load = true;\n",
       "    } else if (force !== true) {\n",
       "      var cell = $(document.getElementById(\"1692\")).parents('.cell').data().cell;\n",
       "      cell.output_area.append_execute_result(NB_LOAD_WARNING)\n",
       "    }\n",
       "\n",
       "  }\n",
       "\n",
       "  if (root._bokeh_is_loading === 0) {\n",
       "    console.debug(\"Bokeh: BokehJS loaded, going straight to plotting\");\n",
       "    run_inline_js();\n",
       "  } else {\n",
       "    load_libs(css_urls, js_urls, function() {\n",
       "      console.debug(\"Bokeh: BokehJS plotting callback run at\", now());\n",
       "      run_inline_js();\n",
       "    });\n",
       "  }\n",
       "}(window));"
      ],
      "application/vnd.bokehjs_load.v0+json": "\n(function(root) {\n  function now() {\n    return new Date();\n  }\n\n  var force = true;\n\n  if (typeof root._bokeh_onload_callbacks === \"undefined\" || force === true) {\n    root._bokeh_onload_callbacks = [];\n    root._bokeh_is_loading = undefined;\n  }\n\n  \n\n  \n  if (typeof (root._bokeh_timeout) === \"undefined\" || force === true) {\n    root._bokeh_timeout = Date.now() + 5000;\n    root._bokeh_failed_load = false;\n  }\n\n  var NB_LOAD_WARNING = {'data': {'text/html':\n     \"<div style='background-color: #fdd'>\\n\"+\n     \"<p>\\n\"+\n     \"BokehJS does not appear to have successfully loaded. If loading BokehJS from CDN, this \\n\"+\n     \"may be due to a slow or bad network connection. Possible fixes:\\n\"+\n     \"</p>\\n\"+\n     \"<ul>\\n\"+\n     \"<li>re-rerun `output_notebook()` to attempt to load from CDN again, or</li>\\n\"+\n     \"<li>use INLINE resources instead, as so:</li>\\n\"+\n     \"</ul>\\n\"+\n     \"<code>\\n\"+\n     \"from bokeh.resources import INLINE\\n\"+\n     \"output_notebook(resources=INLINE)\\n\"+\n     \"</code>\\n\"+\n     \"</div>\"}};\n\n  function display_loaded() {\n    var el = document.getElementById(\"1692\");\n    if (el != null) {\n      el.textContent = \"BokehJS is loading...\";\n    }\n    if (root.Bokeh !== undefined) {\n      if (el != null) {\n        el.textContent = \"BokehJS \" + root.Bokeh.version + \" successfully loaded.\";\n      }\n    } else if (Date.now() < root._bokeh_timeout) {\n      setTimeout(display_loaded, 100)\n    }\n  }\n\n\n  function run_callbacks() {\n    try {\n      root._bokeh_onload_callbacks.forEach(function(callback) {\n        if (callback != null)\n          callback();\n      });\n    } finally {\n      delete root._bokeh_onload_callbacks\n    }\n    console.debug(\"Bokeh: all callbacks have finished\");\n  }\n\n  function load_libs(css_urls, js_urls, callback) {\n    if (css_urls == null) css_urls = [];\n    if (js_urls == null) js_urls = [];\n\n    root._bokeh_onload_callbacks.push(callback);\n    if (root._bokeh_is_loading > 0) {\n      console.debug(\"Bokeh: BokehJS is being loaded, scheduling callback at\", now());\n      return null;\n    }\n    if (js_urls == null || js_urls.length === 0) {\n      run_callbacks();\n      return null;\n    }\n    console.debug(\"Bokeh: BokehJS not loaded, scheduling load and callback at\", now());\n    root._bokeh_is_loading = css_urls.length + js_urls.length;\n\n    function on_load() {\n      root._bokeh_is_loading--;\n      if (root._bokeh_is_loading === 0) {\n        console.debug(\"Bokeh: all BokehJS libraries/stylesheets loaded\");\n        run_callbacks()\n      }\n    }\n\n    function on_error() {\n      console.error(\"failed to load \" + url);\n    }\n\n    for (var i = 0; i < css_urls.length; i++) {\n      var url = css_urls[i];\n      const element = document.createElement(\"link\");\n      element.onload = on_load;\n      element.onerror = on_error;\n      element.rel = \"stylesheet\";\n      element.type = \"text/css\";\n      element.href = url;\n      console.debug(\"Bokeh: injecting link tag for BokehJS stylesheet: \", url);\n      document.body.appendChild(element);\n    }\n\n    for (var i = 0; i < js_urls.length; i++) {\n      var url = js_urls[i];\n      var element = document.createElement('script');\n      element.onload = on_load;\n      element.onerror = on_error;\n      element.async = false;\n      element.src = url;\n      console.debug(\"Bokeh: injecting script tag for BokehJS library: \", url);\n      document.head.appendChild(element);\n    }\n  };var element = document.getElementById(\"1692\");\n  if (element == null) {\n    console.error(\"Bokeh: ERROR: autoload.js configured with elementid '1692' but no matching script tag was found. \")\n    return false;\n  }\n\n  function inject_raw_css(css) {\n    const element = document.createElement(\"style\");\n    element.appendChild(document.createTextNode(css));\n    document.body.appendChild(element);\n  }\n\n  \n  var js_urls = [\"https://cdn.pydata.org/bokeh/release/bokeh-1.4.0.min.js\", \"https://cdn.pydata.org/bokeh/release/bokeh-widgets-1.4.0.min.js\", \"https://cdn.pydata.org/bokeh/release/bokeh-tables-1.4.0.min.js\", \"https://cdn.pydata.org/bokeh/release/bokeh-gl-1.4.0.min.js\"];\n  var css_urls = [];\n  \n\n  var inline_js = [\n    function(Bokeh) {\n      Bokeh.set_log_level(\"info\");\n    },\n    function(Bokeh) {\n    \n    \n    }\n  ];\n\n  function run_inline_js() {\n    \n    if (root.Bokeh !== undefined || force === true) {\n      \n    for (var i = 0; i < inline_js.length; i++) {\n      inline_js[i].call(root, root.Bokeh);\n    }\n    if (force === true) {\n        display_loaded();\n      }} else if (Date.now() < root._bokeh_timeout) {\n      setTimeout(run_inline_js, 100);\n    } else if (!root._bokeh_failed_load) {\n      console.log(\"Bokeh: BokehJS failed to load within specified timeout.\");\n      root._bokeh_failed_load = true;\n    } else if (force !== true) {\n      var cell = $(document.getElementById(\"1692\")).parents('.cell').data().cell;\n      cell.output_area.append_execute_result(NB_LOAD_WARNING)\n    }\n\n  }\n\n  if (root._bokeh_is_loading === 0) {\n    console.debug(\"Bokeh: BokehJS loaded, going straight to plotting\");\n    run_inline_js();\n  } else {\n    load_libs(css_urls, js_urls, function() {\n      console.debug(\"Bokeh: BokehJS plotting callback run at\", now());\n      run_inline_js();\n    });\n  }\n}(window));"
     },
     "metadata": {},
     "output_type": "display_data"
    }
   ],
   "source": [
    "import numpy as np\n",
    "import pandas as pd\n",
    "from bokeh.layouts import gridplot\n",
    "from bokeh.plotting import figure\n",
    "from bokeh.io import push_notebook, show, output_notebook\n",
    "from bokeh.resources import INLINE\n",
    "from bokeh.models import ColumnDataSource\n",
    "from bokeh.palettes import Spectral6\n",
    "from bokeh.transform import factor_cmap\n",
    "output_notebook()"
   ]
  },
  {
   "cell_type": "markdown",
   "metadata": {
    "slideshow": {
     "slide_type": "-"
    }
   },
   "source": [
    "<H1 style=\"text-align: left;\">Acceso a colección</H1>"
   ]
  },
  {
   "cell_type": "markdown",
   "metadata": {},
   "source": [
    "<p style=\"text-align: justify;\">Para acceder a la colección almacenada en MongoDB requerimos hacer uso de las siguientes librerías</p>"
   ]
  },
  {
   "cell_type": "code",
   "execution_count": 50,
   "metadata": {},
   "outputs": [],
   "source": [
    "import os # crear interfaz\n",
    "import sys # conexion a host\n",
    "import pymongo # API MongoDB\n",
    "import pandas as pd\n",
    "from pymongo import MongoClient"
   ]
  },
  {
   "cell_type": "markdown",
   "metadata": {},
   "source": [
    "<p style=\"text-align: justify;\">Conexión a cliente MongoDB</p>"
   ]
  },
  {
   "cell_type": "code",
   "execution_count": 51,
   "metadata": {},
   "outputs": [],
   "source": [
    "mongoClient = MongoClient('localhost',27017) #Conexión a localHost\n",
    "db = mongoClient.gp #Base de datos GP\n",
    "collection = db.bibliografiaNacional #Colección bibliografía nacional"
   ]
  },
  {
   "cell_type": "markdown",
   "metadata": {},
   "source": [
    "<p style=\"text-align: justify;\">Generación DataFrame</p>"
   ]
  },
  {
   "cell_type": "code",
   "execution_count": 52,
   "metadata": {},
   "outputs": [],
   "source": [
    "df = pd.DataFrame(list(collection.find()))"
   ]
  },
  {
   "cell_type": "markdown",
   "metadata": {},
   "source": [
    "<p style=\"text-align: justify;\">El presente documento hace referencia a la estadística general de la Bibliografía Española en Línea</p>"
   ]
  },
  {
   "cell_type": "code",
   "execution_count": 53,
   "metadata": {},
   "outputs": [
    {
     "data": {
      "text/html": [
       "<div>\n",
       "<style scoped>\n",
       "    .dataframe tbody tr th:only-of-type {\n",
       "        vertical-align: middle;\n",
       "    }\n",
       "\n",
       "    .dataframe tbody tr th {\n",
       "        vertical-align: top;\n",
       "    }\n",
       "\n",
       "    .dataframe thead th {\n",
       "        text-align: right;\n",
       "    }\n",
       "</style>\n",
       "<table border=\"1\" class=\"dataframe\">\n",
       "  <thead>\n",
       "    <tr style=\"text-align: right;\">\n",
       "      <th></th>\n",
       "      <th>_id</th>\n",
       "      <th>Periodo</th>\n",
       "      <th>Monografias</th>\n",
       "      <th>Pub_periodicas</th>\n",
       "      <th>Musica_impresa</th>\n",
       "      <th>Cartografia</th>\n",
       "      <th>Subtotal</th>\n",
       "    </tr>\n",
       "  </thead>\n",
       "  <tbody>\n",
       "    <tr>\n",
       "      <th>0</th>\n",
       "      <td>5e458af770adc3178c204e68</td>\n",
       "      <td>2006</td>\n",
       "      <td>0</td>\n",
       "      <td>2.421</td>\n",
       "      <td>0</td>\n",
       "      <td>0</td>\n",
       "      <td>2.421</td>\n",
       "    </tr>\n",
       "    <tr>\n",
       "      <th>1</th>\n",
       "      <td>5e458af770adc3178c204e69</td>\n",
       "      <td>2007</td>\n",
       "      <td>61.105</td>\n",
       "      <td>1.803</td>\n",
       "      <td>3.377</td>\n",
       "      <td>1.426</td>\n",
       "      <td>67.711</td>\n",
       "    </tr>\n",
       "    <tr>\n",
       "      <th>2</th>\n",
       "      <td>5e458af770adc3178c204e6a</td>\n",
       "      <td>2008</td>\n",
       "      <td>68.232</td>\n",
       "      <td>2.203</td>\n",
       "      <td>3.222</td>\n",
       "      <td>1.273</td>\n",
       "      <td>74.930</td>\n",
       "    </tr>\n",
       "    <tr>\n",
       "      <th>3</th>\n",
       "      <td>5e458af770adc3178c204e6b</td>\n",
       "      <td>2009</td>\n",
       "      <td>92.294</td>\n",
       "      <td>2.301</td>\n",
       "      <td>3.278</td>\n",
       "      <td>1.892</td>\n",
       "      <td>99.765</td>\n",
       "    </tr>\n",
       "    <tr>\n",
       "      <th>4</th>\n",
       "      <td>5e458af770adc3178c204e6c</td>\n",
       "      <td>2010</td>\n",
       "      <td>86.400</td>\n",
       "      <td>1.899</td>\n",
       "      <td>3.403</td>\n",
       "      <td>1.965</td>\n",
       "      <td>93.667</td>\n",
       "    </tr>\n",
       "  </tbody>\n",
       "</table>\n",
       "</div>"
      ],
      "text/plain": [
       "                        _id Periodo Monografias Pub_periodicas Musica_impresa  \\\n",
       "0  5e458af770adc3178c204e68    2006           0          2.421              0   \n",
       "1  5e458af770adc3178c204e69    2007      61.105          1.803          3.377   \n",
       "2  5e458af770adc3178c204e6a    2008      68.232          2.203          3.222   \n",
       "3  5e458af770adc3178c204e6b    2009      92.294          2.301          3.278   \n",
       "4  5e458af770adc3178c204e6c    2010      86.400          1.899          3.403   \n",
       "\n",
       "  Cartografia Subtotal  \n",
       "0           0    2.421  \n",
       "1       1.426   67.711  \n",
       "2       1.273   74.930  \n",
       "3       1.892   99.765  \n",
       "4       1.965   93.667  "
      ]
     },
     "execution_count": 53,
     "metadata": {},
     "output_type": "execute_result"
    }
   ],
   "source": [
    "df.head()"
   ]
  },
  {
   "cell_type": "markdown",
   "metadata": {},
   "source": [
    "<p style=\"text-align: justify;\"><b>Fuente: </b>Archivo de la Web Española: Comunidad Autónoma de Aragón. [Conjunto de datos]. Versión de enero de 2019.<br><b>URL: </b><a>https://datos.gob.es/es/catalogo/e00123904-archivo-de-la-web-espanola-comunidad-autonoma-de-aragon</a></p>"
   ]
  },
  {
   "cell_type": "code",
   "execution_count": 54,
   "metadata": {},
   "outputs": [
    {
     "data": {
      "text/plain": [
       "Index(['_id', 'Periodo', 'Monografias', 'Pub_periodicas', 'Musica_impresa',\n",
       "       'Cartografia', 'Subtotal'],\n",
       "      dtype='object')"
      ]
     },
     "execution_count": 54,
     "metadata": {},
     "output_type": "execute_result"
    }
   ],
   "source": [
    "df.keys()"
   ]
  },
  {
   "cell_type": "code",
   "execution_count": 66,
   "metadata": {},
   "outputs": [],
   "source": [
    "df = df.sort_index(level=[1,0])"
   ]
  },
  {
   "cell_type": "markdown",
   "metadata": {},
   "source": [
    "<H2 style=\"text-align: center;\">Gráfico de Barras</H2>"
   ]
  },
  {
   "cell_type": "markdown",
   "metadata": {},
   "source": [
    "<p style=\"text-align: justify;\">Creación de figura</p>"
   ]
  },
  {
   "cell_type": "code",
   "execution_count": 68,
   "metadata": {
    "scrolled": false
   },
   "outputs": [
    {
     "data": {
      "text/html": [
       "\n",
       "\n",
       "\n",
       "\n",
       "\n",
       "\n",
       "  <div class=\"bk-root\" id=\"d53badb2-ce59-44b6-8db8-8fd8cbf3f691\" data-root-id=\"2146\"></div>\n"
      ]
     },
     "metadata": {},
     "output_type": "display_data"
    },
    {
     "data": {
      "application/javascript": [
       "(function(root) {\n",
       "  function embed_document(root) {\n",
       "    \n",
       "  var docs_json = {\"2ff8b815-7ad9-4b15-be8f-52807619d607\":{\"roots\":{\"references\":[{\"attributes\":{\"below\":[{\"id\":\"2157\",\"type\":\"LinearAxis\"}],\"center\":[{\"id\":\"2161\",\"type\":\"Grid\"},{\"id\":\"2166\",\"type\":\"Grid\"}],\"left\":[{\"id\":\"2162\",\"type\":\"LinearAxis\"}],\"outline_line_alpha\":{\"value\":0.3},\"outline_line_color\":{\"value\":\"#B3DE69\"},\"outline_line_width\":{\"value\":7},\"plot_height\":350,\"renderers\":[{\"id\":\"2183\",\"type\":\"GlyphRenderer\"}],\"title\":{\"id\":\"2147\",\"type\":\"Title\"},\"toolbar\":{\"id\":\"2173\",\"type\":\"Toolbar\"},\"x_range\":{\"id\":\"2149\",\"type\":\"DataRange1d\"},\"x_scale\":{\"id\":\"2153\",\"type\":\"LinearScale\"},\"y_range\":{\"id\":\"2151\",\"type\":\"DataRange1d\"},\"y_scale\":{\"id\":\"2155\",\"type\":\"LinearScale\"}},\"id\":\"2146\",\"subtype\":\"Figure\",\"type\":\"Plot\"},{\"attributes\":{\"fill_color\":{\"value\":\"#B3DE99\"},\"line_color\":{\"value\":\"#B3DE99\"},\"top\":{\"field\":\"top\"},\"width\":{\"value\":0.9},\"x\":{\"field\":\"x\"}},\"id\":\"2181\",\"type\":\"VBar\"},{\"attributes\":{\"active_drag\":\"auto\",\"active_inspect\":\"auto\",\"active_multi\":null,\"active_scroll\":\"auto\",\"active_tap\":\"auto\",\"tools\":[{\"id\":\"2167\",\"type\":\"PanTool\"},{\"id\":\"2168\",\"type\":\"WheelZoomTool\"},{\"id\":\"2169\",\"type\":\"BoxZoomTool\"},{\"id\":\"2170\",\"type\":\"SaveTool\"},{\"id\":\"2171\",\"type\":\"ResetTool\"},{\"id\":\"2172\",\"type\":\"HelpTool\"}]},\"id\":\"2173\",\"type\":\"Toolbar\"},{\"attributes\":{},\"id\":\"2167\",\"type\":\"PanTool\"},{\"attributes\":{},\"id\":\"2168\",\"type\":\"WheelZoomTool\"},{\"attributes\":{},\"id\":\"2260\",\"type\":\"BasicTickFormatter\"},{\"attributes\":{\"overlay\":{\"id\":\"2262\",\"type\":\"BoxAnnotation\"}},\"id\":\"2169\",\"type\":\"BoxZoomTool\"},{\"attributes\":{\"callback\":null,\"data\":{\"top\":{\"__ndarray__\":\"ke18PzVeA0Av3SQGge1QQOxRuB6Fu1JAKVyPwvXwWECmm8QgsGpXQB+F61G49lFAHVpkO9+HUkBxPQrXo1BPQH0/NV66aU1Asp3vp8Z7TUAAAAAAAFBIQNNNYhBY+UFAsp3vp8ZLGEA=\",\"dtype\":\"float64\",\"shape\":[13]},\"x\":[2006,2007,2008,2009,2010,2011,2012,2013,2014,2015,2016,2017,2018]},\"selected\":{\"id\":\"2263\",\"type\":\"Selection\"},\"selection_policy\":{\"id\":\"2264\",\"type\":\"UnionRenderers\"}},\"id\":\"2180\",\"type\":\"ColumnDataSource\"},{\"attributes\":{},\"id\":\"2170\",\"type\":\"SaveTool\"},{\"attributes\":{\"fill_alpha\":{\"value\":0.1},\"fill_color\":{\"value\":\"#1f77b4\"},\"line_alpha\":{\"value\":0.1},\"line_color\":{\"value\":\"#1f77b4\"},\"top\":{\"field\":\"top\"},\"width\":{\"value\":0.9},\"x\":{\"field\":\"x\"}},\"id\":\"2182\",\"type\":\"VBar\"},{\"attributes\":{},\"id\":\"2171\",\"type\":\"ResetTool\"},{\"attributes\":{\"text\":\"Seguimiento de Bibliograf\\u00eda Nacional\"},\"id\":\"2147\",\"type\":\"Title\"},{\"attributes\":{},\"id\":\"2172\",\"type\":\"HelpTool\"},{\"attributes\":{\"callback\":null},\"id\":\"2149\",\"type\":\"DataRange1d\"},{\"attributes\":{\"callback\":null},\"id\":\"2151\",\"type\":\"DataRange1d\"},{\"attributes\":{\"data_source\":{\"id\":\"2180\",\"type\":\"ColumnDataSource\"},\"glyph\":{\"id\":\"2181\",\"type\":\"VBar\"},\"hover_glyph\":null,\"muted_glyph\":null,\"nonselection_glyph\":{\"id\":\"2182\",\"type\":\"VBar\"},\"selection_glyph\":null,\"view\":{\"id\":\"2184\",\"type\":\"CDSView\"}},\"id\":\"2183\",\"type\":\"GlyphRenderer\"},{\"attributes\":{},\"id\":\"2153\",\"type\":\"LinearScale\"},{\"attributes\":{\"source\":{\"id\":\"2180\",\"type\":\"ColumnDataSource\"}},\"id\":\"2184\",\"type\":\"CDSView\"},{\"attributes\":{},\"id\":\"2155\",\"type\":\"LinearScale\"},{\"attributes\":{\"formatter\":{\"id\":\"2260\",\"type\":\"BasicTickFormatter\"},\"ticker\":{\"id\":\"2158\",\"type\":\"BasicTicker\"}},\"id\":\"2157\",\"type\":\"LinearAxis\"},{\"attributes\":{\"bottom_units\":\"screen\",\"fill_alpha\":{\"value\":0.5},\"fill_color\":{\"value\":\"lightgrey\"},\"left_units\":\"screen\",\"level\":\"overlay\",\"line_alpha\":{\"value\":1.0},\"line_color\":{\"value\":\"black\"},\"line_dash\":[4,4],\"line_width\":{\"value\":2},\"render_mode\":\"css\",\"right_units\":\"screen\",\"top_units\":\"screen\"},\"id\":\"2262\",\"type\":\"BoxAnnotation\"},{\"attributes\":{},\"id\":\"2158\",\"type\":\"BasicTicker\"},{\"attributes\":{},\"id\":\"2263\",\"type\":\"Selection\"},{\"attributes\":{\"band_hatch_scale\":10,\"ticker\":{\"id\":\"2158\",\"type\":\"BasicTicker\"}},\"id\":\"2161\",\"type\":\"Grid\"},{\"attributes\":{},\"id\":\"2264\",\"type\":\"UnionRenderers\"},{\"attributes\":{\"formatter\":{\"id\":\"2258\",\"type\":\"BasicTickFormatter\"},\"ticker\":{\"id\":\"2163\",\"type\":\"BasicTicker\"}},\"id\":\"2162\",\"type\":\"LinearAxis\"},{\"attributes\":{},\"id\":\"2163\",\"type\":\"BasicTicker\"},{\"attributes\":{\"dimension\":1,\"ticker\":{\"id\":\"2163\",\"type\":\"BasicTicker\"}},\"id\":\"2166\",\"type\":\"Grid\"},{\"attributes\":{},\"id\":\"2258\",\"type\":\"BasicTickFormatter\"}],\"root_ids\":[\"2146\"]},\"title\":\"Bokeh Application\",\"version\":\"1.4.0\"}};\n",
       "  var render_items = [{\"docid\":\"2ff8b815-7ad9-4b15-be8f-52807619d607\",\"roots\":{\"2146\":\"d53badb2-ce59-44b6-8db8-8fd8cbf3f691\"}}];\n",
       "  root.Bokeh.embed.embed_items_notebook(docs_json, render_items);\n",
       "\n",
       "  }\n",
       "  if (root.Bokeh !== undefined) {\n",
       "    embed_document(root);\n",
       "  } else {\n",
       "    var attempts = 0;\n",
       "    var timer = setInterval(function(root) {\n",
       "      if (root.Bokeh !== undefined) {\n",
       "        clearInterval(timer);\n",
       "        embed_document(root);\n",
       "      } else {\n",
       "        attempts++;\n",
       "        if (attempts > 100) {\n",
       "          clearInterval(timer);\n",
       "          console.log(\"Bokeh: ERROR: Unable to run BokehJS code because BokehJS library is missing\");\n",
       "        }\n",
       "      }\n",
       "    }, 10, root)\n",
       "  }\n",
       "})(window);"
      ],
      "application/vnd.bokehjs_exec.v0+json": ""
     },
     "metadata": {
      "application/vnd.bokehjs_exec.v0+json": {
       "id": "2146"
      }
     },
     "output_type": "display_data"
    }
   ],
   "source": [
    "xb = df['Periodo'].astype(int)\n",
    "y = df['Subtotal'].astype(float)\n",
    "\n",
    "p = figure(plot_height=350, title = \"Seguimiento de Bibliografía Nacional\", )\n",
    "\n",
    "p.vbar(x= xb, top=y, width=0.9, color = \"#B3DE99\")\n",
    "\n",
    "p.outline_line_width = 7\n",
    "p.outline_line_alpha = 0.3\n",
    "p.outline_line_color = \"#B3DE69\"\n",
    "p.xgrid.band_hatch_scale = 10\n",
    "\n",
    "show(p)"
   ]
  },
  {
   "cell_type": "markdown",
   "metadata": {},
   "source": [
    "<img src=\"https://www.zamzar.com/download.php?uid=a4324f221ae467fdacad09c75403a54-853071337d6920c9&targetId=pmVo4ovEokn3e0OeWCcFSQ_I_I&fileID=p1e1cr0sfcqft6ueqih1slctof4.gif\">"
   ]
  },
  {
   "cell_type": "code",
   "execution_count": 70,
   "metadata": {},
   "outputs": [
    {
     "data": {
      "text/html": [
       "\n",
       "\n",
       "\n",
       "\n",
       "\n",
       "\n",
       "  <div class=\"bk-root\" id=\"e1b4cf4b-d803-45e8-adfb-bb0a5182ba7e\" data-root-id=\"2313\"></div>\n"
      ]
     },
     "metadata": {},
     "output_type": "display_data"
    },
    {
     "data": {
      "application/javascript": [
       "(function(root) {\n",
       "  function embed_document(root) {\n",
       "    \n",
       "  var docs_json = {\"2b9b7470-c655-4ad8-ace3-982839802faa\":{\"roots\":{\"references\":[{\"attributes\":{\"below\":[{\"id\":\"2324\",\"type\":\"LinearAxis\"}],\"center\":[{\"id\":\"2328\",\"type\":\"Grid\"},{\"id\":\"2333\",\"type\":\"Grid\"}],\"left\":[{\"id\":\"2329\",\"type\":\"LinearAxis\"}],\"outline_line_alpha\":{\"value\":0.3},\"outline_line_color\":{\"value\":\"#CFA7A7\"},\"outline_line_width\":{\"value\":7},\"plot_height\":350,\"renderers\":[{\"id\":\"2350\",\"type\":\"GlyphRenderer\"}],\"title\":{\"id\":\"2314\",\"type\":\"Title\"},\"toolbar\":{\"id\":\"2340\",\"type\":\"Toolbar\"},\"x_range\":{\"id\":\"2316\",\"type\":\"DataRange1d\"},\"x_scale\":{\"id\":\"2320\",\"type\":\"LinearScale\"},\"y_range\":{\"id\":\"2318\",\"type\":\"DataRange1d\"},\"y_scale\":{\"id\":\"2322\",\"type\":\"LinearScale\"}},\"id\":\"2313\",\"subtype\":\"Figure\",\"type\":\"Plot\"},{\"attributes\":{},\"id\":\"2330\",\"type\":\"BasicTicker\"},{\"attributes\":{\"dimension\":1,\"ticker\":{\"id\":\"2330\",\"type\":\"BasicTicker\"}},\"id\":\"2333\",\"type\":\"Grid\"},{\"attributes\":{\"fill_color\":{\"value\":\"#CFA7A7\"},\"line_color\":{\"value\":\"#CFA7A7\"},\"top\":{\"field\":\"top\"},\"width\":{\"value\":0.9},\"x\":{\"field\":\"x\"}},\"id\":\"2348\",\"type\":\"VBar\"},{\"attributes\":{\"active_drag\":\"auto\",\"active_inspect\":\"auto\",\"active_multi\":null,\"active_scroll\":\"auto\",\"active_tap\":\"auto\",\"tools\":[{\"id\":\"2334\",\"type\":\"PanTool\"},{\"id\":\"2335\",\"type\":\"WheelZoomTool\"},{\"id\":\"2336\",\"type\":\"BoxZoomTool\"},{\"id\":\"2337\",\"type\":\"SaveTool\"},{\"id\":\"2338\",\"type\":\"ResetTool\"},{\"id\":\"2339\",\"type\":\"HelpTool\"}]},\"id\":\"2340\",\"type\":\"Toolbar\"},{\"attributes\":{},\"id\":\"2334\",\"type\":\"PanTool\"},{\"attributes\":{\"fill_alpha\":{\"value\":0.1},\"fill_color\":{\"value\":\"#1f77b4\"},\"line_alpha\":{\"value\":0.1},\"line_color\":{\"value\":\"#1f77b4\"},\"top\":{\"field\":\"top\"},\"width\":{\"value\":0.9},\"x\":{\"field\":\"x\"}},\"id\":\"2349\",\"type\":\"VBar\"},{\"attributes\":{},\"id\":\"2335\",\"type\":\"WheelZoomTool\"},{\"attributes\":{\"overlay\":{\"id\":\"2437\",\"type\":\"BoxAnnotation\"}},\"id\":\"2336\",\"type\":\"BoxZoomTool\"},{\"attributes\":{\"callback\":null,\"data\":{\"top\":{\"__ndarray__\":\"ke18PzVeA0AMAiuHFtn8Pzm0yHa+nwFAnMQgsHJoAkD8qfHSTWL+P1pkO99PjfM/AAAAAADwi0DRItv5fmryP76fGi/dJPA/AAAAAACQhUAAAAAAAACNQAAAAAAA+IpAUrgehetR8D8=\",\"dtype\":\"float64\",\"shape\":[13]},\"x\":[2006,2007,2008,2009,2010,2011,2012,2013,2014,2015,2016,2017,2018]},\"selected\":{\"id\":\"2438\",\"type\":\"Selection\"},\"selection_policy\":{\"id\":\"2439\",\"type\":\"UnionRenderers\"}},\"id\":\"2347\",\"type\":\"ColumnDataSource\"},{\"attributes\":{},\"id\":\"2337\",\"type\":\"SaveTool\"},{\"attributes\":{\"text\":\"Publicacines Peri\\u00f3dicos Bibliograf\\u00eda Nacional\"},\"id\":\"2314\",\"type\":\"Title\"},{\"attributes\":{},\"id\":\"2338\",\"type\":\"ResetTool\"},{\"attributes\":{},\"id\":\"2339\",\"type\":\"HelpTool\"},{\"attributes\":{\"callback\":null},\"id\":\"2316\",\"type\":\"DataRange1d\"},{\"attributes\":{\"callback\":null},\"id\":\"2318\",\"type\":\"DataRange1d\"},{\"attributes\":{},\"id\":\"2433\",\"type\":\"BasicTickFormatter\"},{\"attributes\":{},\"id\":\"2320\",\"type\":\"LinearScale\"},{\"attributes\":{\"data_source\":{\"id\":\"2347\",\"type\":\"ColumnDataSource\"},\"glyph\":{\"id\":\"2348\",\"type\":\"VBar\"},\"hover_glyph\":null,\"muted_glyph\":null,\"nonselection_glyph\":{\"id\":\"2349\",\"type\":\"VBar\"},\"selection_glyph\":null,\"view\":{\"id\":\"2351\",\"type\":\"CDSView\"}},\"id\":\"2350\",\"type\":\"GlyphRenderer\"},{\"attributes\":{\"source\":{\"id\":\"2347\",\"type\":\"ColumnDataSource\"}},\"id\":\"2351\",\"type\":\"CDSView\"},{\"attributes\":{},\"id\":\"2322\",\"type\":\"LinearScale\"},{\"attributes\":{\"axis_label\":\"Periodo\",\"formatter\":{\"id\":\"2435\",\"type\":\"BasicTickFormatter\"},\"ticker\":{\"id\":\"2325\",\"type\":\"BasicTicker\"}},\"id\":\"2324\",\"type\":\"LinearAxis\"},{\"attributes\":{},\"id\":\"2435\",\"type\":\"BasicTickFormatter\"},{\"attributes\":{},\"id\":\"2325\",\"type\":\"BasicTicker\"},{\"attributes\":{\"bottom_units\":\"screen\",\"fill_alpha\":{\"value\":0.5},\"fill_color\":{\"value\":\"lightgrey\"},\"left_units\":\"screen\",\"level\":\"overlay\",\"line_alpha\":{\"value\":1.0},\"line_color\":{\"value\":\"black\"},\"line_dash\":[4,4],\"line_width\":{\"value\":2},\"render_mode\":\"css\",\"right_units\":\"screen\",\"top_units\":\"screen\"},\"id\":\"2437\",\"type\":\"BoxAnnotation\"},{\"attributes\":{\"band_hatch_scale\":10,\"ticker\":{\"id\":\"2325\",\"type\":\"BasicTicker\"}},\"id\":\"2328\",\"type\":\"Grid\"},{\"attributes\":{},\"id\":\"2438\",\"type\":\"Selection\"},{\"attributes\":{\"axis_label\":\"Publicaciones Periodicas\",\"formatter\":{\"id\":\"2433\",\"type\":\"BasicTickFormatter\"},\"ticker\":{\"id\":\"2330\",\"type\":\"BasicTicker\"}},\"id\":\"2329\",\"type\":\"LinearAxis\"},{\"attributes\":{},\"id\":\"2439\",\"type\":\"UnionRenderers\"}],\"root_ids\":[\"2313\"]},\"title\":\"Bokeh Application\",\"version\":\"1.4.0\"}};\n",
       "  var render_items = [{\"docid\":\"2b9b7470-c655-4ad8-ace3-982839802faa\",\"roots\":{\"2313\":\"e1b4cf4b-d803-45e8-adfb-bb0a5182ba7e\"}}];\n",
       "  root.Bokeh.embed.embed_items_notebook(docs_json, render_items);\n",
       "\n",
       "  }\n",
       "  if (root.Bokeh !== undefined) {\n",
       "    embed_document(root);\n",
       "  } else {\n",
       "    var attempts = 0;\n",
       "    var timer = setInterval(function(root) {\n",
       "      if (root.Bokeh !== undefined) {\n",
       "        clearInterval(timer);\n",
       "        embed_document(root);\n",
       "      } else {\n",
       "        attempts++;\n",
       "        if (attempts > 100) {\n",
       "          clearInterval(timer);\n",
       "          console.log(\"Bokeh: ERROR: Unable to run BokehJS code because BokehJS library is missing\");\n",
       "        }\n",
       "      }\n",
       "    }, 10, root)\n",
       "  }\n",
       "})(window);"
      ],
      "application/vnd.bokehjs_exec.v0+json": ""
     },
     "metadata": {
      "application/vnd.bokehjs_exec.v0+json": {
       "id": "2313"
      }
     },
     "output_type": "display_data"
    }
   ],
   "source": [
    "xb = df['Periodo'].astype(int)\n",
    "y = df['Pub_periodicas'].astype(float)\n",
    "\n",
    "p = figure(plot_height=350, title = \"Publicacines Periódicos Bibliografía Nacional\")\n",
    "\n",
    "p.vbar(x= xb, top=y, width=0.9, color = \"#CFA7A7\")\n",
    "\n",
    "p.xaxis.axis_label = 'Periodo'\n",
    "p.yaxis.axis_label = 'Publicaciones Periodicas'\n",
    "p.outline_line_width = 7\n",
    "p.outline_line_alpha = 0.3\n",
    "p.outline_line_color = \"#CFA7A7\"\n",
    "p.xgrid.band_hatch_scale = 10\n",
    "\n",
    "show(p)"
   ]
  },
  {
   "cell_type": "markdown",
   "metadata": {},
   "source": [
    "<img src=\"https://www.zamzar.com/download.php?uid=1715a8fb955cb990fee174e8b41ea951-7393548d16d95d18&targetId=KWEBPhg_YfzLmqKFtASr3dr8J5NxiMAnb&fileID=p1e1crb9tjp1sr3hu2e1qv81p8j4.gif\">"
   ]
  },
  {
   "cell_type": "markdown",
   "metadata": {},
   "source": [
    "<H2 style=\"text-align: center;\">Gráfico de Lineas</H2>"
   ]
  },
  {
   "cell_type": "code",
   "execution_count": 71,
   "metadata": {
    "scrolled": true
   },
   "outputs": [
    {
     "data": {
      "text/html": [
       "\n",
       "\n",
       "\n",
       "\n",
       "\n",
       "\n",
       "  <div class=\"bk-root\" id=\"c63cf8fd-8c52-423b-b1e1-f21c6fc5fc83\" data-root-id=\"2488\"></div>\n"
      ]
     },
     "metadata": {},
     "output_type": "display_data"
    },
    {
     "data": {
      "application/javascript": [
       "(function(root) {\n",
       "  function embed_document(root) {\n",
       "    \n",
       "  var docs_json = {\"049dfb2d-071f-440d-88c3-d781ff077196\":{\"roots\":{\"references\":[{\"attributes\":{\"below\":[{\"id\":\"2499\",\"type\":\"LinearAxis\"}],\"center\":[{\"id\":\"2503\",\"type\":\"Grid\"},{\"id\":\"2508\",\"type\":\"Grid\"}],\"left\":[{\"id\":\"2504\",\"type\":\"LinearAxis\"}],\"outline_line_alpha\":{\"value\":0.3},\"outline_line_color\":{\"value\":\"blue\"},\"outline_line_width\":{\"value\":7},\"plot_height\":350,\"renderers\":[{\"id\":\"2525\",\"type\":\"GlyphRenderer\"}],\"title\":{\"id\":\"2489\",\"type\":\"Title\"},\"toolbar\":{\"id\":\"2515\",\"type\":\"Toolbar\"},\"x_range\":{\"id\":\"2491\",\"type\":\"DataRange1d\"},\"x_scale\":{\"id\":\"2495\",\"type\":\"LinearScale\"},\"y_range\":{\"id\":\"2493\",\"type\":\"DataRange1d\"},\"y_scale\":{\"id\":\"2497\",\"type\":\"LinearScale\"}},\"id\":\"2488\",\"subtype\":\"Figure\",\"type\":\"Plot\"},{\"attributes\":{},\"id\":\"2500\",\"type\":\"BasicTicker\"},{\"attributes\":{\"bottom_units\":\"screen\",\"fill_alpha\":{\"value\":0.5},\"fill_color\":{\"value\":\"lightgrey\"},\"left_units\":\"screen\",\"level\":\"overlay\",\"line_alpha\":{\"value\":1.0},\"line_color\":{\"value\":\"black\"},\"line_dash\":[4,4],\"line_width\":{\"value\":2},\"render_mode\":\"css\",\"right_units\":\"screen\",\"top_units\":\"screen\"},\"id\":\"2620\",\"type\":\"BoxAnnotation\"},{\"attributes\":{\"axis_label\":\"Cartografia\",\"formatter\":{\"id\":\"2616\",\"type\":\"BasicTickFormatter\"},\"ticker\":{\"id\":\"2505\",\"type\":\"BasicTicker\"}},\"id\":\"2504\",\"type\":\"LinearAxis\"},{\"attributes\":{\"band_hatch_scale\":10,\"ticker\":{\"id\":\"2500\",\"type\":\"BasicTicker\"}},\"id\":\"2503\",\"type\":\"Grid\"},{\"attributes\":{},\"id\":\"2514\",\"type\":\"HelpTool\"},{\"attributes\":{\"line_alpha\":0.1,\"line_color\":\"#1f77b4\",\"line_width\":2,\"x\":{\"field\":\"x\"},\"y\":{\"field\":\"y\"}},\"id\":\"2524\",\"type\":\"Line\"},{\"attributes\":{\"dimension\":1,\"ticker\":{\"id\":\"2505\",\"type\":\"BasicTicker\"}},\"id\":\"2508\",\"type\":\"Grid\"},{\"attributes\":{\"axis_label\":\"Periodo\",\"formatter\":{\"id\":\"2618\",\"type\":\"BasicTickFormatter\"},\"ticker\":{\"id\":\"2500\",\"type\":\"BasicTicker\"}},\"id\":\"2499\",\"type\":\"LinearAxis\"},{\"attributes\":{},\"id\":\"2618\",\"type\":\"BasicTickFormatter\"},{\"attributes\":{},\"id\":\"2495\",\"type\":\"LinearScale\"},{\"attributes\":{\"line_color\":\"blue\",\"line_width\":2,\"x\":{\"field\":\"x\"},\"y\":{\"field\":\"y\"}},\"id\":\"2523\",\"type\":\"Line\"},{\"attributes\":{},\"id\":\"2505\",\"type\":\"BasicTicker\"},{\"attributes\":{},\"id\":\"2497\",\"type\":\"LinearScale\"},{\"attributes\":{},\"id\":\"2621\",\"type\":\"Selection\"},{\"attributes\":{\"callback\":null},\"id\":\"2493\",\"type\":\"DataRange1d\"},{\"attributes\":{},\"id\":\"2513\",\"type\":\"ResetTool\"},{\"attributes\":{\"callback\":null},\"id\":\"2491\",\"type\":\"DataRange1d\"},{\"attributes\":{},\"id\":\"2510\",\"type\":\"WheelZoomTool\"},{\"attributes\":{},\"id\":\"2622\",\"type\":\"UnionRenderers\"},{\"attributes\":{\"overlay\":{\"id\":\"2620\",\"type\":\"BoxAnnotation\"}},\"id\":\"2511\",\"type\":\"BoxZoomTool\"},{\"attributes\":{\"active_drag\":\"auto\",\"active_inspect\":\"auto\",\"active_multi\":null,\"active_scroll\":\"auto\",\"active_tap\":\"auto\",\"tools\":[{\"id\":\"2509\",\"type\":\"PanTool\"},{\"id\":\"2510\",\"type\":\"WheelZoomTool\"},{\"id\":\"2511\",\"type\":\"BoxZoomTool\"},{\"id\":\"2512\",\"type\":\"SaveTool\"},{\"id\":\"2513\",\"type\":\"ResetTool\"},{\"id\":\"2514\",\"type\":\"HelpTool\"}]},\"id\":\"2515\",\"type\":\"Toolbar\"},{\"attributes\":{\"text\":\"Cartografia de la Bibliografia Nacional\"},\"id\":\"2489\",\"type\":\"Title\"},{\"attributes\":{\"callback\":null,\"data\":{\"x\":[2006,2007,2008,2009,2010,2011,2012,2013,2014,2015,2016,2017,2018],\"y\":{\"__ndarray__\":\"AAAAAAAAAAA3iUFg5dD2P5HtfD81XvQ/EoPAyqFF/j9xPQrXo3D/P1TjpZvEIAFAhetRuB6F8z9kO99PjZfyP7bz/dR46fQ/3SQGgZVD/T8IrBxaZDvzPwwCK4cW2fQ/AAAAAAAAAAA=\",\"dtype\":\"float64\",\"shape\":[13]}},\"selected\":{\"id\":\"2621\",\"type\":\"Selection\"},\"selection_policy\":{\"id\":\"2622\",\"type\":\"UnionRenderers\"}},\"id\":\"2522\",\"type\":\"ColumnDataSource\"},{\"attributes\":{},\"id\":\"2512\",\"type\":\"SaveTool\"},{\"attributes\":{},\"id\":\"2616\",\"type\":\"BasicTickFormatter\"},{\"attributes\":{},\"id\":\"2509\",\"type\":\"PanTool\"},{\"attributes\":{\"data_source\":{\"id\":\"2522\",\"type\":\"ColumnDataSource\"},\"glyph\":{\"id\":\"2523\",\"type\":\"Line\"},\"hover_glyph\":null,\"muted_glyph\":null,\"nonselection_glyph\":{\"id\":\"2524\",\"type\":\"Line\"},\"selection_glyph\":null,\"view\":{\"id\":\"2526\",\"type\":\"CDSView\"}},\"id\":\"2525\",\"type\":\"GlyphRenderer\"},{\"attributes\":{\"source\":{\"id\":\"2522\",\"type\":\"ColumnDataSource\"}},\"id\":\"2526\",\"type\":\"CDSView\"}],\"root_ids\":[\"2488\"]},\"title\":\"Bokeh Application\",\"version\":\"1.4.0\"}};\n",
       "  var render_items = [{\"docid\":\"049dfb2d-071f-440d-88c3-d781ff077196\",\"roots\":{\"2488\":\"c63cf8fd-8c52-423b-b1e1-f21c6fc5fc83\"}}];\n",
       "  root.Bokeh.embed.embed_items_notebook(docs_json, render_items);\n",
       "\n",
       "  }\n",
       "  if (root.Bokeh !== undefined) {\n",
       "    embed_document(root);\n",
       "  } else {\n",
       "    var attempts = 0;\n",
       "    var timer = setInterval(function(root) {\n",
       "      if (root.Bokeh !== undefined) {\n",
       "        clearInterval(timer);\n",
       "        embed_document(root);\n",
       "      } else {\n",
       "        attempts++;\n",
       "        if (attempts > 100) {\n",
       "          clearInterval(timer);\n",
       "          console.log(\"Bokeh: ERROR: Unable to run BokehJS code because BokehJS library is missing\");\n",
       "        }\n",
       "      }\n",
       "    }, 10, root)\n",
       "  }\n",
       "})(window);"
      ],
      "application/vnd.bokehjs_exec.v0+json": ""
     },
     "metadata": {
      "application/vnd.bokehjs_exec.v0+json": {
       "id": "2488"
      }
     },
     "output_type": "display_data"
    }
   ],
   "source": [
    "xb = df['Periodo'].astype(int)\n",
    "yb = df['Cartografia'].astype(float)\n",
    "\n",
    "p = figure(plot_height=350, title = \"Cartografia de la Bibliografia Nacional\")\n",
    "\n",
    "p.line(x=xb, y=yb, color=\"blue\", line_width=2)\n",
    "\n",
    "p.xaxis.axis_label = 'Periodo'\n",
    "p.yaxis.axis_label = 'Cartografia'\n",
    "p.outline_line_width = 7\n",
    "p.outline_line_alpha = 0.3\n",
    "p.outline_line_color = \"blue\"\n",
    "p.xgrid.band_hatch_scale = 10\n",
    "\n",
    "show(p)"
   ]
  },
  {
   "cell_type": "markdown",
   "metadata": {},
   "source": [
    "<img src=\"https://www.zamzar.com/download.php?uid=8dae21be14bccca9269d82d5315bb6e6-3ec275995ade03e&targetId=12Sr3NF0Ch_Ze92VWapGIUy6rzUxqhfR6&fileID=p1e1csdnq318jh13d91bt1mq51trn4.gif\">"
   ]
  },
  {
   "cell_type": "code",
   "execution_count": 73,
   "metadata": {
    "scrolled": false
   },
   "outputs": [
    {
     "name": "stderr",
     "output_type": "stream",
     "text": [
      "BokehDeprecationWarning: 'legend' keyword is deprecated, use explicit 'legend_label', 'legend_field', or 'legend_group' keywords instead\n",
      "BokehDeprecationWarning: 'legend' keyword is deprecated, use explicit 'legend_label', 'legend_field', or 'legend_group' keywords instead\n"
     ]
    },
    {
     "data": {
      "text/html": [
       "\n",
       "\n",
       "\n",
       "\n",
       "\n",
       "\n",
       "  <div class=\"bk-root\" id=\"e31ad378-c8c1-401c-a3cb-da49318d6735\" data-root-id=\"2671\"></div>\n"
      ]
     },
     "metadata": {},
     "output_type": "display_data"
    },
    {
     "data": {
      "application/javascript": [
       "(function(root) {\n",
       "  function embed_document(root) {\n",
       "    \n",
       "  var docs_json = {\"ed75cebd-f39b-4034-82b6-7e4893e7bec2\":{\"roots\":{\"references\":[{\"attributes\":{\"below\":[{\"id\":\"2682\",\"type\":\"LinearAxis\"}],\"center\":[{\"id\":\"2686\",\"type\":\"Grid\"},{\"id\":\"2691\",\"type\":\"Grid\"},{\"id\":\"2716\",\"type\":\"Legend\"}],\"left\":[{\"id\":\"2687\",\"type\":\"LinearAxis\"}],\"outline_line_alpha\":{\"value\":0.3},\"outline_line_color\":{\"value\":\"green\"},\"outline_line_width\":{\"value\":7},\"plot_height\":350,\"renderers\":[{\"id\":\"2708\",\"type\":\"GlyphRenderer\"},{\"id\":\"2721\",\"type\":\"GlyphRenderer\"}],\"title\":{\"id\":\"2672\",\"type\":\"Title\"},\"toolbar\":{\"id\":\"2698\",\"type\":\"Toolbar\"},\"x_range\":{\"id\":\"2674\",\"type\":\"DataRange1d\"},\"x_scale\":{\"id\":\"2678\",\"type\":\"LinearScale\"},\"y_range\":{\"id\":\"2676\",\"type\":\"DataRange1d\"},\"y_scale\":{\"id\":\"2680\",\"type\":\"LinearScale\"}},\"id\":\"2671\",\"subtype\":\"Figure\",\"type\":\"Plot\"},{\"attributes\":{},\"id\":\"2837\",\"type\":\"UnionRenderers\"},{\"attributes\":{},\"id\":\"2697\",\"type\":\"HelpTool\"},{\"attributes\":{\"callback\":null},\"id\":\"2674\",\"type\":\"DataRange1d\"},{\"attributes\":{\"callback\":null},\"id\":\"2676\",\"type\":\"DataRange1d\"},{\"attributes\":{\"active_drag\":\"auto\",\"active_inspect\":\"auto\",\"active_multi\":null,\"active_scroll\":\"auto\",\"active_tap\":\"auto\",\"tools\":[{\"id\":\"2692\",\"type\":\"PanTool\"},{\"id\":\"2693\",\"type\":\"WheelZoomTool\"},{\"id\":\"2694\",\"type\":\"BoxZoomTool\"},{\"id\":\"2695\",\"type\":\"SaveTool\"},{\"id\":\"2696\",\"type\":\"ResetTool\"},{\"id\":\"2697\",\"type\":\"HelpTool\"}]},\"id\":\"2698\",\"type\":\"Toolbar\"},{\"attributes\":{\"source\":{\"id\":\"2705\",\"type\":\"ColumnDataSource\"}},\"id\":\"2709\",\"type\":\"CDSView\"},{\"attributes\":{},\"id\":\"2678\",\"type\":\"LinearScale\"},{\"attributes\":{},\"id\":\"2680\",\"type\":\"LinearScale\"},{\"attributes\":{},\"id\":\"2711\",\"type\":\"BasicTickFormatter\"},{\"attributes\":{},\"id\":\"2836\",\"type\":\"Selection\"},{\"attributes\":{\"axis_label\":\"Periodo\",\"formatter\":{\"id\":\"2713\",\"type\":\"BasicTickFormatter\"},\"ticker\":{\"id\":\"2683\",\"type\":\"BasicTicker\"}},\"id\":\"2682\",\"type\":\"LinearAxis\"},{\"attributes\":{},\"id\":\"2713\",\"type\":\"BasicTickFormatter\"},{\"attributes\":{},\"id\":\"2683\",\"type\":\"BasicTicker\"},{\"attributes\":{\"bottom_units\":\"screen\",\"fill_alpha\":{\"value\":0.5},\"fill_color\":{\"value\":\"lightgrey\"},\"left_units\":\"screen\",\"level\":\"overlay\",\"line_alpha\":{\"value\":1.0},\"line_color\":{\"value\":\"black\"},\"line_dash\":[4,4],\"line_width\":{\"value\":2},\"render_mode\":\"css\",\"right_units\":\"screen\",\"top_units\":\"screen\"},\"id\":\"2715\",\"type\":\"BoxAnnotation\"},{\"attributes\":{\"band_hatch_scale\":10,\"ticker\":{\"id\":\"2683\",\"type\":\"BasicTicker\"}},\"id\":\"2686\",\"type\":\"Grid\"},{\"attributes\":{\"items\":[{\"id\":\"2717\",\"type\":\"LegendItem\"},{\"id\":\"2731\",\"type\":\"LegendItem\"}]},\"id\":\"2716\",\"type\":\"Legend\"},{\"attributes\":{\"axis_label\":\"Cartografia\",\"formatter\":{\"id\":\"2711\",\"type\":\"BasicTickFormatter\"},\"ticker\":{\"id\":\"2688\",\"type\":\"BasicTicker\"}},\"id\":\"2687\",\"type\":\"LinearAxis\"},{\"attributes\":{\"label\":{\"value\":\"Cartografia\"},\"renderers\":[{\"id\":\"2708\",\"type\":\"GlyphRenderer\"}]},\"id\":\"2717\",\"type\":\"LegendItem\"},{\"attributes\":{},\"id\":\"2688\",\"type\":\"BasicTicker\"},{\"attributes\":{\"dimension\":1,\"ticker\":{\"id\":\"2688\",\"type\":\"BasicTicker\"}},\"id\":\"2691\",\"type\":\"Grid\"},{\"attributes\":{\"source\":{\"id\":\"2718\",\"type\":\"ColumnDataSource\"}},\"id\":\"2722\",\"type\":\"CDSView\"},{\"attributes\":{\"line_color\":\"orange\",\"line_width\":2,\"x\":{\"field\":\"x\"},\"y\":{\"field\":\"y\"}},\"id\":\"2719\",\"type\":\"Line\"},{\"attributes\":{\"line_alpha\":0.1,\"line_color\":\"#1f77b4\",\"line_width\":2,\"x\":{\"field\":\"x\"},\"y\":{\"field\":\"y\"}},\"id\":\"2707\",\"type\":\"Line\"},{\"attributes\":{\"line_alpha\":0.1,\"line_color\":\"#1f77b4\",\"line_width\":2,\"x\":{\"field\":\"x\"},\"y\":{\"field\":\"y\"}},\"id\":\"2720\",\"type\":\"Line\"},{\"attributes\":{\"line_color\":\"green\",\"line_width\":2,\"x\":{\"field\":\"x\"},\"y\":{\"field\":\"y\"}},\"id\":\"2706\",\"type\":\"Line\"},{\"attributes\":{\"callback\":null,\"data\":{\"x\":[2006,2007,2008,2009,2010,2011,2012,2013,2014,2015,2016,2017,2018],\"y\":{\"__ndarray__\":\"AAAAAAAAAABqvHSTGAQLQC2yne+nxglA001iEFg5CkDTTWIQWDkLQCPb+X5qvAtAppvEILByC0Bg5dAi2/kIQDEIrBxaZAxAAAAAAAAAAAAAAAAAAAAAAAAAAAAAAAAAAAAAAAAAAAA=\",\"dtype\":\"float64\",\"shape\":[13]}},\"selected\":{\"id\":\"2836\",\"type\":\"Selection\"},\"selection_policy\":{\"id\":\"2837\",\"type\":\"UnionRenderers\"}},\"id\":\"2718\",\"type\":\"ColumnDataSource\"},{\"attributes\":{\"data_source\":{\"id\":\"2718\",\"type\":\"ColumnDataSource\"},\"glyph\":{\"id\":\"2719\",\"type\":\"Line\"},\"hover_glyph\":null,\"muted_glyph\":null,\"nonselection_glyph\":{\"id\":\"2720\",\"type\":\"Line\"},\"selection_glyph\":null,\"view\":{\"id\":\"2722\",\"type\":\"CDSView\"}},\"id\":\"2721\",\"type\":\"GlyphRenderer\"},{\"attributes\":{\"data_source\":{\"id\":\"2705\",\"type\":\"ColumnDataSource\"},\"glyph\":{\"id\":\"2706\",\"type\":\"Line\"},\"hover_glyph\":null,\"muted_glyph\":null,\"nonselection_glyph\":{\"id\":\"2707\",\"type\":\"Line\"},\"selection_glyph\":null,\"view\":{\"id\":\"2709\",\"type\":\"CDSView\"}},\"id\":\"2708\",\"type\":\"GlyphRenderer\"},{\"attributes\":{},\"id\":\"2692\",\"type\":\"PanTool\"},{\"attributes\":{},\"id\":\"2729\",\"type\":\"Selection\"},{\"attributes\":{},\"id\":\"2693\",\"type\":\"WheelZoomTool\"},{\"attributes\":{},\"id\":\"2730\",\"type\":\"UnionRenderers\"},{\"attributes\":{\"overlay\":{\"id\":\"2715\",\"type\":\"BoxAnnotation\"}},\"id\":\"2694\",\"type\":\"BoxZoomTool\"},{\"attributes\":{\"label\":{\"value\":\"Musica\"},\"renderers\":[{\"id\":\"2721\",\"type\":\"GlyphRenderer\"}]},\"id\":\"2731\",\"type\":\"LegendItem\"},{\"attributes\":{},\"id\":\"2695\",\"type\":\"SaveTool\"},{\"attributes\":{\"callback\":null,\"data\":{\"x\":[2006,2007,2008,2009,2010,2011,2012,2013,2014,2015,2016,2017,2018],\"y\":{\"__ndarray__\":\"AAAAAAAAAAA3iUFg5dD2P5HtfD81XvQ/EoPAyqFF/j9xPQrXo3D/P1TjpZvEIAFAhetRuB6F8z9kO99PjZfyP7bz/dR46fQ/3SQGgZVD/T8IrBxaZDvzPwwCK4cW2fQ/AAAAAAAAAAA=\",\"dtype\":\"float64\",\"shape\":[13]}},\"selected\":{\"id\":\"2729\",\"type\":\"Selection\"},\"selection_policy\":{\"id\":\"2730\",\"type\":\"UnionRenderers\"}},\"id\":\"2705\",\"type\":\"ColumnDataSource\"},{\"attributes\":{},\"id\":\"2696\",\"type\":\"ResetTool\"},{\"attributes\":{\"text\":\"Crecimiento Cartografia vs Musica Impresa de la Bibliografia Nacional\"},\"id\":\"2672\",\"type\":\"Title\"}],\"root_ids\":[\"2671\"]},\"title\":\"Bokeh Application\",\"version\":\"1.4.0\"}};\n",
       "  var render_items = [{\"docid\":\"ed75cebd-f39b-4034-82b6-7e4893e7bec2\",\"roots\":{\"2671\":\"e31ad378-c8c1-401c-a3cb-da49318d6735\"}}];\n",
       "  root.Bokeh.embed.embed_items_notebook(docs_json, render_items);\n",
       "\n",
       "  }\n",
       "  if (root.Bokeh !== undefined) {\n",
       "    embed_document(root);\n",
       "  } else {\n",
       "    var attempts = 0;\n",
       "    var timer = setInterval(function(root) {\n",
       "      if (root.Bokeh !== undefined) {\n",
       "        clearInterval(timer);\n",
       "        embed_document(root);\n",
       "      } else {\n",
       "        attempts++;\n",
       "        if (attempts > 100) {\n",
       "          clearInterval(timer);\n",
       "          console.log(\"Bokeh: ERROR: Unable to run BokehJS code because BokehJS library is missing\");\n",
       "        }\n",
       "      }\n",
       "    }, 10, root)\n",
       "  }\n",
       "})(window);"
      ],
      "application/vnd.bokehjs_exec.v0+json": ""
     },
     "metadata": {
      "application/vnd.bokehjs_exec.v0+json": {
       "id": "2671"
      }
     },
     "output_type": "display_data"
    }
   ],
   "source": [
    "xb = df['Periodo'].astype(int)\n",
    "yb = df['Cartografia'].astype(float)\n",
    "ya = df['Musica_impresa'].astype(float)\n",
    "\n",
    "p = figure(plot_height=350, title = \"Crecimiento Cartografia vs Musica Impresa de la Bibliografia Nacional\")\n",
    "\n",
    "p.line(x=xb, y=yb, color=\"green\", line_width=2, legend =\"Cartografia\")\n",
    "p.line(x=xb, y=ya, color=\"orange\", line_width=2, legend =\"Musica\")\n",
    "\n",
    "p.xaxis.axis_label = 'Periodo'\n",
    "p.yaxis.axis_label = 'Cartografia'\n",
    "p.outline_line_width = 7\n",
    "p.outline_line_alpha = 0.3\n",
    "p.outline_line_color = \"green\"\n",
    "p.xgrid.band_hatch_scale = 10\n",
    "\n",
    "show(p)\n"
   ]
  },
  {
   "cell_type": "markdown",
   "metadata": {},
   "source": [
    "<img src=\"https://www.zamzar.com/download.php?uid=705dd3530d871ad5461249fb5f90f7-5adac1702b7bcd4b&targetId=12Sr3NF0Ch_Ze92VWapGIUy6rzUxqhfR6&fileID=p1e1csju5c8ehcq5euhc42h9t4.gif\">"
   ]
  },
  {
   "cell_type": "code",
   "execution_count": 75,
   "metadata": {
    "scrolled": false
   },
   "outputs": [
    {
     "data": {
      "text/html": [
       "\n",
       "\n",
       "\n",
       "\n",
       "\n",
       "\n",
       "  <div class=\"bk-root\" id=\"54266eaa-2622-43bf-9020-6c7b81c9f329\" data-root-id=\"2997\"></div>\n"
      ]
     },
     "metadata": {},
     "output_type": "display_data"
    },
    {
     "data": {
      "application/javascript": [
       "(function(root) {\n",
       "  function embed_document(root) {\n",
       "    \n",
       "  var docs_json = {\"96f4a910-d99f-4317-9108-0a1649a21db3\":{\"roots\":{\"references\":[{\"attributes\":{\"children\":[{\"id\":\"2996\",\"type\":\"ToolbarBox\"},{\"id\":\"2994\",\"type\":\"GridBox\"}]},\"id\":\"2997\",\"type\":\"Column\"},{\"attributes\":{\"callback\":null},\"id\":\"2942\",\"type\":\"DataRange1d\"},{\"attributes\":{\"band_hatch_scale\":10,\"ticker\":{\"id\":\"2910\",\"type\":\"BasicTicker\"}},\"id\":\"2913\",\"type\":\"Grid\"},{\"attributes\":{},\"id\":\"2979\",\"type\":\"BasicTickFormatter\"},{\"attributes\":{\"axis_label\":\"Cartografia\",\"formatter\":{\"id\":\"2977\",\"type\":\"BasicTickFormatter\"},\"ticker\":{\"id\":\"2915\",\"type\":\"BasicTicker\"}},\"id\":\"2914\",\"type\":\"LinearAxis\"},{\"attributes\":{},\"id\":\"2944\",\"type\":\"LinearScale\"},{\"attributes\":{\"axis_label\":\"Periodo\",\"formatter\":{\"id\":\"2979\",\"type\":\"BasicTickFormatter\"},\"ticker\":{\"id\":\"2910\",\"type\":\"BasicTicker\"}},\"id\":\"2909\",\"type\":\"LinearAxis\"},{\"attributes\":{\"bottom_units\":\"screen\",\"fill_alpha\":{\"value\":0.5},\"fill_color\":{\"value\":\"lightgrey\"},\"left_units\":\"screen\",\"level\":\"overlay\",\"line_alpha\":{\"value\":1.0},\"line_color\":{\"value\":\"black\"},\"line_dash\":[4,4],\"line_width\":{\"value\":2},\"render_mode\":\"css\",\"right_units\":\"screen\",\"top_units\":\"screen\"},\"id\":\"2990\",\"type\":\"BoxAnnotation\"},{\"attributes\":{},\"id\":\"2915\",\"type\":\"BasicTicker\"},{\"attributes\":{},\"id\":\"2946\",\"type\":\"LinearScale\"},{\"attributes\":{\"dimension\":1,\"ticker\":{\"id\":\"2915\",\"type\":\"BasicTicker\"}},\"id\":\"2918\",\"type\":\"Grid\"},{\"attributes\":{\"data_source\":{\"id\":\"2971\",\"type\":\"ColumnDataSource\"},\"glyph\":{\"id\":\"2972\",\"type\":\"Triangle\"},\"hover_glyph\":null,\"muted_glyph\":null,\"nonselection_glyph\":{\"id\":\"2973\",\"type\":\"Triangle\"},\"selection_glyph\":null,\"view\":{\"id\":\"2975\",\"type\":\"CDSView\"}},\"id\":\"2974\",\"type\":\"GlyphRenderer\"},{\"attributes\":{\"source\":{\"id\":\"2971\",\"type\":\"ColumnDataSource\"}},\"id\":\"2975\",\"type\":\"CDSView\"},{\"attributes\":{\"axis_label\":\"Periodo\",\"formatter\":{\"id\":\"2988\",\"type\":\"BasicTickFormatter\"},\"ticker\":{\"id\":\"2949\",\"type\":\"BasicTicker\"}},\"id\":\"2948\",\"type\":\"LinearAxis\"},{\"attributes\":{},\"id\":\"2949\",\"type\":\"BasicTicker\"},{\"attributes\":{\"fill_color\":{\"value\":\"navy\"},\"line_color\":{\"value\":\"navy\"},\"line_width\":{\"value\":2},\"x\":{\"field\":\"x\"},\"y\":{\"field\":\"y\"}},\"id\":\"2933\",\"type\":\"Square\"},{\"attributes\":{\"below\":[{\"id\":\"2948\",\"type\":\"LinearAxis\"}],\"center\":[{\"id\":\"2952\",\"type\":\"Grid\"},{\"id\":\"2957\",\"type\":\"Grid\"}],\"left\":[{\"id\":\"2953\",\"type\":\"LinearAxis\"}],\"outline_line_alpha\":{\"value\":0.3},\"outline_line_color\":{\"value\":\"firebrick\"},\"outline_line_width\":{\"value\":7},\"plot_height\":250,\"plot_width\":450,\"renderers\":[{\"id\":\"2974\",\"type\":\"GlyphRenderer\"}],\"title\":{\"id\":\"2938\",\"type\":\"Title\"},\"toolbar\":{\"id\":\"2964\",\"type\":\"Toolbar\"},\"toolbar_location\":null,\"x_range\":{\"id\":\"2940\",\"type\":\"DataRange1d\"},\"x_scale\":{\"id\":\"2944\",\"type\":\"LinearScale\"},\"y_range\":{\"id\":\"2942\",\"type\":\"DataRange1d\"},\"y_scale\":{\"id\":\"2946\",\"type\":\"LinearScale\"}},\"id\":\"2937\",\"subtype\":\"Figure\",\"type\":\"Plot\"},{\"attributes\":{},\"id\":\"2977\",\"type\":\"BasicTickFormatter\"},{\"attributes\":{\"band_hatch_scale\":10,\"ticker\":{\"id\":\"2949\",\"type\":\"BasicTicker\"}},\"id\":\"2952\",\"type\":\"Grid\"},{\"attributes\":{\"active_drag\":\"auto\",\"active_inspect\":\"auto\",\"active_multi\":null,\"active_scroll\":\"auto\",\"active_tap\":\"auto\",\"tools\":[{\"id\":\"2919\",\"type\":\"PanTool\"},{\"id\":\"2920\",\"type\":\"WheelZoomTool\"},{\"id\":\"2921\",\"type\":\"BoxZoomTool\"},{\"id\":\"2922\",\"type\":\"SaveTool\"},{\"id\":\"2923\",\"type\":\"ResetTool\"},{\"id\":\"2924\",\"type\":\"HelpTool\"}]},\"id\":\"2925\",\"type\":\"Toolbar\"},{\"attributes\":{},\"id\":\"2919\",\"type\":\"PanTool\"},{\"attributes\":{\"bottom_units\":\"screen\",\"fill_alpha\":{\"value\":0.5},\"fill_color\":{\"value\":\"lightgrey\"},\"left_units\":\"screen\",\"level\":\"overlay\",\"line_alpha\":{\"value\":1.0},\"line_color\":{\"value\":\"black\"},\"line_dash\":[4,4],\"line_width\":{\"value\":2},\"render_mode\":\"css\",\"right_units\":\"screen\",\"top_units\":\"screen\"},\"id\":\"2981\",\"type\":\"BoxAnnotation\"},{\"attributes\":{\"axis_label\":\"Monografia\",\"formatter\":{\"id\":\"2986\",\"type\":\"BasicTickFormatter\"},\"ticker\":{\"id\":\"2954\",\"type\":\"BasicTicker\"}},\"id\":\"2953\",\"type\":\"LinearAxis\"},{\"attributes\":{\"below\":[{\"id\":\"2909\",\"type\":\"LinearAxis\"}],\"center\":[{\"id\":\"2913\",\"type\":\"Grid\"},{\"id\":\"2918\",\"type\":\"Grid\"}],\"left\":[{\"id\":\"2914\",\"type\":\"LinearAxis\"}],\"outline_line_alpha\":{\"value\":0.3},\"outline_line_color\":{\"value\":\"navy\"},\"outline_line_width\":{\"value\":7},\"plot_height\":250,\"plot_width\":450,\"renderers\":[{\"id\":\"2935\",\"type\":\"GlyphRenderer\"}],\"title\":{\"id\":\"2899\",\"type\":\"Title\"},\"toolbar\":{\"id\":\"2925\",\"type\":\"Toolbar\"},\"toolbar_location\":null,\"x_range\":{\"id\":\"2901\",\"type\":\"DataRange1d\"},\"x_scale\":{\"id\":\"2905\",\"type\":\"LinearScale\"},\"y_range\":{\"id\":\"2903\",\"type\":\"DataRange1d\"},\"y_scale\":{\"id\":\"2907\",\"type\":\"LinearScale\"}},\"id\":\"2898\",\"subtype\":\"Figure\",\"type\":\"Plot\"},{\"attributes\":{},\"id\":\"2920\",\"type\":\"WheelZoomTool\"},{\"attributes\":{},\"id\":\"2982\",\"type\":\"Selection\"},{\"attributes\":{},\"id\":\"2954\",\"type\":\"BasicTicker\"},{\"attributes\":{\"overlay\":{\"id\":\"2981\",\"type\":\"BoxAnnotation\"}},\"id\":\"2921\",\"type\":\"BoxZoomTool\"},{\"attributes\":{},\"id\":\"2983\",\"type\":\"UnionRenderers\"},{\"attributes\":{\"dimension\":1,\"ticker\":{\"id\":\"2954\",\"type\":\"BasicTicker\"}},\"id\":\"2957\",\"type\":\"Grid\"},{\"attributes\":{\"callback\":null,\"data\":{\"x\":[2006,2007,2008,2009,2010,2011,2012,2013,2014,2015,2016,2017,2018],\"y\":{\"__ndarray__\":\"AAAAAAAAAAA3iUFg5dD2P5HtfD81XvQ/EoPAyqFF/j9xPQrXo3D/P1TjpZvEIAFAhetRuB6F8z9kO99PjZfyP7bz/dR46fQ/3SQGgZVD/T8IrBxaZDvzPwwCK4cW2fQ/AAAAAAAAAAA=\",\"dtype\":\"float64\",\"shape\":[13]}},\"selected\":{\"id\":\"2982\",\"type\":\"Selection\"},\"selection_policy\":{\"id\":\"2983\",\"type\":\"UnionRenderers\"}},\"id\":\"2932\",\"type\":\"ColumnDataSource\"},{\"attributes\":{},\"id\":\"2922\",\"type\":\"SaveTool\"},{\"attributes\":{},\"id\":\"2986\",\"type\":\"BasicTickFormatter\"},{\"attributes\":{\"fill_alpha\":{\"value\":0.1},\"fill_color\":{\"value\":\"#1f77b4\"},\"line_alpha\":{\"value\":0.1},\"line_color\":{\"value\":\"#1f77b4\"},\"line_width\":{\"value\":2},\"x\":{\"field\":\"x\"},\"y\":{\"field\":\"y\"}},\"id\":\"2973\",\"type\":\"Triangle\"},{\"attributes\":{\"fill_alpha\":{\"value\":0.1},\"fill_color\":{\"value\":\"#1f77b4\"},\"line_alpha\":{\"value\":0.1},\"line_color\":{\"value\":\"#1f77b4\"},\"line_width\":{\"value\":2},\"x\":{\"field\":\"x\"},\"y\":{\"field\":\"y\"}},\"id\":\"2934\",\"type\":\"Square\"},{\"attributes\":{},\"id\":\"2923\",\"type\":\"ResetTool\"},{\"attributes\":{},\"id\":\"2988\",\"type\":\"BasicTickFormatter\"},{\"attributes\":{\"fill_color\":{\"value\":\"firebrick\"},\"line_color\":{\"value\":\"firebrick\"},\"line_width\":{\"value\":2},\"x\":{\"field\":\"x\"},\"y\":{\"field\":\"y\"}},\"id\":\"2972\",\"type\":\"Triangle\"},{\"attributes\":{},\"id\":\"2924\",\"type\":\"HelpTool\"},{\"attributes\":{\"active_drag\":\"auto\",\"active_inspect\":\"auto\",\"active_multi\":null,\"active_scroll\":\"auto\",\"active_tap\":\"auto\",\"tools\":[{\"id\":\"2958\",\"type\":\"PanTool\"},{\"id\":\"2959\",\"type\":\"WheelZoomTool\"},{\"id\":\"2960\",\"type\":\"BoxZoomTool\"},{\"id\":\"2961\",\"type\":\"SaveTool\"},{\"id\":\"2962\",\"type\":\"ResetTool\"},{\"id\":\"2963\",\"type\":\"HelpTool\"}]},\"id\":\"2964\",\"type\":\"Toolbar\"},{\"attributes\":{},\"id\":\"2991\",\"type\":\"Selection\"},{\"attributes\":{},\"id\":\"2958\",\"type\":\"PanTool\"},{\"attributes\":{\"text\":\"Crecimiento Cartografia de la Bibliografia Nacional\"},\"id\":\"2899\",\"type\":\"Title\"},{\"attributes\":{},\"id\":\"2992\",\"type\":\"UnionRenderers\"},{\"attributes\":{},\"id\":\"2959\",\"type\":\"WheelZoomTool\"},{\"attributes\":{\"callback\":null},\"id\":\"2901\",\"type\":\"DataRange1d\"},{\"attributes\":{\"source\":{\"id\":\"2932\",\"type\":\"ColumnDataSource\"}},\"id\":\"2936\",\"type\":\"CDSView\"},{\"attributes\":{\"tools\":[{\"id\":\"2919\",\"type\":\"PanTool\"},{\"id\":\"2920\",\"type\":\"WheelZoomTool\"},{\"id\":\"2921\",\"type\":\"BoxZoomTool\"},{\"id\":\"2922\",\"type\":\"SaveTool\"},{\"id\":\"2923\",\"type\":\"ResetTool\"},{\"id\":\"2924\",\"type\":\"HelpTool\"},{\"id\":\"2958\",\"type\":\"PanTool\"},{\"id\":\"2959\",\"type\":\"WheelZoomTool\"},{\"id\":\"2960\",\"type\":\"BoxZoomTool\"},{\"id\":\"2961\",\"type\":\"SaveTool\"},{\"id\":\"2962\",\"type\":\"ResetTool\"},{\"id\":\"2963\",\"type\":\"HelpTool\"}]},\"id\":\"2995\",\"type\":\"ProxyToolbar\"},{\"attributes\":{\"overlay\":{\"id\":\"2990\",\"type\":\"BoxAnnotation\"}},\"id\":\"2960\",\"type\":\"BoxZoomTool\"},{\"attributes\":{\"callback\":null},\"id\":\"2903\",\"type\":\"DataRange1d\"},{\"attributes\":{\"data_source\":{\"id\":\"2932\",\"type\":\"ColumnDataSource\"},\"glyph\":{\"id\":\"2933\",\"type\":\"Square\"},\"hover_glyph\":null,\"muted_glyph\":null,\"nonselection_glyph\":{\"id\":\"2934\",\"type\":\"Square\"},\"selection_glyph\":null,\"view\":{\"id\":\"2936\",\"type\":\"CDSView\"}},\"id\":\"2935\",\"type\":\"GlyphRenderer\"},{\"attributes\":{\"toolbar\":{\"id\":\"2995\",\"type\":\"ProxyToolbar\"},\"toolbar_location\":\"above\"},\"id\":\"2996\",\"type\":\"ToolbarBox\"},{\"attributes\":{\"callback\":null,\"data\":{\"x\":[2006,2007,2008,2009,2010,2011,2012,2013,2014,2015,2016,2017,2018],\"y\":{\"__ndarray__\":\"AAAAAAAAAABqvHSTGAQLQC2yne+nxglA001iEFg5CkDTTWIQWDkLQCPb+X5qvAtAppvEILByC0Bg5dAi2/kIQDEIrBxaZAxAAAAAAAAAAAAAAAAAAAAAAAAAAAAAAAAAAAAAAAAAAAA=\",\"dtype\":\"float64\",\"shape\":[13]}},\"selected\":{\"id\":\"2991\",\"type\":\"Selection\"},\"selection_policy\":{\"id\":\"2992\",\"type\":\"UnionRenderers\"}},\"id\":\"2971\",\"type\":\"ColumnDataSource\"},{\"attributes\":{},\"id\":\"2961\",\"type\":\"SaveTool\"},{\"attributes\":{},\"id\":\"2905\",\"type\":\"LinearScale\"},{\"attributes\":{\"children\":[[{\"id\":\"2898\",\"subtype\":\"Figure\",\"type\":\"Plot\"},0,0],[{\"id\":\"2937\",\"subtype\":\"Figure\",\"type\":\"Plot\"},0,1]]},\"id\":\"2994\",\"type\":\"GridBox\"},{\"attributes\":{},\"id\":\"2962\",\"type\":\"ResetTool\"},{\"attributes\":{},\"id\":\"2907\",\"type\":\"LinearScale\"},{\"attributes\":{\"text\":\"Crecimiento Monografia de la Bibliografia Nacional\"},\"id\":\"2938\",\"type\":\"Title\"},{\"attributes\":{},\"id\":\"2963\",\"type\":\"HelpTool\"},{\"attributes\":{\"callback\":null},\"id\":\"2940\",\"type\":\"DataRange1d\"},{\"attributes\":{},\"id\":\"2910\",\"type\":\"BasicTicker\"}],\"root_ids\":[\"2997\"]},\"title\":\"Bokeh Application\",\"version\":\"1.4.0\"}};\n",
       "  var render_items = [{\"docid\":\"96f4a910-d99f-4317-9108-0a1649a21db3\",\"roots\":{\"2997\":\"54266eaa-2622-43bf-9020-6c7b81c9f329\"}}];\n",
       "  root.Bokeh.embed.embed_items_notebook(docs_json, render_items);\n",
       "\n",
       "  }\n",
       "  if (root.Bokeh !== undefined) {\n",
       "    embed_document(root);\n",
       "  } else {\n",
       "    var attempts = 0;\n",
       "    var timer = setInterval(function(root) {\n",
       "      if (root.Bokeh !== undefined) {\n",
       "        clearInterval(timer);\n",
       "        embed_document(root);\n",
       "      } else {\n",
       "        attempts++;\n",
       "        if (attempts > 100) {\n",
       "          clearInterval(timer);\n",
       "          console.log(\"Bokeh: ERROR: Unable to run BokehJS code because BokehJS library is missing\");\n",
       "        }\n",
       "      }\n",
       "    }, 10, root)\n",
       "  }\n",
       "})(window);"
      ],
      "application/vnd.bokehjs_exec.v0+json": ""
     },
     "metadata": {
      "application/vnd.bokehjs_exec.v0+json": {
       "id": "2997"
      }
     },
     "output_type": "display_data"
    }
   ],
   "source": [
    "xb = df['Periodo'].astype(int)\n",
    "yb = df['Cartografia'].astype(float)\n",
    "ya = df['Musica_impresa'].astype(float)\n",
    "\n",
    "#FIgura 1\n",
    "p1 = figure(width=450, plot_height=250, title = \"Crecimiento Cartografia de la Bibliografia Nacional\")\n",
    "p1.square(x=xb, y=yb, color=\"navy\", line_width=2)\n",
    "#p1.line(x=xb, y=yb, color=\"navy\", line_width=2)\n",
    "p1.xaxis.axis_label = 'Periodo'\n",
    "p1.yaxis.axis_label = 'Cartografia'\n",
    "p1.outline_line_width = 7\n",
    "p1.outline_line_alpha = 0.3\n",
    "p1.outline_line_color = \"navy\"\n",
    "p1.xgrid.band_hatch_scale = 10\n",
    "\n",
    "#Figura 2\n",
    "p2 = figure(width=450, plot_height=250, title = \"Crecimiento Monografia de la Bibliografia Nacional\")\n",
    "p2.triangle(x=xb, y=ya, color=\"firebrick\", line_width=2)\n",
    "#p2.line(x=xb, y=ya, color=\"firebrick\", line_width=2)\n",
    "p2.xaxis.axis_label = 'Periodo'\n",
    "p2.yaxis.axis_label = 'Monografia'\n",
    "p2.outline_line_width = 7\n",
    "p2.outline_line_alpha = 0.3\n",
    "p2.outline_line_color = \"firebrick\"\n",
    "p2.xgrid.band_hatch_scale = 10\n",
    "\n",
    "\n",
    "p = gridplot([[p1, p2]])\n",
    "\n",
    "show(p)\n"
   ]
  },
  {
   "cell_type": "markdown",
   "metadata": {},
   "source": [
    "<img src=\"https://www.zamzar.com/download.php?uid=93a2344733de5bca4aae5e41cbedf4d-b2c22cfd21488d66&targetId=pmVo4ovEokn3e0OeWCcFSQ_I_I&fileID=p1e1csvnv310e018k1gab1hck1ba94.gif\">"
   ]
  }
 ],
 "metadata": {
  "kernelspec": {
   "display_name": "Python 2",
   "language": "python",
   "name": "python2"
  },
  "language_info": {
   "codemirror_mode": {
    "name": "ipython",
    "version": 3
   },
   "file_extension": ".py",
   "mimetype": "text/x-python",
   "name": "python",
   "nbconvert_exporter": "python",
   "pygments_lexer": "ipython3",
   "version": "3.6.9"
  }
 },
 "nbformat": 4,
 "nbformat_minor": 2
}
