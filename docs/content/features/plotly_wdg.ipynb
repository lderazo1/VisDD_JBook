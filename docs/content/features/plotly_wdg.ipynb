{
 "cells": [
  {
   "cell_type": "markdown",
   "metadata": {},
   "source": [
    "<img src=\"https://www.utpl.edu.ec/manual_imagen/images/institucional/UTPL-INSTITUCIONAL-color.jpg\" style = \"width:510px;height:180px\">"
   ]
  },
  {
   "cell_type": "markdown",
   "metadata": {
    "slideshow": {
     "slide_type": "-"
    }
   },
   "source": [
    "<H1 style=\"text-align: center;\">Plotly Widgets</H1>"
   ]
  },
  {
   "cell_type": "markdown",
   "metadata": {},
   "source": [
    "<p style=\"text-align: justify;\">Plotly widgets representa una forma interactiva de analizar datos que son obtenidos desde diferentes orígenes, funciona en base a la librerìa de visualización de datos Plotly y hace uso de los siguientes recursos para su ejecución</p>"
   ]
  },
  {
   "cell_type": "markdown",
   "metadata": {
    "slideshow": {
     "slide_type": "-"
    }
   },
   "source": [
    "<H1 style=\"text-align: left;\">Generación de Gráficas</H1>"
   ]
  },
  {
   "cell_type": "markdown",
   "metadata": {},
   "source": [
    "<p style=\"text-align: justify;\">Para la generación de cualquier gráfica, necesitamos hacer uso de librerías que nos permiten utilizar los diferentes componentes de Plotly en este caso</p>"
   ]
  },
  {
   "cell_type": "code",
   "execution_count": 1,
   "metadata": {},
   "outputs": [],
   "source": [
    "import datetime\n",
    "import numpy as np\n",
    "import plotly.graph_objects as go\n",
    "from ipywidgets import widgets\n",
    "import chart_studio.plotly as py\n",
    "from plotly.graph_objs import Scatter, Layout, Figure, Data, Stream, YAxis, Marker"
   ]
  },
  {
   "cell_type": "markdown",
   "metadata": {},
   "source": [
    "<p style=\"text-align: justify;\">Para acceder a la colección almacenada en MongoDB requerimos hacer uso de las siguientes librerías</p>"
   ]
  },
  {
   "cell_type": "code",
   "execution_count": 2,
   "metadata": {},
   "outputs": [],
   "source": [
    "import os # crear interfaz\n",
    "import sys # conexion a host\n",
    "import pymongo # API MongoDB\n",
    "import pandas as pd\n",
    "from pymongo import MongoClient"
   ]
  },
  {
   "cell_type": "markdown",
   "metadata": {},
   "source": [
    "<p style=\"text-align: justify;\">Conexión a cliente MongoDB</p>"
   ]
  },
  {
   "cell_type": "code",
   "execution_count": 3,
   "metadata": {},
   "outputs": [],
   "source": [
    "mongoClient = MongoClient('localhost',27017) #Conexión a localHost\n",
    "db = mongoClient.gp #Base de datos GP\n",
    "collection = db.vuelos #Colección Vuelos"
   ]
  },
  {
   "cell_type": "markdown",
   "metadata": {},
   "source": [
    "<p style=\"text-align: justify;\">Conexión a Plotly</p>"
   ]
  },
  {
   "cell_type": "code",
   "execution_count": 4,
   "metadata": {},
   "outputs": [],
   "source": [
    "py.sign_in('lderazo1', 'TtDeC4A54WSSm0pNWMD8')"
   ]
  },
  {
   "cell_type": "markdown",
   "metadata": {},
   "source": [
    "<p style=\"text-align: justify;\">Generación DataFrame</p>"
   ]
  },
  {
   "cell_type": "code",
   "execution_count": 5,
   "metadata": {},
   "outputs": [],
   "source": [
    "df = pd.DataFrame(list(collection.find()))"
   ]
  },
  {
   "cell_type": "markdown",
   "metadata": {},
   "source": [
    "<p style=\"text-align: justify;\">El siguiente archivo hace referencia a los vuelos realizados en estados unidos, especìficamente en New York durante el año 2013</p>"
   ]
  },
  {
   "cell_type": "markdown",
   "metadata": {},
   "source": [
    "<p style=\"text-align: justify;\">Inicializamos y limitamos los componentes de los cuales haremos uso para la generaciòn de la gráfica</p>"
   ]
  },
  {
   "cell_type": "code",
   "execution_count": 6,
   "metadata": {
    "scrolled": true
   },
   "outputs": [
    {
     "data": {
      "text/html": [
       "<div>\n",
       "<style scoped>\n",
       "    .dataframe tbody tr th:only-of-type {\n",
       "        vertical-align: middle;\n",
       "    }\n",
       "\n",
       "    .dataframe tbody tr th {\n",
       "        vertical-align: top;\n",
       "    }\n",
       "\n",
       "    .dataframe thead th {\n",
       "        text-align: right;\n",
       "    }\n",
       "</style>\n",
       "<table border=\"1\" class=\"dataframe\">\n",
       "  <thead>\n",
       "    <tr style=\"text-align: right;\">\n",
       "      <th></th>\n",
       "      <th>_id</th>\n",
       "      <th>year</th>\n",
       "      <th>month</th>\n",
       "      <th>day</th>\n",
       "      <th>dep_time</th>\n",
       "      <th>dep_delay</th>\n",
       "      <th>arr_time</th>\n",
       "      <th>arr_delay</th>\n",
       "      <th>carrier</th>\n",
       "      <th>tailnum</th>\n",
       "      <th>flight</th>\n",
       "      <th>origin</th>\n",
       "      <th>dest</th>\n",
       "      <th>air_time</th>\n",
       "      <th>distance</th>\n",
       "      <th>hour</th>\n",
       "      <th>minute</th>\n",
       "    </tr>\n",
       "  </thead>\n",
       "  <tbody>\n",
       "    <tr>\n",
       "      <th>0</th>\n",
       "      <td>5e45b7fc5f6b5037bf9b4cbe</td>\n",
       "      <td>2013</td>\n",
       "      <td>1</td>\n",
       "      <td>1</td>\n",
       "      <td>517</td>\n",
       "      <td>2</td>\n",
       "      <td>830</td>\n",
       "      <td>11</td>\n",
       "      <td>UA</td>\n",
       "      <td>N14228</td>\n",
       "      <td>1545</td>\n",
       "      <td>EWR</td>\n",
       "      <td>IAH</td>\n",
       "      <td>227</td>\n",
       "      <td>1400</td>\n",
       "      <td>5</td>\n",
       "      <td>17</td>\n",
       "    </tr>\n",
       "    <tr>\n",
       "      <th>1</th>\n",
       "      <td>5e45b7fc5f6b5037bf9b4cbf</td>\n",
       "      <td>2013</td>\n",
       "      <td>1</td>\n",
       "      <td>1</td>\n",
       "      <td>533</td>\n",
       "      <td>4</td>\n",
       "      <td>850</td>\n",
       "      <td>20</td>\n",
       "      <td>UA</td>\n",
       "      <td>N24211</td>\n",
       "      <td>1714</td>\n",
       "      <td>LGA</td>\n",
       "      <td>IAH</td>\n",
       "      <td>227</td>\n",
       "      <td>1416</td>\n",
       "      <td>5</td>\n",
       "      <td>33</td>\n",
       "    </tr>\n",
       "    <tr>\n",
       "      <th>2</th>\n",
       "      <td>5e45b7fc5f6b5037bf9b4cc0</td>\n",
       "      <td>2013</td>\n",
       "      <td>1</td>\n",
       "      <td>1</td>\n",
       "      <td>542</td>\n",
       "      <td>2</td>\n",
       "      <td>923</td>\n",
       "      <td>33</td>\n",
       "      <td>AA</td>\n",
       "      <td>N619AA</td>\n",
       "      <td>1141</td>\n",
       "      <td>JFK</td>\n",
       "      <td>MIA</td>\n",
       "      <td>160</td>\n",
       "      <td>1089</td>\n",
       "      <td>5</td>\n",
       "      <td>42</td>\n",
       "    </tr>\n",
       "    <tr>\n",
       "      <th>3</th>\n",
       "      <td>5e45b7fc5f6b5037bf9b4cc1</td>\n",
       "      <td>2013</td>\n",
       "      <td>1</td>\n",
       "      <td>1</td>\n",
       "      <td>544</td>\n",
       "      <td>-1</td>\n",
       "      <td>1004</td>\n",
       "      <td>-18</td>\n",
       "      <td>B6</td>\n",
       "      <td>N804JB</td>\n",
       "      <td>725</td>\n",
       "      <td>JFK</td>\n",
       "      <td>BQN</td>\n",
       "      <td>183</td>\n",
       "      <td>1576</td>\n",
       "      <td>5</td>\n",
       "      <td>44</td>\n",
       "    </tr>\n",
       "    <tr>\n",
       "      <th>4</th>\n",
       "      <td>5e45b7fc5f6b5037bf9b4cc2</td>\n",
       "      <td>2013</td>\n",
       "      <td>1</td>\n",
       "      <td>1</td>\n",
       "      <td>554</td>\n",
       "      <td>-6</td>\n",
       "      <td>812</td>\n",
       "      <td>-25</td>\n",
       "      <td>DL</td>\n",
       "      <td>N668DN</td>\n",
       "      <td>461</td>\n",
       "      <td>LGA</td>\n",
       "      <td>ATL</td>\n",
       "      <td>116</td>\n",
       "      <td>762</td>\n",
       "      <td>5</td>\n",
       "      <td>54</td>\n",
       "    </tr>\n",
       "  </tbody>\n",
       "</table>\n",
       "</div>"
      ],
      "text/plain": [
       "                        _id  year month day dep_time dep_delay arr_time  \\\n",
       "0  5e45b7fc5f6b5037bf9b4cbe  2013     1   1      517         2      830   \n",
       "1  5e45b7fc5f6b5037bf9b4cbf  2013     1   1      533         4      850   \n",
       "2  5e45b7fc5f6b5037bf9b4cc0  2013     1   1      542         2      923   \n",
       "3  5e45b7fc5f6b5037bf9b4cc1  2013     1   1      544        -1     1004   \n",
       "4  5e45b7fc5f6b5037bf9b4cc2  2013     1   1      554        -6      812   \n",
       "\n",
       "  arr_delay carrier tailnum flight origin dest air_time distance hour minute  \n",
       "0        11      UA  N14228   1545    EWR  IAH      227     1400    5     17  \n",
       "1        20      UA  N24211   1714    LGA  IAH      227     1416    5     33  \n",
       "2        33      AA  N619AA   1141    JFK  MIA      160     1089    5     42  \n",
       "3       -18      B6  N804JB    725    JFK  BQN      183     1576    5     44  \n",
       "4       -25      DL  N668DN    461    LGA  ATL      116      762    5     54  "
      ]
     },
     "execution_count": 6,
     "metadata": {},
     "output_type": "execute_result"
    }
   ],
   "source": [
    "df.head()"
   ]
  },
  {
   "cell_type": "markdown",
   "metadata": {},
   "source": [
    "<p style=\"text-align: justify;\"><b>Fuente: </b>GitHub [Conjunto de datos]. Tomado de usuario Yankev.<br><b>URL: </b><a>https://raw.githubusercontent.com/yankev/testing/master/datasets/nycflights.csv/</a></p>"
   ]
  },
  {
   "cell_type": "markdown",
   "metadata": {
    "slideshow": {
     "slide_type": "-"
    }
   },
   "source": [
    "<H1 style=\"text-align: left;\">Creación de Componentes</H1>"
   ]
  },
  {
   "cell_type": "markdown",
   "metadata": {},
   "source": [
    "<p style=\"text-align: justify;\">Generación de un Slider en base a los meses del año</p>"
   ]
  },
  {
   "cell_type": "code",
   "execution_count": 7,
   "metadata": {},
   "outputs": [],
   "source": [
    "mes = widgets.IntSlider(\n",
    "    value=1.0,\n",
    "    min=1.0,\n",
    "    max=12.0,\n",
    "    step=1.0,\n",
    "    description='Mes:',\n",
    "    continuous_update=False\n",
    ")"
   ]
  },
  {
   "cell_type": "markdown",
   "metadata": {},
   "source": [
    "<p style=\"text-align: justify;\">Generación de un CheckBox, en este caso será para que el usuario controle si gusta filtrar o no por fecha la cantidad de vuelos</p>"
   ]
  },
  {
   "cell_type": "code",
   "execution_count": 8,
   "metadata": {},
   "outputs": [],
   "source": [
    "fecha = widgets.Checkbox(\n",
    "    description='Fecha: ',\n",
    "    value=True,\n",
    ")"
   ]
  },
  {
   "cell_type": "markdown",
   "metadata": {},
   "source": [
    "<p style=\"text-align: justify;\">Generación del contenedor superior que controlará tanto la fecha como los meses de vuelos</p>"
   ]
  },
  {
   "cell_type": "code",
   "execution_count": 9,
   "metadata": {},
   "outputs": [],
   "source": [
    "contUno = widgets.HBox(children=[fecha, mes])"
   ]
  },
  {
   "cell_type": "markdown",
   "metadata": {},
   "source": [
    "<p style=\"text-align: justify;\">Se genera las listas despegables, mediante los campos unicos que formarán parte de nuestra lista de filtrado, en este caso Aereolineas</p>"
   ]
  },
  {
   "cell_type": "code",
   "execution_count": 10,
   "metadata": {},
   "outputs": [],
   "source": [
    "aerolinea = widgets.Dropdown(\n",
    "    description='Aereolinea:   ',\n",
    "    value='DL',\n",
    "    options=df['carrier'].unique().tolist()\n",
    ")"
   ]
  },
  {
   "cell_type": "markdown",
   "metadata": {},
   "source": [
    "<p style=\"text-align: justify;\">Se genera las listas despegables, mediante los campos unicos que formarán parte de nuestra lista de filtrado, en este caso Aereopuerto de Origen</p>"
   ]
  },
  {
   "cell_type": "code",
   "execution_count": 20,
   "metadata": {},
   "outputs": [],
   "source": [
    "origen = widgets.Dropdown(\n",
    "    options=list(df['origin'].unique()),\n",
    "    value='LGA',\n",
    "    description='Aereopuerto de Origen:',\n",
    ")"
   ]
  },
  {
   "cell_type": "markdown",
   "metadata": {},
   "source": [
    "<p style=\"text-align: justify;\">Generación de layout vacío, y especificación del tipo de gráfica a representar (Histogramas de retraso en llegada y salida)</p>"
   ]
  },
  {
   "cell_type": "code",
   "execution_count": 21,
   "metadata": {},
   "outputs": [],
   "source": [
    "histUno = go.Histogram(x=df['arr_delay'], opacity=0.75, name='Retraso en llegada')\n",
    "histDos = go.Histogram(x=df['dep_delay'], opacity=0.75, name='Retraso en salida')\n",
    "g = go.FigureWidget(data=[histUno, histDos],layout = go.Layout(title=dict(text='Base de datos de vuelos en la ciudad de Nueva York'),barmode='overlay'))"
   ]
  },
  {
   "cell_type": "markdown",
   "metadata": {},
   "source": [
    "<p style=\"text-align: justify;\">Validación que es realizada con el fin de verificar los campos ùnicos</p>"
   ]
  },
  {
   "cell_type": "code",
   "execution_count": 22,
   "metadata": {},
   "outputs": [],
   "source": [
    "def validacion():\n",
    "    if origin.value in df['origin'].unique() and textbox.value in df['carrier'].unique():\n",
    "        return True\n",
    "    else:\n",
    "        return False"
   ]
  },
  {
   "cell_type": "markdown",
   "metadata": {},
   "source": [
    "<p style=\"text-align: justify;\">En este caso, tanto los mètodos de validación como de respuesta son llamados una vez el usuario interactùa con los componentes de la gráfica (checkbox, slider y dropDown list)</p>"
   ]
  },
  {
   "cell_type": "code",
   "execution_count": 23,
   "metadata": {},
   "outputs": [],
   "source": [
    "def respuesta(change):\n",
    "    if validacion():\n",
    "        if fecha.value:\n",
    "            filter_list = [i and j and k for i, j, k in zip(df['month'] == mes.value, df['carrier'] == aerolinea.value, df['origin'] == origen.value)]\n",
    "            temp_df = df[filter_list]\n",
    "\n",
    "        else:\n",
    "            filter_list = [i and j for i, j in zip(df['carrier'] == 'DL', df['origin'] == origen.value)]\n",
    "            temp_df = df[filter_list]\n",
    "        x1 = temp_df['arr_delay']\n",
    "        x2 = temp_df['dep_delay']\n",
    "        with g.batch_update():\n",
    "            g.data[0].x = x1\n",
    "            g.data[1].x = x2\n",
    "            g.layout.barmode = 'overlay'\n",
    "            g.layout.xaxis.title = 'Retraso en minutos'\n",
    "            g.layout.yaxis.title = 'Numero de retrasos'"
   ]
  },
  {
   "cell_type": "markdown",
   "metadata": {},
   "source": [
    "<p style=\"text-align: justify;\">Mediante observe, el componente queda expectante a que el usuario interactùe en la gráfica, de esta forma se generan los valores que pueden ser visualizados en tiempo real, otro aspecto a tomar en cuenta es que si el usuario decide no interactuar en el sistema se muestran los valores por defecto que le corresponden al aereopuerto LGA y la aereolìnea DL.</p>"
   ]
  },
  {
   "cell_type": "code",
   "execution_count": 24,
   "metadata": {},
   "outputs": [],
   "source": [
    "origen.observe(respuesta, names=\"value\")\n",
    "aerolinea.observe(respuesta, names=\"value\")\n",
    "mes.observe(respuesta, names=\"value\")\n",
    "fecha.observe(respuesta, names=\"value\")"
   ]
  },
  {
   "cell_type": "code",
   "execution_count": 26,
   "metadata": {},
   "outputs": [
    {
     "data": {
      "application/vnd.jupyter.widget-view+json": {
       "model_id": "5167133564c24a1ba744c807e2c9e407",
       "version_major": 2,
       "version_minor": 0
      },
      "text/plain": [
       "VBox(children=(HBox(children=(Checkbox(value=True, description='Fecha: '), IntSlider(value=8, continuous_updat…"
      ]
     },
     "metadata": {},
     "output_type": "display_data"
    }
   ],
   "source": [
    "contDos = widgets.HBox([origen, aerolinea])\n",
    "widgets.VBox([contUno,contDos,g])"
   ]
  },
  {
   "cell_type": "markdown",
   "metadata": {},
   "source": [
    "<img src=\"https://cloud.githubusercontent.com/assets/12302455/16637308/4e476280-43ac-11e6-9fd3-ada2c9506ee1.gif\">"
   ]
  }
 ],
 "metadata": {
  "kernelspec": {
   "display_name": "Python 3",
   "language": "python",
   "name": "python3"
  },
  "language_info": {
   "codemirror_mode": {
    "name": "ipython",
    "version": 3
   },
   "file_extension": ".py",
   "mimetype": "text/x-python",
   "name": "python",
   "nbconvert_exporter": "python",
   "pygments_lexer": "ipython3",
   "version": "3.6.9"
  }
 },
 "nbformat": 4,
 "nbformat_minor": 4
}
