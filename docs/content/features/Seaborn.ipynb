{
 "cells": [
  {
   "cell_type": "markdown",
   "metadata": {},
   "source": [
    "<img src=\"https://www.utpl.edu.ec/manual_imagen/images/institucional/UTPL-INSTITUCIONAL-color.jpg\" style = \"width:510px;height:180px\">"
   ]
  },
  {
   "cell_type": "markdown",
   "metadata": {
    "slideshow": {
     "slide_type": "-"
    }
   },
   "source": [
    "<H1 style=\"text-align: center;\"> Uso Librería Seaborn </H1>"
   ]
  },
  {
   "cell_type": "markdown",
   "metadata": {},
   "source": [
    "<p style=\"text-align: justify;\">Seaborn es una librería para Python que permite generar fácilmente elegantes gráficos. Seaborn esta basada en matplotlib y proporciona una interfaz de alto nivel que es realmente sencilla de aprender.</p>"
   ]
  },
  {
   "cell_type": "code",
   "execution_count": 15,
   "metadata": {},
   "outputs": [],
   "source": [
    "import matplotlib.pyplot as plt\n",
    "import numpy as np\n",
    "import seaborn as sns"
   ]
  },
  {
   "cell_type": "markdown",
   "metadata": {},
   "source": [
    "<p style=\"text-align: justify;\">Para acceder a la colección almacenada en MongoDB requerimos hacer uso de las siguientes librerías</p>"
   ]
  },
  {
   "cell_type": "code",
   "execution_count": 16,
   "metadata": {},
   "outputs": [],
   "source": [
    "import os # crear interfaz\n",
    "import sys # conexion a host\n",
    "import pymongo # API MongoDB\n",
    "import pandas as pd\n",
    "from pymongo import MongoClient"
   ]
  },
  {
   "cell_type": "markdown",
   "metadata": {},
   "source": [
    "<p style=\"text-align: justify;\">Conexión a cliente MongoDB</p>"
   ]
  },
  {
   "cell_type": "code",
   "execution_count": 17,
   "metadata": {},
   "outputs": [],
   "source": [
    "mongoClient = MongoClient('localhost',27017) #Conexión a localHost\n",
    "db = mongoClient.gp #Base de datos GP\n",
    "collection = db.condicionesAtmosfericas #Colección bibliografía nacional"
   ]
  },
  {
   "cell_type": "markdown",
   "metadata": {},
   "source": [
    "<p style=\"text-align: justify;\">Generación DataFrame</p>"
   ]
  },
  {
   "cell_type": "code",
   "execution_count": 18,
   "metadata": {},
   "outputs": [],
   "source": [
    "df = pd.DataFrame(list(collection.find()))"
   ]
  },
  {
   "cell_type": "markdown",
   "metadata": {},
   "source": [
    "<p style=\"text-align: justify;\">El presente documento hace referencia a las condiciones atmosféricas en la ciudad de México</p>"
   ]
  },
  {
   "cell_type": "code",
   "execution_count": 19,
   "metadata": {
    "scrolled": true
   },
   "outputs": [
    {
     "data": {
      "text/html": [
       "<div>\n",
       "<style scoped>\n",
       "    .dataframe tbody tr th:only-of-type {\n",
       "        vertical-align: middle;\n",
       "    }\n",
       "\n",
       "    .dataframe tbody tr th {\n",
       "        vertical-align: top;\n",
       "    }\n",
       "\n",
       "    .dataframe thead th {\n",
       "        text-align: right;\n",
       "    }\n",
       "</style>\n",
       "<table border=\"1\" class=\"dataframe\">\n",
       "  <thead>\n",
       "    <tr style=\"text-align: right;\">\n",
       "      <th></th>\n",
       "      <th>_id</th>\n",
       "      <th>cityid</th>\n",
       "      <th>validdateutc</th>\n",
       "      <th>winddirectioncardinal</th>\n",
       "      <th>probabilityofprecip</th>\n",
       "      <th>relativehumidity</th>\n",
       "      <th>name</th>\n",
       "      <th>date-insert</th>\n",
       "      <th>longitude</th>\n",
       "      <th>state</th>\n",
       "      <th>lastreporttime</th>\n",
       "      <th>skydescriptionlong</th>\n",
       "      <th>stateabbr</th>\n",
       "      <th>tempc</th>\n",
       "      <th>latitude</th>\n",
       "      <th>iconcode</th>\n",
       "      <th>windspeedkm</th>\n",
       "    </tr>\n",
       "  </thead>\n",
       "  <tbody>\n",
       "    <tr>\n",
       "      <th>0</th>\n",
       "      <td>5952983359954a0adbf7ab09</td>\n",
       "      <td>MXAS0002</td>\n",
       "      <td>20170627T140000Z</td>\n",
       "      <td>SSE</td>\n",
       "      <td>40</td>\n",
       "      <td>90</td>\n",
       "      <td>Aguascalientes</td>\n",
       "      <td>2017-06-27T17:36:43.084Z</td>\n",
       "      <td>-102.296</td>\n",
       "      <td>Aguascalientes</td>\n",
       "      <td>20170627T092449Z</td>\n",
       "      <td>Tormentas dispersas</td>\n",
       "      <td>AGU</td>\n",
       "      <td>17</td>\n",
       "      <td>21.87982</td>\n",
       "      <td>96</td>\n",
       "      <td>6</td>\n",
       "    </tr>\n",
       "    <tr>\n",
       "      <th>1</th>\n",
       "      <td>5952983359954a0adbf7ab0a</td>\n",
       "      <td>MXAS0170</td>\n",
       "      <td>20170627T140000Z</td>\n",
       "      <td>S</td>\n",
       "      <td>60</td>\n",
       "      <td>91</td>\n",
       "      <td>Asientos</td>\n",
       "      <td>2017-06-27T17:36:43.088Z</td>\n",
       "      <td>-102.0893</td>\n",
       "      <td>Aguascalientes</td>\n",
       "      <td>20170627T092453Z</td>\n",
       "      <td>Tormentas dispersas</td>\n",
       "      <td>AGU</td>\n",
       "      <td>15</td>\n",
       "      <td>22.23832</td>\n",
       "      <td>96</td>\n",
       "      <td>5</td>\n",
       "    </tr>\n",
       "    <tr>\n",
       "      <th>2</th>\n",
       "      <td>5952983359954a0adbf7ab0b</td>\n",
       "      <td>MXAS0171</td>\n",
       "      <td>20170627T140000Z</td>\n",
       "      <td>E</td>\n",
       "      <td>60</td>\n",
       "      <td>84</td>\n",
       "      <td>Calvillo</td>\n",
       "      <td>2017-06-27T17:36:43.088Z</td>\n",
       "      <td>-102.7188</td>\n",
       "      <td>Aguascalientes</td>\n",
       "      <td>20170627T092453Z</td>\n",
       "      <td>Tormentas dispersas</td>\n",
       "      <td>AGU</td>\n",
       "      <td>19</td>\n",
       "      <td>21.84691</td>\n",
       "      <td>96</td>\n",
       "      <td>2</td>\n",
       "    </tr>\n",
       "    <tr>\n",
       "      <th>3</th>\n",
       "      <td>5952983359954a0adbf7ab0c</td>\n",
       "      <td>MXAS0172</td>\n",
       "      <td>20170627T140000Z</td>\n",
       "      <td>S</td>\n",
       "      <td>50</td>\n",
       "      <td>83</td>\n",
       "      <td>Cosío</td>\n",
       "      <td>2017-06-27T17:36:43.088Z</td>\n",
       "      <td>-102.3</td>\n",
       "      <td>Aguascalientes</td>\n",
       "      <td>20170627T092453Z</td>\n",
       "      <td>Tormentas dispersas</td>\n",
       "      <td>AGU</td>\n",
       "      <td>17</td>\n",
       "      <td>22.36641</td>\n",
       "      <td>96</td>\n",
       "      <td>3</td>\n",
       "    </tr>\n",
       "    <tr>\n",
       "      <th>4</th>\n",
       "      <td>5952983359954a0adbf7ab0d</td>\n",
       "      <td>MXAS0173</td>\n",
       "      <td>20170627T140000Z</td>\n",
       "      <td>SSO</td>\n",
       "      <td>50</td>\n",
       "      <td>84</td>\n",
       "      <td>El Llano</td>\n",
       "      <td>2017-06-27T17:36:43.089Z</td>\n",
       "      <td>-101.9653</td>\n",
       "      <td>Aguascalientes</td>\n",
       "      <td>20170627T092453Z</td>\n",
       "      <td>Tormentas dispersas</td>\n",
       "      <td>AGU</td>\n",
       "      <td>17</td>\n",
       "      <td>21.91887</td>\n",
       "      <td>96</td>\n",
       "      <td>3</td>\n",
       "    </tr>\n",
       "  </tbody>\n",
       "</table>\n",
       "</div>"
      ],
      "text/plain": [
       "                        _id    cityid      validdateutc winddirectioncardinal  \\\n",
       "0  5952983359954a0adbf7ab09  MXAS0002  20170627T140000Z                   SSE   \n",
       "1  5952983359954a0adbf7ab0a  MXAS0170  20170627T140000Z                     S   \n",
       "2  5952983359954a0adbf7ab0b  MXAS0171  20170627T140000Z                     E   \n",
       "3  5952983359954a0adbf7ab0c  MXAS0172  20170627T140000Z                     S   \n",
       "4  5952983359954a0adbf7ab0d  MXAS0173  20170627T140000Z                   SSO   \n",
       "\n",
       "  probabilityofprecip relativehumidity            name  \\\n",
       "0                  40               90  Aguascalientes   \n",
       "1                  60               91        Asientos   \n",
       "2                  60               84        Calvillo   \n",
       "3                  50               83           Cosío   \n",
       "4                  50               84        El Llano   \n",
       "\n",
       "                date-insert  longitude           state    lastreporttime  \\\n",
       "0  2017-06-27T17:36:43.084Z   -102.296  Aguascalientes  20170627T092449Z   \n",
       "1  2017-06-27T17:36:43.088Z  -102.0893  Aguascalientes  20170627T092453Z   \n",
       "2  2017-06-27T17:36:43.088Z  -102.7188  Aguascalientes  20170627T092453Z   \n",
       "3  2017-06-27T17:36:43.088Z     -102.3  Aguascalientes  20170627T092453Z   \n",
       "4  2017-06-27T17:36:43.089Z  -101.9653  Aguascalientes  20170627T092453Z   \n",
       "\n",
       "    skydescriptionlong stateabbr tempc  latitude iconcode windspeedkm  \n",
       "0  Tormentas dispersas       AGU    17  21.87982       96           6  \n",
       "1  Tormentas dispersas       AGU    15  22.23832       96           5  \n",
       "2  Tormentas dispersas       AGU    19  21.84691       96           2  \n",
       "3  Tormentas dispersas       AGU    17  22.36641       96           3  \n",
       "4  Tormentas dispersas       AGU    17  21.91887       96           3  "
      ]
     },
     "execution_count": 19,
     "metadata": {},
     "output_type": "execute_result"
    }
   ],
   "source": [
    "df.head()"
   ]
  },
  {
   "cell_type": "markdown",
   "metadata": {},
   "source": [
    "<p style=\"text-align: justify;\"><b>Fuente: </b>GobMX, Metadata disponible para todo público. [Conjunto de datos]. Versión de enero de 2019.<br><b>URL: </b><a>hhttps://datos.gob.mx/</a></p>"
   ]
  },
  {
   "cell_type": "code",
   "execution_count": 20,
   "metadata": {},
   "outputs": [
    {
     "data": {
      "text/plain": [
       "Index(['_id', 'cityid', 'validdateutc', 'winddirectioncardinal',\n",
       "       'probabilityofprecip', 'relativehumidity', 'name', 'date-insert',\n",
       "       'longitude', 'state', 'lastreporttime', 'skydescriptionlong',\n",
       "       'stateabbr', 'tempc', 'latitude', 'iconcode', 'windspeedkm'],\n",
       "      dtype='object')"
      ]
     },
     "execution_count": 20,
     "metadata": {},
     "output_type": "execute_result"
    }
   ],
   "source": [
    "df.keys()"
   ]
  },
  {
   "cell_type": "markdown",
   "metadata": {},
   "source": [
    "<H2 style=\"text-align: center;\">Gráfico de Lineas</H2>"
   ]
  },
  {
   "cell_type": "markdown",
   "metadata": {},
   "source": [
    "<p style=\"text-align: justify;\">Una de las ventajas de seaborn es su versatilidad y como se puede transformar una simple gráfica en algo de mejor visibilidad y presentación.<br>A continuación, una gráfica simple con el uso de matplotlib</p>"
   ]
  },
  {
   "cell_type": "code",
   "execution_count": 21,
   "metadata": {},
   "outputs": [],
   "source": [
    "df1 = df.sort_values(by=['probabilityofprecip'], ascending=False).head(15)"
   ]
  },
  {
   "cell_type": "code",
   "execution_count": 22,
   "metadata": {},
   "outputs": [
    {
     "data": {
      "text/plain": [
       "([<matplotlib.axis.XTick at 0x7f8cc7d4e8d0>,\n",
       "  <matplotlib.axis.XTick at 0x7f8cc7d4b9e8>,\n",
       "  <matplotlib.axis.XTick at 0x7f8cc7d4b828>,\n",
       "  <matplotlib.axis.XTick at 0x7f8cc7d6c908>,\n",
       "  <matplotlib.axis.XTick at 0x7f8ccc540a58>,\n",
       "  <matplotlib.axis.XTick at 0x7f8cc7d71978>,\n",
       "  <matplotlib.axis.XTick at 0x7f8cc7d71ef0>,\n",
       "  <matplotlib.axis.XTick at 0x7f8cc7d71278>,\n",
       "  <matplotlib.axis.XTick at 0x7f8cc7d1d390>,\n",
       "  <matplotlib.axis.XTick at 0x7f8cc7d1da58>,\n",
       "  <matplotlib.axis.XTick at 0x7f8cc7d23080>,\n",
       "  <matplotlib.axis.XTick at 0x7f8cc7d23588>,\n",
       "  <matplotlib.axis.XTick at 0x7f8cc7d23b00>,\n",
       "  <matplotlib.axis.XTick at 0x7f8cc7d2b0f0>,\n",
       "  <matplotlib.axis.XTick at 0x7f8cc7d2b630>],\n",
       " <a list of 15 Text xticklabel objects>)"
      ]
     },
     "execution_count": 22,
     "metadata": {},
     "output_type": "execute_result"
    },
    {
     "data": {
      "image/png": "[encoded data removed]",
      "text/plain": [
       "<Figure size 432x288 with 1 Axes>"
      ]
     },
     "metadata": {
      "needs_background": "light"
     },
     "output_type": "display_data"
    }
   ],
   "source": [
    "%matplotlib inline\n",
    "x = df1['probabilityofprecip']\n",
    "y = df1['name']\n",
    "plt.plot(y,x)\n",
    "plt.title('Probabilidad de Precipitacion por ciudades')\n",
    "plt.xticks(y, rotation='vertical')"
   ]
  }
 ],
 "metadata": {
  "kernelspec": {
   "display_name": "Python 2",
   "language": "python",
   "name": "python2"
  },
  "language_info": {
   "codemirror_mode": {
    "name": "ipython",
    "version": 3
   },
   "file_extension": ".py",
   "mimetype": "text/x-python",
   "name": "python",
   "nbconvert_exporter": "python",
   "pygments_lexer": "ipython3",
   "version": "3.6.9"
  }
 },
 "nbformat": 4,
 "nbformat_minor": 2
}
