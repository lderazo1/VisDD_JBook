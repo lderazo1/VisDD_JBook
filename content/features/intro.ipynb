{
 "cells": [
  {
   "cell_type": "markdown",
   "metadata": {},
   "source": [
    "# Base de Datos NoSQL: MongoDB\n",
    "<br>\n",
    "<img src=\"https://miro.medium.com/max/8334/1*Ta4qktHtO--RMUpnR08mBg.jpeg\" class=\"center\" width=\"600\" height=\"600\">\n",
    "<br>\n",
    "<p style=\"text-align: justify;\"> Es un sistema de base de datos NoSQL orientado a documentos de código abierto y escrito en C++, que en lugar de guardar los datos en tablas lo hace en estructuras de datos BSON (similar a JSON) con un esquema dinámico. Al ser un proyecto de código abierto, sus binarios están disponibles para los sistemas operativos Windows, GNU/Linux, OS X y Solaris y es usado en múltiples proyectos o implementaciones en empresas como MTV Network, Craigslist, BCI o Foursquare.</p> <p>A continuación, procederemos a realizar su instalación en el Sistema Operativo Ubuntu v.19.10</p>"
   ]
  },
  {
   "cell_type": "markdown",
   "metadata": {},
   "source": [
    "<H2 style=\"text-align: center;\"> INSTALACIÓN</H2>"
   ]
  },
  {
   "cell_type": "markdown",
   "metadata": {},
   "source": [
    "<img src=\"https://g.foolcdn.com/image/?url=https%3A%2F%2Fg.foolcdn.com%2Feditorial%2Fimages%2F516823%2Fmongodb-v-oracle.png&w=700&op=resize\" class=\"center\" width=\"600\" height=\"600\">\n",
    "<br>"
   ]
  },
  {
   "cell_type": "markdown",
   "metadata": {},
   "source": [
    "<H2 style=\"text-align: left;\"> Paso 1: Importar el repositorio MongoDB </H2>"
   ]
  },
  {
   "cell_type": "markdown",
   "metadata": {},
   "source": [
    "<p style=\"text-align: justify;\"> Importar la clave pública utilizada por el sistema de gestión de paquetes. Las herramientas de gestión de paquetes de Ubuntu aseguran la consistencia y autenticidad de los paquetes al verificar que están firmados con claves GPG. El siguiente comando importará la clave pública GPG de MongoDB.</p>"
   ]
  },
  {
   "cell_type": "raw",
   "metadata": {},
   "source": [
    "sudo apt-key adv --keyserver hkp://keyserver.ubuntu.com:80 --recv 7F0CEB10"
   ]
  },
  {
   "cell_type": "markdown",
   "metadata": {},
   "source": [
    "Para crear un archivo de lista de fuentes para MongoDB, requerimos del archivo `/etc/apt/sources.list.d/mongodb-org-3.4` tipo `list` utilizando el siguiente comando."
   ]
  },
  {
   "cell_type": "raw",
   "metadata": {},
   "source": [
    "echo \"deb http://repo.mongodb.org/apt/ubuntu xenial/mongodb-org/3.4 multiverse\" | sudo tee /etc/apt/sources.list.d/mongodb-org-3.4.list"
   ]
  },
  {
   "cell_type": "markdown",
   "metadata": {},
   "source": [
    "<p style=\"text-align: justify;\">Actualizar el repositorio local de paquetes</p>"
   ]
  },
  {
   "cell_type": "raw",
   "metadata": {},
   "source": [
    "sudo apt-get update"
   ]
  },
  {
   "cell_type": "markdown",
   "metadata": {},
   "source": [
    "<H2 style=\"text-align: left;\"> Paso 2: Instalar los paquetes de MongoDB</H2>"
   ]
  },
  {
   "cell_type": "markdown",
   "metadata": {},
   "source": [
    "<p style=\"text-align: justify;\">En este caso para trabajar con el software de MongoDB Compass y de 3T en MongoDB, necesitamos de una version en espeífico, para lo cual establecemos el número de versión, de la siguiente forma:</p>"
   ]
  },
  {
   "cell_type": "raw",
   "metadata": {},
   "source": [
    "sudo apt-get install -y mongodb-org=3.4 mongodb-org-server=3.4 mongodb-org-shell=3.4 mongodb-org-mongos=3.4 mongodb-org-tools=3.4"
   ]
  },
  {
   "cell_type": "markdown",
   "metadata": {},
   "source": [
    "<H2 style=\"text-align: left;\"> Paso 3: Lanzar MongoDB como un servicio en Ubuntu 19.10</H2>"
   ]
  },
  {
   "cell_type": "markdown",
   "metadata": {},
   "source": [
    "<p style=\"text-align: justify;\">Necesitamos crear un fichero unitario, que le diga al sistema cómo gestionar un recurso. El tipo de unidad más común permite determinar cómo iniciar o detener el servicio, auto-inicio, etc.<br></p>"
   ]
  },
  {
   "cell_type": "markdown",
   "metadata": {},
   "source": [
    "Procedemos a crear un fichero de configuración llamado `mongodb.service` en `/etc/systemd/system` para gestionar el servicio MongoDB."
   ]
  },
  {
   "cell_type": "raw",
   "metadata": {},
   "source": [
    "sudo vim /etc/systemd/system/mongodb.service"
   ]
  },
  {
   "cell_type": "markdown",
   "metadata": {},
   "source": [
    "<p style=\"text-align: justify;\">Y llenamos el documento con el siguiente contenido:<br></p>"
   ]
  },
  {
   "cell_type": "raw",
   "metadata": {},
   "source": [
    "#Unit contains the dependencies to be satisfied before the service is started.\n",
    "[Unit]\n",
    "Description=MongoDB Database\n",
    "After=network.target\n",
    "Documentation=https://docs.mongodb.org/manual\n",
    "# Service tells systemd, how the service should be started.\n",
    "# Key `User` specifies that the server will run under the mongodb user and\n",
    "# `ExecStart` defines the startup command for MongoDB server.\n",
    "[Service]\n",
    "User=mongodb\n",
    "Group=mongodb\n",
    "ExecStart=/usr/bin/mongod --quiet --config /etc/mongod.conf\n",
    "# Install tells systemd when the service should be automatically started.\n",
    "# `multi-user.target` means the server will be automatically started during boot.\n",
    "[Install]\n",
    "WantedBy=multi-user.target"
   ]
  },
  {
   "cell_type": "markdown",
   "metadata": {},
   "source": [
    "<H2 style=\"text-align: left;\"> Paso 4: Ejecutar MongoDB</H2>"
   ]
  },
  {
   "cell_type": "markdown",
   "metadata": {},
   "source": [
    "Actualice el servicio `systemd` con el comando que se indica a continuación:"
   ]
  },
  {
   "cell_type": "raw",
   "metadata": {},
   "source": [
    "systemctl daemon-reload"
   ]
  },
  {
   "cell_type": "markdown",
   "metadata": {},
   "source": [
    "Inicializamos el servicio de MongoDB mediante `systemctl`:"
   ]
  },
  {
   "cell_type": "raw",
   "metadata": {},
   "source": [
    "sudo systemctl start mongodb"
   ]
  },
  {
   "cell_type": "markdown",
   "metadata": {},
   "source": [
    "Compruebe si mongodb se ha iniciado en el puerto 27017 con el comando `netstat`:"
   ]
  },
  {
   "cell_type": "raw",
   "metadata": {},
   "source": [
    "netstat -plntu"
   ]
  },
  {
   "cell_type": "markdown",
   "metadata": {},
   "source": [
    "<p style=\"text-align: justify;\">Habilitar el arranque automático de MongoDB cuando se inicia el sistema.</p>"
   ]
  },
  {
   "cell_type": "raw",
   "metadata": {},
   "source": [
    " sudo systemctl enable mongodb"
   ]
  },
  {
   "cell_type": "markdown",
   "metadata": {},
   "source": [
    "<img src=\"https://donwebayuda.com/wp-content/uploads/2015/08/consola-2.png\" class=\"left\" width=\"300\" height=\"300\">\n",
    "<br>"
   ]
  },
  {
   "cell_type": "markdown",
   "metadata": {},
   "source": [
    "<H2 style=\"text-align: center;\"> Herramientas para manipulación Colecciones MongoDB</H2>"
   ]
  },
  {
   "cell_type": "markdown",
   "metadata": {},
   "source": [
    "<p style=\"text-align: justify;\">MOngoDB puede ser ejecutado desde consola, en este caso para el común de personas resulta difícil acceder a la misma y dominar los comandos para creación de colecciones y otros. Ante esto, a continuación profundizamos en dos herramientas, las cuales nos permitiran manipulación de colecciones de una forma más sencilla e interesante.</p>"
   ]
  },
  {
   "cell_type": "markdown",
   "metadata": {},
   "source": [
    "<H2 style=\"text-align: left;\">MongoDB Compass</H2>"
   ]
  },
  {
   "cell_type": "markdown",
   "metadata": {},
   "source": [
    "<img src=\"https://miro.medium.com/max/1024/1*-1vAUkfUTsBlq---hkfTgQ.png\" class=\"left\" width=\"300\" height=\"300\">\n",
    "<br>"
   ]
  },
  {
   "cell_type": "markdown",
   "metadata": {},
   "source": [
    "<p style=\"text-align: justify;\">MongoDB Compass analiza sus documentos y muestra las ricas estructuras dentro de sus colecciones a través de una GUI intuitiva. Le permite visualizar y explorar rápidamente su esquema para comprender la frecuencia, tipos y rangos de campos en su conjunto de datos.</p>"
   ]
  },
  {
   "cell_type": "markdown",
   "metadata": {},
   "source": [
    "<H2 style=\"text-align: left;\">Instalación</H2>"
   ]
  },
  {
   "cell_type": "markdown",
   "metadata": {},
   "source": [
    "<p style=\"text-align: justify;\">Mediante RHEL</p>"
   ]
  },
  {
   "cell_type": "markdown",
   "metadata": {},
   "source": [
    "Accedemos al archivo extensión `rpm` que se encuentra en el siguiente [enlace](https://www.mongodb.com/download-center/compass?jmp=docs):"
   ]
  },
  {
   "cell_type": "markdown",
   "metadata": {},
   "source": [
    "<p style=\"text-align: justify;\">Procedemos a realizar la instalación mediante los siguientes comandos</p>"
   ]
  },
  {
   "cell_type": "raw",
   "metadata": {},
   "source": [
    "sudo yum install mongodb-compass-1.17.0.x86_64.rpm"
   ]
  },
  {
   "cell_type": "markdown",
   "metadata": {},
   "source": [
    "<p style=\"text-align: justify;\">Inicializar servicio</p>"
   ]
  },
  {
   "cell_type": "raw",
   "metadata": {},
   "source": [
    "mongodb-compass"
   ]
  },
  {
   "cell_type": "markdown",
   "metadata": {},
   "source": [
    "<p style=\"text-align: justify;\">Mediante archivo tar.gz</p>"
   ]
  },
  {
   "cell_type": "raw",
   "metadata": {},
   "source": [
    "wget https://downloads.mongodb.com/compass/mongodb-compass_1.15.1_amd64.deb"
   ]
  },
  {
   "cell_type": "markdown",
   "metadata": {},
   "source": [
    "<p style=\"text-align: justify;\">Procedemos a descomprimir e instalar</p>"
   ]
  },
  {
   "cell_type": "raw",
   "metadata": {},
   "source": [
    "sudo dpkg -i mongodb-compass_1.15.1_amd64.deb"
   ]
  },
  {
   "cell_type": "markdown",
   "metadata": {},
   "source": [
    "<H2 style=\"text-align: left;\">Studio 3T for MongoDB</H2>"
   ]
  },
  {
   "cell_type": "markdown",
   "metadata": {},
   "source": [
    "<img src=\"https://blog.robomongo.org/content/images/2017/03/variant02.png\" class=\"left\" width=\"400\" height=\"400\">\n",
    "<br>"
   ]
  },
  {
   "cell_type": "markdown",
   "metadata": {},
   "source": [
    "<p style=\"text-align: justify;\">Studio 3T es la interfaz gráfica de usuario profesional, IDE y cliente para MongoDB disponible para Windows, Mac y Linux. Acelera tareas como la creación de consultas, exploración de datos, importación/exportación, generación de código y más - con o sin el conocimiento del lenguaje de consultas de MongoDB.</p>"
   ]
  },
  {
   "cell_type": "markdown",
   "metadata": {},
   "source": [
    "<H2 style=\"text-align: left;\">Instalación</H2>"
   ]
  },
  {
   "cell_type": "markdown",
   "metadata": {},
   "source": [
    "<p style=\"text-align: justify;\">Mediante archivo tar.gz</p>"
   ]
  },
  {
   "cell_type": "markdown",
   "metadata": {},
   "source": [
    "<p style=\"text-align: justify;\">Para sistemas de 64 bits</p>"
   ]
  },
  {
   "cell_type": "raw",
   "metadata": {},
   "source": [
    "tar -xvzf studio-3t-linux-x64.tar.gz\n",
    "sudo yum install mongodb-compass-1.17.0.x86_64.rpm"
   ]
  },
  {
   "cell_type": "markdown",
   "metadata": {},
   "source": [
    "<p style=\"text-align: justify;\">Para sistemas de 32 bits</p>"
   ]
  },
  {
   "cell_type": "raw",
   "metadata": {},
   "source": [
    "tar -xvzf studio-3t-linux-x86.tar.gz\n",
    "sh ./studio-3t-linux-x86.sh"
   ]
  },
  {
   "cell_type": "markdown",
   "metadata": {},
   "source": [
    "<p style=\"text-align: justify;\">Como requisito adicional necesitamos contar con las siguientes librerías instaladas en nuestro entorno virtual</p>"
   ]
  },
  {
   "cell_type": "raw",
   "metadata": {},
   "source": [
    "libswt-gtk-4919.so\n",
    "libswt-pi-gtk-4919.so\n",
    "libswt-pi3-gtk-4919.so\n",
    "libgtk-3.so"
   ]
  },
  {
   "cell_type": "markdown",
   "metadata": {},
   "source": [
    "<p style=\"text-align: justify;\">En caso de contar con la extensión sh instalada, podemos simplificar el proceso e instalarlo de la siguiente forma:</p>"
   ]
  },
  {
   "cell_type": "raw",
   "metadata": {},
   "source": [
    "tar -xvzf studio-3t-linux-x86.tar.gz\n",
    "$ ./studio-3t-linux-x86.sh"
   ]
  }
 ],
 "metadata": {
  "kernelspec": {
   "display_name": "Python 3",
   "language": "python",
   "name": "python3"
  },
  "language_info": {
   "codemirror_mode": {
    "name": "ipython",
    "version": 2
   },
   "file_extension": ".py",
   "mimetype": "text/x-python",
   "name": "python",
   "nbconvert_exporter": "python",
   "pygments_lexer": "ipython2",
   "version": "2.7.16"
  }
 },
 "nbformat": 4,
 "nbformat_minor": 2
}
