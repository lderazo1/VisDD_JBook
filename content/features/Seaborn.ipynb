{
 "cells": [
  {
   "cell_type": "markdown",
   "metadata": {},
   "source": [
    "<img src=\"https://www.utpl.edu.ec/manual_imagen/images/institucional/UTPL-INSTITUCIONAL-color.jpg\" style = \"width:510px;height:180px\">"
   ]
  },
  {
   "cell_type": "markdown",
   "metadata": {
    "slideshow": {
     "slide_type": "-"
    }
   },
   "source": [
    "<H1 style=\"text-align: center;\"> Uso Librería Seaborn </H1>"
   ]
  },
  {
   "cell_type": "markdown",
   "metadata": {},
   "source": [
    "<p style=\"text-align: justify;\">Seaborn es una librería para Python que permite generar fácilmente elegantes gráficos. Seaborn esta basada en matplotlib y proporciona una interfaz de alto nivel que es realmente sencilla de aprender.</p>"
   ]
  },
  {
   "cell_type": "code",
   "execution_count": 1,
   "metadata": {},
   "outputs": [],
   "source": [
    "import matplotlib.pyplot as plt\n",
    "plt.style.use('classic')\n",
    "import numpy as np\n",
    "import pandas as pd\n",
    "import seaborn as sns"
   ]
  },
  {
   "cell_type": "markdown",
   "metadata": {},
   "source": [
    "<p style=\"text-align: justify;\">Lectura Archivo</p>"
   ]
  },
  {
   "cell_type": "code",
   "execution_count": 2,
   "metadata": {},
   "outputs": [],
   "source": [
    "df= pd.read_json('DATA/condiciones-atmosfericas.json')"
   ]
  },
  {
   "cell_type": "markdown",
   "metadata": {},
   "source": [
    "<p style=\"text-align: justify;\">El presente documento hace referencia a las condiciones atmosféricas en la ciudad de México</p>"
   ]
  },
  {
   "cell_type": "code",
   "execution_count": 3,
   "metadata": {
    "scrolled": true
   },
   "outputs": [
    {
     "data": {
      "text/html": [
       "<div>\n",
       "<style scoped>\n",
       "    .dataframe tbody tr th:only-of-type {\n",
       "        vertical-align: middle;\n",
       "    }\n",
       "\n",
       "    .dataframe tbody tr th {\n",
       "        vertical-align: top;\n",
       "    }\n",
       "\n",
       "    .dataframe thead th {\n",
       "        text-align: right;\n",
       "    }\n",
       "</style>\n",
       "<table border=\"1\" class=\"dataframe\">\n",
       "  <thead>\n",
       "    <tr style=\"text-align: right;\">\n",
       "      <th></th>\n",
       "      <th>_id</th>\n",
       "      <th>cityid</th>\n",
       "      <th>date-insert</th>\n",
       "      <th>iconcode</th>\n",
       "      <th>lastreporttime</th>\n",
       "      <th>latitude</th>\n",
       "      <th>longitude</th>\n",
       "      <th>name</th>\n",
       "      <th>probabilityofprecip</th>\n",
       "      <th>relativehumidity</th>\n",
       "      <th>skydescriptionlong</th>\n",
       "      <th>state</th>\n",
       "      <th>stateabbr</th>\n",
       "      <th>tempc</th>\n",
       "      <th>validdateutc</th>\n",
       "      <th>winddirectioncardinal</th>\n",
       "      <th>windspeedkm</th>\n",
       "    </tr>\n",
       "  </thead>\n",
       "  <tbody>\n",
       "    <tr>\n",
       "      <th>0</th>\n",
       "      <td>5952983359954a0adbf7ab09</td>\n",
       "      <td>MXAS0002</td>\n",
       "      <td>2017-06-27T17:36:43.084Z</td>\n",
       "      <td>96</td>\n",
       "      <td>20170627T092449Z</td>\n",
       "      <td>21.87982</td>\n",
       "      <td>-102.2960</td>\n",
       "      <td>Aguascalientes</td>\n",
       "      <td>40</td>\n",
       "      <td>90</td>\n",
       "      <td>Tormentas dispersas</td>\n",
       "      <td>Aguascalientes</td>\n",
       "      <td>AGU</td>\n",
       "      <td>17</td>\n",
       "      <td>20170627T140000Z</td>\n",
       "      <td>SSE</td>\n",
       "      <td>6</td>\n",
       "    </tr>\n",
       "    <tr>\n",
       "      <th>1</th>\n",
       "      <td>5952983359954a0adbf7ab0a</td>\n",
       "      <td>MXAS0170</td>\n",
       "      <td>2017-06-27T17:36:43.088Z</td>\n",
       "      <td>96</td>\n",
       "      <td>20170627T092453Z</td>\n",
       "      <td>22.23832</td>\n",
       "      <td>-102.0893</td>\n",
       "      <td>Asientos</td>\n",
       "      <td>60</td>\n",
       "      <td>91</td>\n",
       "      <td>Tormentas dispersas</td>\n",
       "      <td>Aguascalientes</td>\n",
       "      <td>AGU</td>\n",
       "      <td>15</td>\n",
       "      <td>20170627T140000Z</td>\n",
       "      <td>S</td>\n",
       "      <td>5</td>\n",
       "    </tr>\n",
       "    <tr>\n",
       "      <th>2</th>\n",
       "      <td>5952983359954a0adbf7ab0b</td>\n",
       "      <td>MXAS0171</td>\n",
       "      <td>2017-06-27T17:36:43.088Z</td>\n",
       "      <td>96</td>\n",
       "      <td>20170627T092453Z</td>\n",
       "      <td>21.84691</td>\n",
       "      <td>-102.7188</td>\n",
       "      <td>Calvillo</td>\n",
       "      <td>60</td>\n",
       "      <td>84</td>\n",
       "      <td>Tormentas dispersas</td>\n",
       "      <td>Aguascalientes</td>\n",
       "      <td>AGU</td>\n",
       "      <td>19</td>\n",
       "      <td>20170627T140000Z</td>\n",
       "      <td>E</td>\n",
       "      <td>2</td>\n",
       "    </tr>\n",
       "    <tr>\n",
       "      <th>3</th>\n",
       "      <td>5952983359954a0adbf7ab0c</td>\n",
       "      <td>MXAS0172</td>\n",
       "      <td>2017-06-27T17:36:43.088Z</td>\n",
       "      <td>96</td>\n",
       "      <td>20170627T092453Z</td>\n",
       "      <td>22.36641</td>\n",
       "      <td>-102.3000</td>\n",
       "      <td>Cosío</td>\n",
       "      <td>50</td>\n",
       "      <td>83</td>\n",
       "      <td>Tormentas dispersas</td>\n",
       "      <td>Aguascalientes</td>\n",
       "      <td>AGU</td>\n",
       "      <td>17</td>\n",
       "      <td>20170627T140000Z</td>\n",
       "      <td>S</td>\n",
       "      <td>3</td>\n",
       "    </tr>\n",
       "    <tr>\n",
       "      <th>4</th>\n",
       "      <td>5952983359954a0adbf7ab0d</td>\n",
       "      <td>MXAS0173</td>\n",
       "      <td>2017-06-27T17:36:43.089Z</td>\n",
       "      <td>96</td>\n",
       "      <td>20170627T092453Z</td>\n",
       "      <td>21.91887</td>\n",
       "      <td>-101.9653</td>\n",
       "      <td>El Llano</td>\n",
       "      <td>50</td>\n",
       "      <td>84</td>\n",
       "      <td>Tormentas dispersas</td>\n",
       "      <td>Aguascalientes</td>\n",
       "      <td>AGU</td>\n",
       "      <td>17</td>\n",
       "      <td>20170627T140000Z</td>\n",
       "      <td>SSO</td>\n",
       "      <td>3</td>\n",
       "    </tr>\n",
       "  </tbody>\n",
       "</table>\n",
       "</div>"
      ],
      "text/plain": [
       "                        _id    cityid               date-insert  iconcode  \\\n",
       "0  5952983359954a0adbf7ab09  MXAS0002  2017-06-27T17:36:43.084Z        96   \n",
       "1  5952983359954a0adbf7ab0a  MXAS0170  2017-06-27T17:36:43.088Z        96   \n",
       "2  5952983359954a0adbf7ab0b  MXAS0171  2017-06-27T17:36:43.088Z        96   \n",
       "3  5952983359954a0adbf7ab0c  MXAS0172  2017-06-27T17:36:43.088Z        96   \n",
       "4  5952983359954a0adbf7ab0d  MXAS0173  2017-06-27T17:36:43.089Z        96   \n",
       "\n",
       "     lastreporttime  latitude  longitude            name  probabilityofprecip  \\\n",
       "0  20170627T092449Z  21.87982  -102.2960  Aguascalientes                   40   \n",
       "1  20170627T092453Z  22.23832  -102.0893        Asientos                   60   \n",
       "2  20170627T092453Z  21.84691  -102.7188        Calvillo                   60   \n",
       "3  20170627T092453Z  22.36641  -102.3000           Cosío                   50   \n",
       "4  20170627T092453Z  21.91887  -101.9653        El Llano                   50   \n",
       "\n",
       "   relativehumidity   skydescriptionlong           state stateabbr  tempc  \\\n",
       "0                90  Tormentas dispersas  Aguascalientes       AGU     17   \n",
       "1                91  Tormentas dispersas  Aguascalientes       AGU     15   \n",
       "2                84  Tormentas dispersas  Aguascalientes       AGU     19   \n",
       "3                83  Tormentas dispersas  Aguascalientes       AGU     17   \n",
       "4                84  Tormentas dispersas  Aguascalientes       AGU     17   \n",
       "\n",
       "       validdateutc winddirectioncardinal  windspeedkm  \n",
       "0  20170627T140000Z                   SSE            6  \n",
       "1  20170627T140000Z                     S            5  \n",
       "2  20170627T140000Z                     E            2  \n",
       "3  20170627T140000Z                     S            3  \n",
       "4  20170627T140000Z                   SSO            3  "
      ]
     },
     "execution_count": 3,
     "metadata": {},
     "output_type": "execute_result"
    }
   ],
   "source": [
    "df.head()"
   ]
  },
  {
   "cell_type": "markdown",
   "metadata": {},
   "source": [
    "<p style=\"text-align: justify;\"><b>Fuente: </b>GobMX, Metadata disponible para todo público. [Conjunto de datos]. Versión de enero de 2019.<br><b>URL: </b><a>hhttps://datos.gob.mx/</a></p>"
   ]
  },
  {
   "cell_type": "code",
   "execution_count": 4,
   "metadata": {},
   "outputs": [
    {
     "data": {
      "text/plain": [
       "Index([u'_id', u'cityid', u'date-insert', u'iconcode', u'lastreporttime',\n",
       "       u'latitude', u'longitude', u'name', u'probabilityofprecip',\n",
       "       u'relativehumidity', u'skydescriptionlong', u'state', u'stateabbr',\n",
       "       u'tempc', u'validdateutc', u'winddirectioncardinal', u'windspeedkm'],\n",
       "      dtype='object')"
      ]
     },
     "execution_count": 4,
     "metadata": {},
     "output_type": "execute_result"
    }
   ],
   "source": [
    "df.keys()"
   ]
  },
  {
   "cell_type": "markdown",
   "metadata": {},
   "source": [
    "<H2 style=\"text-align: center;\">Gráfico de Lineas</H2>"
   ]
  },
  {
   "cell_type": "markdown",
   "metadata": {},
   "source": [
    "<p style=\"text-align: justify;\">Una de las ventajas de seaborn es su versatilidad y como se puede transformar una simple gráfica en algo de mejor visibilidad y presentación.<br>A continuación, una gráfica simple con el uso de matplotlib</p>"
   ]
  },
  {
   "cell_type": "code",
   "execution_count": 5,
   "metadata": {},
   "outputs": [],
   "source": [
    "df1 = df.sort_values(by=['probabilityofprecip'], ascending=False).head(15)"
   ]
  },
  {
   "cell_type": "code",
   "execution_count": 8,
   "metadata": {},
   "outputs": [
    {
     "data": {
      "text/plain": [
       "([<matplotlib.axis.XTick at 0x7f781ea09a10>,\n",
       "  <matplotlib.axis.XTick at 0x7f7820b2f510>,\n",
       "  <matplotlib.axis.XTick at 0x7f7820b2f910>,\n",
       "  <matplotlib.axis.XTick at 0x7f781e9b4c90>,\n",
       "  <matplotlib.axis.XTick at 0x7f781e9bf210>,\n",
       "  <matplotlib.axis.XTick at 0x7f781e9bf7d0>,\n",
       "  <matplotlib.axis.XTick at 0x7f781e9bfd90>,\n",
       "  <matplotlib.axis.XTick at 0x7f781e9c8390>,\n",
       "  <matplotlib.axis.XTick at 0x7f781e9c8950>,\n",
       "  <matplotlib.axis.XTick at 0x7f781e9c8f10>,\n",
       "  <matplotlib.axis.XTick at 0x7f781e953510>,\n",
       "  <matplotlib.axis.XTick at 0x7f781e9bf950>,\n",
       "  <matplotlib.axis.XTick at 0x7f781e9531d0>,\n",
       "  <matplotlib.axis.XTick at 0x7f781e953a50>,\n",
       "  <matplotlib.axis.XTick at 0x7f781e95b050>],\n",
       " <a list of 15 Text xticklabel objects>)"
      ]
     },
     "execution_count": 8,
     "metadata": {},
     "output_type": "execute_result"
    },
    {
     "data": {
      "image/png": "[encoded data removed]",
      "text/plain": [
       "<Figure size 432x288 with 1 Axes>"
      ]
     },
     "metadata": {
      "needs_background": "light"
     },
     "output_type": "display_data"
    }
   ],
   "source": [
    "%matplotlib inline\n",
    "x = df1['probabilityofprecip']\n",
    "y = df1['name']\n",
    "plt.plot(y,x)\n",
    "plt.title('Probabilidad de Precipitacion por ciudades')\n",
    "plt.xticks(y, rotation='vertical')"
   ]
  },
  {
   "cell_type": "code",
   "execution_count": 7,
   "metadata": {},
   "outputs": [],
   "source": [
    "#sns.set()\n",
    "#plt.plot(y, x)"
   ]
  },
  {
   "cell_type": "code",
   "execution_count": null,
   "metadata": {},
   "outputs": [],
   "source": []
  }
 ],
 "metadata": {
  "kernelspec": {
   "display_name": "Python 2",
   "language": "python",
   "name": "python2"
  },
  "language_info": {
   "codemirror_mode": {
    "name": "ipython",
    "version": 2
   },
   "file_extension": ".py",
   "mimetype": "text/x-python",
   "name": "python",
   "nbconvert_exporter": "python",
   "pygments_lexer": "ipython2",
   "version": "2.7.16"
  }
 },
 "nbformat": 4,
 "nbformat_minor": 2
}
